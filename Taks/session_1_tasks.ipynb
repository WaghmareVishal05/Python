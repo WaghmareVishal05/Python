{
 "cells": [
  {
   "cell_type": "markdown",
   "metadata": {
    "id": "A05OG15VqOPF"
   },
   "source": [
    "# Task : Session 1\n",
    "Solve these questions own your own and try to test yourself what you have learned in the session.\n",
    "\n",
    "Happy Learning!"
   ]
  },
  {
   "cell_type": "markdown",
   "metadata": {
    "id": "2doIXf8bqe9_"
   },
   "source": [
    "### Q1 :- Print the given strings as per stated format.\n",
    "\n",
    "**Given strings**:\n",
    "```\n",
    "\"Data\" \"Science\" \"Mentorship\" \"Program\"\n",
    "\"By\" \"CampusX\"\n",
    "```\n",
    "**Output**:\n",
    "```\n",
    "Data-Science-Mentorship-Program-started-By-CampusX\n",
    "```\n",
    "\n",
    "Concept- [Seperator and End]"
   ]
  },
  {
   "cell_type": "code",
   "execution_count": 36,
   "metadata": {
    "id": "-em6d3KErDtp"
   },
   "outputs": [
    {
     "name": "stdout",
     "output_type": "stream",
     "text": [
      "Data-Science-Mentorship-Program-By-CampusX\n"
     ]
    }
   ],
   "source": [
    "# Write your code here\n",
    "print(\"Data\",\"Science\",\"Mentorship\",\"Program\",sep='-',end='-')\n",
    "print(\"By\",\"CampusX\",sep='-')"
   ]
  },
  {
   "cell_type": "markdown",
   "metadata": {
    "id": "1KUpN7ZTrC3_"
   },
   "source": [
    "### Q2:- Write a program that will convert celsius value to fahrenheit."
   ]
  },
  {
   "cell_type": "code",
   "execution_count": 40,
   "metadata": {
    "id": "yxKYhYQiqWfj"
   },
   "outputs": [
    {
     "name": "stdout",
     "output_type": "stream",
     "text": [
      "Enter the value in the celsius : 32\n",
      "89.6 f\n"
     ]
    }
   ],
   "source": [
    "# Write your code here\n",
    "c = float(input(\"Enter the value in the celsius : \"))\n",
    "\n",
    "f = (c*9/5)+32\n",
    "print(f,'f')"
   ]
  },
  {
   "cell_type": "markdown",
   "metadata": {
    "id": "RLrOBBJurLB2"
   },
   "source": [
    "### Q3:- Take 2 numbers as input from the user.Write a program to swap the numbers without using any special python syntax."
   ]
  },
  {
   "cell_type": "code",
   "execution_count": 41,
   "metadata": {
    "id": "yPn7if0TrJ4F"
   },
   "outputs": [
    {
     "name": "stdout",
     "output_type": "stream",
     "text": [
      "Enter the first number : 10\n",
      "Enter the second number : 20\n",
      "The first number is : 20\n",
      "The second knumber is : 10\n"
     ]
    }
   ],
   "source": [
    "# Write your code here\n",
    "n1 = int(input(\"Enter the first number : \"))\n",
    "n2 = int(input(\"Enter the second number : \"))\n",
    "\n",
    "n1,n2 = n2,n1\n",
    "\n",
    "# temp = n1\n",
    "# n1 = n2\n",
    "# n2 = temp\n",
    "\n",
    "print(f\"The first number is : {n1}\")\n",
    "print(f\"The second knumber is : {n2}\")"
   ]
  },
  {
   "cell_type": "markdown",
   "metadata": {
    "id": "waLCP1bjr7ML"
   },
   "source": [
    "### Q4:- Write a program to find the euclidean distance between two coordinates.Take both the coordinates from the user as input."
   ]
  },
  {
   "cell_type": "code",
   "execution_count": 42,
   "metadata": {
    "id": "Pl1Sv-xnrxnH"
   },
   "outputs": [
    {
     "name": "stdout",
     "output_type": "stream",
     "text": [
      "Enter the first point x and y co-ordinates : 0 0 \n",
      "Enter the second point x and y co-ordinates : 2 2\n",
      "2.8284271247461903\n"
     ]
    }
   ],
   "source": [
    "# Write your code here\n",
    "import math\n",
    "x1,y1 = input(\"Enter the first point x and y co-ordinates : \").split()\n",
    "x2,y2 = input(\"Enter the second point x and y co-ordinates : \").split()\n",
    "\n",
    "euclidean_distance = math.sqrt(((int(x2)-int(x1))**2)+((int(y2)-int(y1))**2))\n",
    "print(euclidean_distance)\n",
    "\n"
   ]
  },
  {
   "cell_type": "markdown",
   "metadata": {
    "id": "VLrhg-FRsHjR"
   },
   "source": [
    "### Q5:- Write a program to find the simple interest when the value of principle,rate of interest and time period is provided by the user.\n"
   ]
  },
  {
   "cell_type": "code",
   "execution_count": 44,
   "metadata": {
    "id": "s40DlReZsTmY"
   },
   "outputs": [
    {
     "name": "stdout",
     "output_type": "stream",
     "text": [
      "Enter amount : 200\n",
      "Enter time period : 2\n",
      "Enter rate : 10\n",
      "40.0\n"
     ]
    }
   ],
   "source": [
    "# Write your code here\n",
    "# pv = int(input(\"Enter the principle value : \"))\n",
    "# rt = int(input(\"Enter the rate of interest : \"))\n",
    "# tm = int(input(\"Enter the time period in year : \"))\n",
    "\n",
    "# si = pv + ((rt/100)*pv)*tm\n",
    "# print(si)\n",
    "\n",
    "\n",
    "# si = (p*t*r)/100\n",
    "\n",
    "p = int(input(\"Enter amount : \"))\n",
    "t = int(input(\"Enter time period : \"))\n",
    "r = int(input(\"Enter rate : \"))\n",
    "\n",
    "interest = (p*t*r)/100\n",
    "print(interest)"
   ]
  },
  {
   "cell_type": "markdown",
   "metadata": {
    "id": "LMy0BTUktYKa"
   },
   "source": [
    "### Q6:- Write a program that will tell the number of dogs and chicken are there when the user will provide the value of total heads and legs.\n",
    "\n",
    "For example:\n",
    "Input:\n",
    "heads -> 4\n",
    "legs -> 12\n",
    "<br>\n",
    "Output:\n",
    "dogs -> 2tmtm\n",
    "chicken -> 2\n",
    "\n"
   ]
  },
  {
   "cell_type": "code",
   "execution_count": null,
   "metadata": {},
   "outputs": [],
   "source": [
    "# c + d = h                   2c + 4d = l\n",
    "# d = h - c                    c + 2d = l/2\n",
    "#                              c + 2(h-c) = l/2\n",
    "#                              c + 2h - 2c = l/2\n",
    "#                              c = 2h-l/2\n"
   ]
  },
  {
   "cell_type": "code",
   "execution_count": 31,
   "metadata": {
    "id": "XSBvJoA4tXaG"
   },
   "outputs": [
    {
     "name": "stdout",
     "output_type": "stream",
     "text": [
      "Enter the number of legs : 76\n",
      "Enter the number of heads : 20\n",
      "Number of chicken is : 2.0\n",
      "Number of dong is : 18.0\n"
     ]
    }
   ],
   "source": [
    "# Write your code here\n",
    "l = int(input(\"Enter the number of legs : \"))                \n",
    "h = int(input(\"Enter the number of heads : \"))\n",
    "\n",
    "if l>=h:\n",
    "    c = 2*h-l/2\n",
    "    print(f'Number of chicken is : {c}')\n",
    "    d = h-c\n",
    "    print(f\"Number of dong is : {d}\")"
   ]
  },
  {
   "cell_type": "markdown",
   "metadata": {
    "id": "gJ7C5kZYt4BP"
   },
   "source": [
    "### Q7:- Write a program to find the sum of squares of first n natural numbers where n will be provided by the user."
   ]
  },
  {
   "cell_type": "code",
   "execution_count": 51,
   "metadata": {
    "id": "_tHsmEHzt2nX"
   },
   "outputs": [
    {
     "name": "stdout",
     "output_type": "stream",
     "text": [
      "Enter the natuaral number : 5\n",
      "55.0\n"
     ]
    }
   ],
   "source": [
    "# Write your code here\n",
    "n = int(input(\"Enter the natuaral number : \"))\n",
    "l = []\n",
    "# for i in range(1,n+1):\n",
    "#     l.append(i ** 2)\n",
    "# print(l)\n",
    "# print(sum(l))\n",
    "\n",
    "# sum = 0\n",
    "# for i in range(1,n+1):\n",
    "#     sum +=i**2\n",
    "# print(sum)\n",
    "\n",
    "\n",
    "# with formula \n",
    "\n",
    "result = (n*(n+1)*(2*n + 1))/6\n",
    "print(result)"
   ]
  },
  {
   "cell_type": "markdown",
   "metadata": {
    "id": "FHrMM7g-yG1h"
   },
   "source": [
    "### Q8:- Given the first 2 terms of an Arithmetic Series.Find the Nth term of the series. Assume all inputs are provided by the user."
   ]
  },
  {
   "cell_type": "code",
   "execution_count": 53,
   "metadata": {
    "id": "go4_kmZmyVSx"
   },
   "outputs": [
    {
     "name": "stdout",
     "output_type": "stream",
     "text": [
      "8\n"
     ]
    }
   ],
   "source": [
    "# Write your code here\n",
    "a = 2\n",
    "d = 1\n",
    "n = 7\n",
    " \n",
    "# nthTerm = a\n",
    "# for i in range(1, n):\n",
    "#     nthTerm += d\n",
    " \n",
    "# print(\"The\", n, \"th term of the series is:\", nthTerm)\n",
    "\n",
    "\n",
    "# using formula\n",
    "an = a+(n-1)*d\n",
    "print(an)\n"
   ]
  },
  {
   "cell_type": "markdown",
   "metadata": {
    "id": "QgyRX_es1oum"
   },
   "source": [
    "### Q9:- Given 2 fractions, find the sum of those 2 fractions.Take the numerator and denominator values of the fractions from the user."
   ]
  },
  {
   "cell_type": "code",
   "execution_count": 59,
   "metadata": {
    "id": "X05xqFS1yW16"
   },
   "outputs": [
    {
     "name": "stdout",
     "output_type": "stream",
     "text": [
      "num1 : 3\n",
      "den1 : 7\n",
      "num2 : 2\n",
      "den2 : 11\n",
      "47/77\n"
     ]
    }
   ],
   "source": [
    "# Write your code here\n",
    "# x1 / y1 + x2 /y2 = (y1 * x2)+(x1 * y2)/(y1 * y2)\n",
    "n1 = int(input(\"num1 : \"))\n",
    "d1 = int(input(\"den1 : \"))\n",
    "n2 = int(input(\"num2 : \"))\n",
    "d2 = int(input(\"den2 : \"))\n",
    "\n",
    "# fraction = ((n1 * d2)+(n2 * d1))/(d1 * d2)\n",
    "rn = (n1 * d2)+(n2 * d1)\n",
    "rd = (d1 * d2)\n",
    "print(f'{rn}/{rd}')"
   ]
  },
  {
   "cell_type": "markdown",
   "metadata": {
    "id": "eaql38ln13u7"
   },
   "source": [
    "### Q10:- Given the height, width and breadth of a milk tank, you have to find out how many glasses of milk can be obtained? Assume all the inputs are provided by the user.\n",
    "\n",
    "\n",
    "\n",
    "Input:<br>\n",
    "Dimensions of the milk tank<br>\n",
    "H = 20cm, L = 20cm, B = 20cm\n",
    "<br><br>\n",
    "Dimensions of the glass<br>\n",
    "h = 3cm, r = 1cm"
   ]
  },
  {
   "cell_type": "code",
   "execution_count": 63,
   "metadata": {
    "id": "FePZqno74eWv"
   },
   "outputs": [
    {
     "name": "stdout",
     "output_type": "stream",
     "text": [
      "height : 10\n",
      "breadth : 17\n",
      "length : 10\n",
      "height : 5\n",
      "radius of the glass : 2\n",
      "no of gallses 27\n"
     ]
    }
   ],
   "source": [
    "# Write your code here\n",
    "h_t = float(input(\"height : \"))\n",
    "b_t = float(input(\"breadth : \"))\n",
    "l_t = float(input(\"length : \"))\n",
    "\n",
    "h_g = float(input(\"height : \"))\n",
    "r_g = float(input('radius of the glass : '))\n",
    "\n",
    "vol_tank = h_t * b_t * l_t\n",
    "vol_glass = 3.14 * r_g * r_g * h_g\n",
    "\n",
    "print(f\"no of gallses {math.floor(vol_tank/vol_glass)}\" )"
   ]
  },
  {
   "cell_type": "markdown",
   "metadata": {},
   "source": [
    "### "
   ]
  }
 ],
 "metadata": {
  "colab": {
   "provenance": []
  },
  "kernelspec": {
   "display_name": "Python 3 (ipykernel)",
   "language": "python",
   "name": "python3"
  },
  "language_info": {
   "codemirror_mode": {
    "name": "ipython",
    "version": 3
   },
   "file_extension": ".py",
   "mimetype": "text/x-python",
   "name": "python",
   "nbconvert_exporter": "python",
   "pygments_lexer": "ipython3",
   "version": "3.10.9"
  }
 },
 "nbformat": 4,
 "nbformat_minor": 1
}
