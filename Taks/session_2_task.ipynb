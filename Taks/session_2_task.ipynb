{
 "cells": [
  {
   "cell_type": "markdown",
   "metadata": {
    "id": "w6RlOAXV2PWh"
   },
   "source": [
    "### `Problem 1`: Write a program that will give you in hand monthly salary after deduction on CTC - HRA(10%), DA(5%), PF(3%) and taxes deduction as below:\n",
    "\n",
    "> Salary(Lakhs) : Tax(%)\n",
    "\n",
    "*   Below 5 : 0%\n",
    "*   5-10 : 10%\n",
    "*   10-20 : 20%\n",
    "*   aboove 20 : 30%"
   ]
  },
  {
   "cell_type": "code",
   "execution_count": 13,
   "metadata": {
    "id": "7tMHvKYO2etI"
   },
   "outputs": [
    {
     "name": "stdout",
     "output_type": "stream",
     "text": [
      "Enter your salary : 50\n",
      "30 percent GST, your hand monthly salary is : 26.0\n"
     ]
    }
   ],
   "source": [
    "# Write code here\n",
    "s = int(input(\"Enter your salary : \"))\n",
    "ctc = 0.1\n",
    "da = 0.05\n",
    "pf = 0.03\n",
    "cuts = ctc + da + pf\n",
    "\n",
    "cutting = s - s*cuts\n",
    "p = s - cutting\n",
    "\n",
    "\n",
    "if s <= 5:\n",
    "    print(f'No GST, your hand monthly salary is : {s-p} ')\n",
    "elif s > 5 and s <=  10:\n",
    "    g = s - s*0.1\n",
    "    print(f\"10 percent GST, your hand monthly salary is : {g-p}\")\n",
    "elif s > 10 and s <=  20:\n",
    "    g = s - s*0.2\n",
    "    print(f\"20 percent GST, your hand monthly salary is : {g-p}\")\n",
    "else:\n",
    "    g = s - s*0.3\n",
    "    print(f\"30 percent GST, your hand monthly salary is : {g-p}\")\n",
    " "
   ]
  },
  {
   "cell_type": "code",
   "execution_count": 3,
   "metadata": {},
   "outputs": [
    {
     "name": "stdout",
     "output_type": "stream",
     "text": [
      "Enter your anual CTC : 400000\n",
      "Your in hand monthly salary will be - 27333.33\n"
     ]
    }
   ],
   "source": [
    "ctc = int(input('Enter your anual CTC : '))\n",
    "\n",
    "if ctc < 500000:\n",
    "    salary=ctc*.82\n",
    "elif ctc < 1000000:\n",
    "    salary=ctc*.72\n",
    "elif ctc < 2000000:\n",
    "    salary=ctc*.62\n",
    "else:\n",
    "    salary=ctc*.52\n",
    "    \n",
    "print(\"Your in hand monthly salary will be -\", round(salary/12,2))"
   ]
  },
  {
   "cell_type": "markdown",
   "metadata": {
    "id": "tYzCGqwl2hfN"
   },
   "source": [
    "### `Problem 2`: Write a program that take a user input of three angles and will find out whether it can form a triangle or not."
   ]
  },
  {
   "cell_type": "code",
   "execution_count": 4,
   "metadata": {
    "id": "FYEqln-I2kxV"
   },
   "outputs": [
    {
     "name": "stdout",
     "output_type": "stream",
     "text": [
      "Enter the fist angle degree : 90\n",
      "Enter the second angle degree : 90\n",
      "Enter the third angle degree : 0\n",
      "This is not a triangle\n"
     ]
    }
   ],
   "source": [
    "# Write code here\n",
    "# the sum of three angle of triangle should be 180 degree\n",
    "a = int(input('Enter the fist angle degree : '))\n",
    "b = int(input('Enter the second angle degree : '))\n",
    "c = int(input(\"Enter the third angle degree : \"))\n",
    "\n",
    "\n",
    "\n",
    "if a+b+c == 180 and a > 0 and b > 0 and c > 0 :\n",
    "    print(\"This is triangle\")\n",
    "else:\n",
    "    print(\"This is not a triangle\")"
   ]
  },
  {
   "cell_type": "markdown",
   "metadata": {
    "id": "5vEpPh8C2pE4"
   },
   "source": [
    "### `Problem 3`: Write a program that will take user input of cost price and selling price and determines whether its a loss or a profit."
   ]
  },
  {
   "cell_type": "code",
   "execution_count": 2,
   "metadata": {
    "id": "jDwBXlkO2sfl"
   },
   "outputs": [
    {
     "name": "stdout",
     "output_type": "stream",
     "text": [
      "Enter the cost of the product : 120\n",
      "Enter the selling price of the product : 90\n",
      "he made the loss 30Rs\n"
     ]
    }
   ],
   "source": [
    "# Write code here\n",
    "cost = int(input('Enter the cost of the product : '))\n",
    "price = int(input('Enter the selling price of the product : '))\n",
    "\n",
    "if price > cost:\n",
    "    print(f'he took the profit {price-cost}Rs')\n",
    "else:\n",
    "    print(f'he made the loss {cost-price}Rs')"
   ]
  },
  {
   "cell_type": "markdown",
   "metadata": {
    "id": "J_FG_cJW2ugT"
   },
   "source": [
    "### `Problem 4`: Write a menu-driven program -\n",
    "1. cm to ft\n",
    "2. km to miles\n",
    "3. USD to INR\n",
    "4. exit"
   ]
  },
  {
   "cell_type": "code",
   "execution_count": 6,
   "metadata": {
    "id": "yBHhaCGQ2zpD"
   },
   "outputs": [
    {
     "name": "stdout",
     "output_type": "stream",
     "text": [
      "\n",
      "To choose what do you want convert:\n",
      "press 1 -> cm to ft\n",
      "press 2 -> km to miles\n",
      "press 3 -> USD to INR\n",
      "press 4 -> exit\n",
      "3\n",
      "Enter the amount in usd : 43\n",
      "The amount in inr 3576.31 INR\n"
     ]
    }
   ],
   "source": [
    "# Write code here\n",
    "n = float(input(\"\"\"\n",
    "To choose what do you want convert:\n",
    "press 1 -> cm to ft\n",
    "press 2 -> km to miles\n",
    "press 3 -> USD to INR\n",
    "press 4 -> exit\n",
    "\"\"\"))\n",
    "\n",
    "if n == 1:\n",
    "    cm = float(input('Enter the value in cm : '))\n",
    "    print(f'The value in fit {cm *  0.032808399} ft')\n",
    "elif n == 2:\n",
    "    km = float(input('Enter the value in km : '))\n",
    "    print(f'The value in miles {km * 0.621371} miles')\n",
    "elif n == 3:\n",
    "    usd = float(input('Enter the amount in usd : '))\n",
    "    print(f'The amount in inr {usd * 83.17} INR')\n",
    "elif n == 4:\n",
    "    print('Exit')\n",
    "else:\n",
    "    print('please press valid number.')"
   ]
  },
  {
   "cell_type": "markdown",
   "metadata": {
    "id": "LJJ30_Yw27ZU"
   },
   "source": [
    "### `Problem 5` - Exercise 12: Display Fibonacci series up to 10 terms.\n",
    "\n",
    "*Note: The Fibonacci Sequence is a series of numbers. The next number is found by adding up the two numbers before it. The first two numbers are 0 and 1. For example, 0, 1, 1, 2, 3, 5, 8, 13, 21. The next number in this series above is 13+21 = 34*"
   ]
  },
  {
   "cell_type": "code",
   "execution_count": 28,
   "metadata": {
    "id": "ae_1rpe52-5R"
   },
   "outputs": [
    {
     "name": "stdout",
     "output_type": "stream",
     "text": [
      "0\n",
      "1\n",
      "1\n",
      "2\n",
      "3\n"
     ]
    }
   ],
   "source": [
    "# Write code here\n",
    "def fib(n):\n",
    "    \n",
    "    a = 0\n",
    "    b = 1\n",
    "    if n == 1:\n",
    "        print(a)\n",
    "    else:\n",
    "        print(a)\n",
    "        print(b)\n",
    "        \n",
    "        for i in range(2,n):\n",
    "        \n",
    "            c = a+b\n",
    "            a = b\n",
    "            b = c\n",
    "        \n",
    "            print(c)\n",
    "\n",
    "    \n",
    "    \n",
    "fib(5)"
   ]
  },
  {
   "cell_type": "markdown",
   "metadata": {
    "id": "pk_I_S4m3PT5"
   },
   "source": [
    "### `Problem 6` - Find the factorial of a given number.\n",
    "\n",
    "Write a program to use the loop to find the factorial of a given number.\n",
    "\n",
    "The factorial (symbol: `!`) means to multiply all whole numbers from the chosen number down to 1.\n",
    "\n",
    "For example: calculate the factorial of 5\n",
    "\n",
    "```bash\n",
    "5! = 5 × 4 × 3 × 2 × 1 = 120\n",
    "```\n",
    "\n",
    "Output:\n",
    "\n",
    "```bash\n",
    "120\n",
    "```"
   ]
  },
  {
   "cell_type": "code",
   "execution_count": 33,
   "metadata": {
    "id": "lzXxHegx3Rkc"
   },
   "outputs": [
    {
     "name": "stdout",
     "output_type": "stream",
     "text": [
      "120\n"
     ]
    }
   ],
   "source": [
    "# Write code here\n",
    "# n = int(input(\"Enter the number which you want to calculate factorial : \"))\n",
    "# import math\n",
    "# print(math.factorial(5))\n",
    "\n",
    "def fact(n):\n",
    "    \n",
    "    f = 1\n",
    "    \n",
    "    for i in range(n,0,-1):\n",
    "        f=f*i\n",
    "    return f\n",
    "\n",
    "x = 5\n",
    "\n",
    "result = fact(x)\n",
    "\n",
    "print(result)"
   ]
  },
  {
   "cell_type": "markdown",
   "metadata": {
    "id": "-17IOi-g3UpU"
   },
   "source": [
    "### `Problem 7` - Reverse a given integer number.\n",
    "\n",
    "Example:\n",
    "\n",
    "`Input:`\n",
    "\n",
    "```bash\n",
    "76542\n",
    "```\n",
    "\n",
    "`Output:`\n",
    "\n",
    "```bash\n",
    "24567\n",
    "```"
   ]
  },
  {
   "cell_type": "code",
   "execution_count": 7,
   "metadata": {
    "id": "wJwLpKCr3aVA"
   },
   "outputs": [
    {
     "name": "stdout",
     "output_type": "stream",
     "text": [
      "enter the number12345\n",
      "54321\n"
     ]
    }
   ],
   "source": [
    "# Write code here\n",
    "\n",
    "# n % 1000\n",
    "\n",
    "# n = 76542\n",
    "\n",
    "# print(int(str(n)[::-1]))\n",
    "\n",
    "\n",
    "# a = n%10\n",
    "# print(a)\n",
    "\n",
    "# b = n%100\n",
    "# b = b//10\n",
    "# print(b)\n",
    "\n",
    "# c = n%1000\n",
    "# c = c//100\n",
    "# print(c)\n",
    "\n",
    "# d = n // 1000\n",
    "# d = d%10\n",
    "# print(d)\n",
    "\n",
    "# e = n // 10000\n",
    "# print(e)\n",
    "\n",
    "\n",
    "number = int(input('enter the number'))\n",
    "\n",
    "rev = 0\n",
    "\n",
    "while number>0:\n",
    "    last = number%10\n",
    "    rev = rev*10 + last\n",
    "    number = number // 10\n",
    "\n",
    "print(rev)"
   ]
  },
  {
   "cell_type": "markdown",
   "metadata": {
    "id": "-t8PJQaY3sHf"
   },
   "source": [
    "### `Problem 8`: Take a user input as integer N. Find out the sum from 1 to N. If any number if divisible by 5, then skip that number. And if the sum is greater than 300, don't need to calculate the sum further more. Print the final result. And don't use for loop to solve this problem.\n",
    "\n",
    "**Example 1:**\n",
    "\n",
    "`Input:`\n",
    "\n",
    "```bash\n",
    "30\n",
    "```\n",
    "\n",
    "`Output:`\n",
    "\n",
    "```bash\n",
    "276\n",
    "```"
   ]
  },
  {
   "cell_type": "code",
   "execution_count": 17,
   "metadata": {},
   "outputs": [
    {
     "name": "stdout",
     "output_type": "stream",
     "text": [
      "170\n"
     ]
    }
   ],
   "source": [
    "# Write code here\n",
    "n = 45\n",
    "s = 0\n",
    "\n",
    "while i < n+1:\n",
    "    if i % 5 == 0:\n",
    "        i+=1\n",
    "        continue\n",
    "    \n",
    "    s += i\n",
    "    \n",
    "    if s > 300:\n",
    "        s = s -i\n",
    "        break\n",
    "        \n",
    "    i+=1\n",
    "        \n",
    "print(s)"
   ]
  },
  {
   "cell_type": "code",
   "execution_count": 10,
   "metadata": {
    "id": "GZB6mGMP3ujT"
   },
   "outputs": [
    {
     "name": "stdout",
     "output_type": "stream",
     "text": [
      "300\n"
     ]
    }
   ],
   "source": [
    "# Write code here\n",
    "n = 30\n",
    "s = 0\n",
    "\n",
    "\n",
    "for i in range(1,n+1):\n",
    "    while(s<300):\n",
    "        if i % 5 != 0:\n",
    "            s = s + i\n",
    "\n",
    "            \n",
    "print(s) "
   ]
  },
  {
   "cell_type": "markdown",
   "metadata": {
    "id": "Q7ggImeA3xm4"
   },
   "source": [
    "### `Problem 9`: Write a program that keeps on accepting a number from the user until the user enters Zero. Display the sum and average of all the numbers."
   ]
  },
  {
   "cell_type": "code",
   "execution_count": 18,
   "metadata": {
    "id": "t_YDSZDe4Kdo"
   },
   "outputs": [
    {
     "name": "stdout",
     "output_type": "stream",
     "text": [
      "enter number : 5\n",
      "enter number : 8\n",
      "enter number : 394\n",
      "enter number : 43\n",
      "enter number : 849\n",
      "enter number : 0\n",
      "sum 1299\n",
      "avg 259.8\n"
     ]
    }
   ],
   "source": [
    "# Write code here\n",
    "sum = 0\n",
    "count = 0\n",
    "\n",
    "while True:\n",
    "    num = int(input('enter number : '))\n",
    "    if num == 0:\n",
    "        break\n",
    "    sum = sum + num\n",
    "    count = count + 1\n",
    "\n",
    "print('sum',sum)\n",
    "print('avg',sum/count)"
   ]
  },
  {
   "cell_type": "markdown",
   "metadata": {
    "id": "6EhvEMvm4R7s"
   },
   "source": [
    "###`Problem 9`: Write a program which will find all such numbers which are divisible by 7 but are not a multiple of 5, between 2000 and 3200 (both included). The numbers obtained should be printed in a comma-separated sequence on a single line."
   ]
  },
  {
   "cell_type": "code",
   "execution_count": 2,
   "metadata": {
    "id": "d6RgP1B34T6c"
   },
   "outputs": [
    {
     "name": "stdout",
     "output_type": "stream",
     "text": [
      "2002,2009,2016,2023,2037,2044,2051,2058,2072,2079,2086,2093,2107,2114,2121,2128,2142,2149,2156,2163,2177,2184,2191,2198,2212,2219,2226,2233,2247,2254,2261,2268,2282,2289,2296,2303,2317,2324,2331,2338,2352,2359,2366,2373,2387,2394,2401,2408,2422,2429,2436,2443,2457,2464,2471,2478,2492,2499,2506,2513,2527,2534,2541,2548,2562,2569,2576,2583,2597,2604,2611,2618,2632,2639,2646,2653,2667,2674,2681,2688,2702,2709,2716,2723,2737,2744,2751,2758,2772,2779,2786,2793,2807,2814,2821,2828,2842,2849,2856,2863,2877,2884,2891,2898,2912,2919,2926,2933,2947,2954,2961,2968,2982,2989,2996,3003,3017,3024,3031,3038,3052,3059,3066,3073,3087,3094,3101,3108,3122,3129,3136,3143,3157,3164,3171,3178,3192,3199,"
     ]
    }
   ],
   "source": [
    "# Write code here\n",
    "\n",
    "for i in range(2000,3200+1):\n",
    "    if i % 7 == 0 and i % 5 !=0:\n",
    "        print(i,end=',')\n",
    "        "
   ]
  },
  {
   "cell_type": "markdown",
   "metadata": {
    "id": "tYvmRR-G4Vp4"
   },
   "source": [
    "###`Problem 10`: Write a program, which will find all such numbers between 1000 and 3000 (both included) such that each digit of the number is an even number. The numbers obtained should be printed in a space-separated sequence on a single line.\n",
    "\n"
   ]
  },
  {
   "cell_type": "code",
   "execution_count": 20,
   "metadata": {
    "id": "k6Gs1kIf4k19"
   },
   "outputs": [
    {
     "name": "stdout",
     "output_type": "stream",
     "text": [
      "\n"
     ]
    }
   ],
   "source": [
    "# Write code here\n",
    "l=[]\n",
    "for i in range(1000,3001):\n",
    "    flag = True\n",
    "    \n",
    "    curr = 1\n",
    "    \n",
    "    while curr > 0:\n",
    "        last = curr%10\n",
    "        if last % 2!=0:\n",
    "            flag = False\n",
    "            break\n",
    "        curr = curr//10\n",
    "    if flag:\n",
    "       l.append(str(i))\n",
    "print(\",\".join(l))"
   ]
  },
  {
   "cell_type": "markdown",
   "metadata": {
    "id": "GV18IINT4mf5"
   },
   "source": [
    "###`Problem 11`: A robot moves in a plane starting from the original point (0,0). The robot can move toward UP, DOWN, LEFT and RIGHT with a given steps.\n",
    "The trace of robot movement is shown as the following:\n",
    "```\n",
    "UP 5\n",
    "DOWN 3\n",
    "LEFT 3\n",
    "RIGHT 2\n",
    "!\n",
    "```\n",
    "> The numbers after the direction are steps.\n",
    "\n",
    "> `!` means robot stop there.\n",
    "\n",
    "**Please write a program to compute the distance from current position after a sequence of movement and original point.**\n",
    "\n",
    "*If the distance is a float, then just print the nearest integer.*\n",
    "\n",
    "Example:\n",
    "\n",
    "`Input`:\n",
    "```\n",
    "UP 5\n",
    "DOWN 3\n",
    "LEFT 3\n",
    "RIGHT 2\n",
    "!\n",
    "```\n",
    "`Output`:\n",
    "```\n",
    "2\n",
    "```"
   ]
  },
  {
   "cell_type": "code",
   "execution_count": null,
   "metadata": {
    "id": "6UNMC2aR4w5x"
   },
   "outputs": [],
   "source": [
    "# Write code here"
   ]
  },
  {
   "cell_type": "markdown",
   "metadata": {
    "id": "3fsAIAhK5GYY"
   },
   "source": [
    "###`Problem 12`:Write a program to print whether a given number is a prime number or not"
   ]
  },
  {
   "cell_type": "code",
   "execution_count": null,
   "metadata": {
    "id": "j6y91lxy5LZs"
   },
   "outputs": [],
   "source": [
    "# Write code here"
   ]
  },
  {
   "cell_type": "markdown",
   "metadata": {
    "id": "asAbmbK-5NHv"
   },
   "source": [
    "###`Problem 13`:Print all the Armstrong numbers in a given range.\n",
    "Range will be provided by the user<br>\n",
    "Armstrong number is a number that is equal to the sum of cubes of its digits. For example 0, 1, 153, 370, 371 and 407 are the Armstrong numbers."
   ]
  },
  {
   "cell_type": "code",
   "execution_count": null,
   "metadata": {
    "id": "PZuI67pm5jCT"
   },
   "outputs": [],
   "source": [
    "# Write code here"
   ]
  },
  {
   "cell_type": "markdown",
   "metadata": {
    "id": "ClCQZMqT7gK0"
   },
   "source": [
    "###`Problem 14`:Calculate the angle between the hour hand and minute hand.\n",
    "\n",
    "Note: There can be two angles between hands; we need to print a minimum of two. Also, we need to print the floor of the final result angle. For example, if the final angle is 10.61, we need to print 10.\n",
    "\n",
    "Input:<br>\n",
    "H = 9 , M = 0<br>\n",
    "Output:<br>\n",
    "90<br>\n",
    "Explanation:<br>\n",
    "The minimum angle between hour and minute\n",
    "hand when the time is 9 is 90 degress."
   ]
  },
  {
   "cell_type": "code",
   "execution_count": null,
   "metadata": {
    "id": "tNBTCZML7jy_"
   },
   "outputs": [],
   "source": [
    "# Write code here"
   ]
  },
  {
   "cell_type": "markdown",
   "metadata": {
    "id": "GwacF9Co72Qc"
   },
   "source": [
    "###`Problem 15`:Given two rectangles, find if the given two rectangles overlap or not. A rectangle is denoted by providing the x and y coordinates of two points: the left top corner and the right bottom corner of the rectangle. Two rectangles sharing a side are considered overlapping. (L1 and R1 are the extreme points of the first rectangle and L2 and R2 are the extreme points of the second rectangle).\n",
    "\n",
    "Note: It may be assumed that the rectangles are parallel to the coordinate axis.\n",
    "\n",
    "<img src='https://www.geeksforgeeks.org/wp-content/uploads/rectanglesOverlap.png' width='300' height='200'>"
   ]
  },
  {
   "cell_type": "code",
   "execution_count": null,
   "metadata": {
    "id": "6rrw_lpH78Rs"
   },
   "outputs": [],
   "source": [
    "# Write code here"
   ]
  }
 ],
 "metadata": {
  "colab": {
   "provenance": []
  },
  "kernelspec": {
   "display_name": "Python 3 (ipykernel)",
   "language": "python",
   "name": "python3"
  },
  "language_info": {
   "codemirror_mode": {
    "name": "ipython",
    "version": 3
   },
   "file_extension": ".py",
   "mimetype": "text/x-python",
   "name": "python",
   "nbconvert_exporter": "python",
   "pygments_lexer": "ipython3",
   "version": "3.10.12"
  }
 },
 "nbformat": 4,
 "nbformat_minor": 1
}
