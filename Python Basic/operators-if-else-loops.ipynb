{
 "cells": [
  {
   "cell_type": "markdown",
   "metadata": {
    "id": "WPWMPQHbu0l-"
   },
   "source": [
    "# Operators in Python\n",
    "* Arithmatic Operators\n",
    "* Relational Operators\n",
    "* Logical Operators\n",
    "* Bitwise Operators\n",
    "* Assignment Operators\n",
    "* Membership Operators\n"
   ]
  },
  {
   "cell_type": "markdown",
   "metadata": {
    "id": "wkPiG5zTvTih"
   },
   "source": [
    "## Arithmatic Operators"
   ]
  },
  {
   "cell_type": "code",
   "execution_count": null,
   "metadata": {
    "colab": {
     "base_uri": "https://localhost:8080/"
    },
    "executionInfo": {
     "elapsed": 11,
     "status": "ok",
     "timestamp": 1703051040089,
     "user": {
      "displayName": "vishal waghmare",
      "userId": "08381415499094412684"
     },
     "user_tz": -330
    },
    "id": "SAUuPHkrsOaM",
    "outputId": "6862c8a6-11a3-4302-cb0e-175642bbf5f5"
   },
   "outputs": [
    {
     "name": "stdout",
     "output_type": "stream",
     "text": [
      "13\n",
      "12\n",
      "3.75\n",
      "3\n",
      "3\n",
      "25\n"
     ]
    }
   ],
   "source": [
    "print(5+8)\n",
    "\n",
    "print(19-7)\n",
    "\n",
    "print(15/4)\n",
    "\n",
    "print(15//4) # integer devision\n",
    "\n",
    "print(15%4) # moduler operator ---> give remender\n",
    "\n",
    "print(5**2) # power of operator"
   ]
  },
  {
   "cell_type": "markdown",
   "metadata": {
    "id": "m2sGyGPFwPwX"
   },
   "source": [
    "## Relational Operator\n",
    "Two comapare two quantities\n",
    "\n"
   ]
  },
  {
   "cell_type": "code",
   "execution_count": null,
   "metadata": {
    "colab": {
     "base_uri": "https://localhost:8080/"
    },
    "executionInfo": {
     "elapsed": 5,
     "status": "ok",
     "timestamp": 1703051156812,
     "user": {
      "displayName": "vishal waghmare",
      "userId": "08381415499094412684"
     },
     "user_tz": -330
    },
    "id": "PwyUGwInvonv",
    "outputId": "4a13aa76-381d-47df-f2ec-4b2aa0350892"
   },
   "outputs": [
    {
     "name": "stdout",
     "output_type": "stream",
     "text": [
      "False\n",
      "True\n",
      "False\n",
      "True\n",
      "True\n",
      "False\n"
     ]
    }
   ],
   "source": [
    "print(4>5)\n",
    "\n",
    "print(4<5)\n",
    "\n",
    "print(4>=5)\n",
    "\n",
    "print(4<=5)\n",
    "\n",
    "print(4==4)\n",
    "\n",
    "print(4!=4)"
   ]
  },
  {
   "cell_type": "markdown",
   "metadata": {
    "id": "Af42BPUHxE87"
   },
   "source": [
    "## Logical Operators (Comparision Operator)\n",
    "and --> both condition are true then true otherwise false.\n",
    "\n",
    "or --> both or one of them is true then true otherwise false.\n",
    "\n",
    "not --> give the opposite"
   ]
  },
  {
   "cell_type": "code",
   "execution_count": 2,
   "metadata": {},
   "outputs": [
    {
     "name": "stdout",
     "output_type": "stream",
     "text": [
      "False\n"
     ]
    }
   ],
   "source": [
    "a,b = True,False\n",
    "print(a and b)"
   ]
  },
  {
   "cell_type": "code",
   "execution_count": 4,
   "metadata": {},
   "outputs": [
    {
     "name": "stdout",
     "output_type": "stream",
     "text": [
      "False\n",
      "True\n"
     ]
    }
   ],
   "source": [
    "a = True\n",
    "b = False\n",
    "print(not a)\n",
    "print(not b)"
   ]
  },
  {
   "cell_type": "code",
   "execution_count": null,
   "metadata": {
    "colab": {
     "base_uri": "https://localhost:8080/"
    },
    "executionInfo": {
     "elapsed": 7,
     "status": "ok",
     "timestamp": 1703051459346,
     "user": {
      "displayName": "vishal waghmare",
      "userId": "08381415499094412684"
     },
     "user_tz": -330
    },
    "id": "jGIQzGGnwlkX",
    "outputId": "f88be6df-d4d7-48b5-d9c2-f944bf5fe593",
    "scrolled": true
   },
   "outputs": [
    {
     "name": "stdout",
     "output_type": "stream",
     "text": [
      "0\n",
      "1\n",
      "False\n"
     ]
    }
   ],
   "source": [
    "print(1 & 0)\n",
    "\n",
    "print(1 or 0)\n",
    "\n",
    "print(not 1)"
   ]
  },
  {
   "cell_type": "markdown",
   "metadata": {
    "id": "ozhQuEjmyF_y"
   },
   "source": [
    "## Bitwise Operator\n",
    "this is special type of operators on binary values"
   ]
  },
  {
   "cell_type": "markdown",
   "metadata": {
    "id": "5xky8SerzpCJ"
   },
   "source": [
    "### bitwise and\n"
   ]
  },
  {
   "cell_type": "code",
   "execution_count": null,
   "metadata": {
    "colab": {
     "base_uri": "https://localhost:8080/"
    },
    "executionInfo": {
     "elapsed": 4,
     "status": "ok",
     "timestamp": 1703051651300,
     "user": {
      "displayName": "vishal waghmare",
      "userId": "08381415499094412684"
     },
     "user_tz": -330
    },
    "id": "vw1rcXojxoyx",
    "outputId": "bde7b69b-22ff-4837-e03e-ca03b022478f"
   },
   "outputs": [
    {
     "name": "stdout",
     "output_type": "stream",
     "text": [
      "2\n"
     ]
    }
   ],
   "source": [
    "# write the binary representation of this two number 2-->  010\n",
    "                                                   # 3-->  011.\n",
    "                                                   # .......... applay and operator on it\n",
    "                                                   #       010   result --->2\n",
    "print(2 & 3)"
   ]
  },
  {
   "cell_type": "markdown",
   "metadata": {
    "id": "tFI0-iHrzsev"
   },
   "source": [
    "### bitwise or"
   ]
  },
  {
   "cell_type": "code",
   "execution_count": null,
   "metadata": {
    "colab": {
     "base_uri": "https://localhost:8080/"
    },
    "executionInfo": {
     "elapsed": 618,
     "status": "ok",
     "timestamp": 1703052051125,
     "user": {
      "displayName": "vishal waghmare",
      "userId": "08381415499094412684"
     },
     "user_tz": -330
    },
    "id": "T8HfQkgMyd7x",
    "outputId": "7cd6358d-cf29-43db-dbd7-c2443f193369"
   },
   "outputs": [
    {
     "name": "stdout",
     "output_type": "stream",
     "text": [
      "3\n"
     ]
    }
   ],
   "source": [
    "# write the binary representation of this two number 2-->  010\n",
    "                                                   # 3-->  011.\n",
    "                                                   # .......... applay or operator on it\n",
    "                                                   #       011   result --->3\n",
    "print(2 | 3)"
   ]
  },
  {
   "cell_type": "markdown",
   "metadata": {
    "id": "j4iLK_2h0QA6"
   },
   "source": [
    "### bitwise xor"
   ]
  },
  {
   "cell_type": "code",
   "execution_count": null,
   "metadata": {
    "colab": {
     "base_uri": "https://localhost:8080/"
    },
    "executionInfo": {
     "elapsed": 10,
     "status": "ok",
     "timestamp": 1703052150314,
     "user": {
      "displayName": "vishal waghmare",
      "userId": "08381415499094412684"
     },
     "user_tz": -330
    },
    "id": "uX21aXBezyGw",
    "outputId": "97b8f3f8-dcad-4320-afd7-ae69fec989ad"
   },
   "outputs": [
    {
     "name": "stdout",
     "output_type": "stream",
     "text": [
      "1\n"
     ]
    }
   ],
   "source": [
    "# write the binary representation of this two number 2-->  010\n",
    "                                                   # 3-->  011.\n",
    "                                                   # .......... if value is same then 0 otherwise 1\n",
    "                                                   #       001   result --->1\n",
    "print(2^3)"
   ]
  },
  {
   "cell_type": "markdown",
   "metadata": {
    "id": "dXJHkqQG1rL7"
   },
   "source": [
    "### Bitwise not"
   ]
  },
  {
   "cell_type": "code",
   "execution_count": null,
   "metadata": {
    "colab": {
     "base_uri": "https://localhost:8080/"
    },
    "executionInfo": {
     "elapsed": 8,
     "status": "ok",
     "timestamp": 1703052556179,
     "user": {
      "displayName": "vishal waghmare",
      "userId": "08381415499094412684"
     },
     "user_tz": -330
    },
    "id": "TMpxMtk90YDD",
    "outputId": "7c75eba3-db2a-46f9-8c3d-1b3d7cc3b5c7"
   },
   "outputs": [
    {
     "name": "stdout",
     "output_type": "stream",
     "text": [
      "-6\n"
     ]
    }
   ],
   "source": [
    "print(~5)"
   ]
  },
  {
   "cell_type": "markdown",
   "metadata": {
    "id": "UhxU4FzM2CAX"
   },
   "source": [
    "### Bitwise Left Operator(left shift)"
   ]
  },
  {
   "cell_type": "code",
   "execution_count": null,
   "metadata": {
    "colab": {
     "base_uri": "https://localhost:8080/"
    },
    "executionInfo": {
     "elapsed": 11,
     "status": "ok",
     "timestamp": 1703053040130,
     "user": {
      "displayName": "vishal waghmare",
      "userId": "08381415499094412684"
     },
     "user_tz": -330
    },
    "id": "D0mY-_hI17Ey",
    "outputId": "859032e8-6dcf-4be2-fe9d-df6bcb6e6dd3"
   },
   "outputs": [
    {
     "name": "stdout",
     "output_type": "stream",
     "text": [
      "1\n"
     ]
    }
   ],
   "source": [
    "print(4 >> 2)  # wrtting binary of 4 and shifting bit pattern to left side two time"
   ]
  },
  {
   "cell_type": "markdown",
   "metadata": {
    "id": "8u_2XWno3och"
   },
   "source": [
    "### Bitwise Right Operator"
   ]
  },
  {
   "cell_type": "code",
   "execution_count": null,
   "metadata": {
    "id": "1xIlY4vG2Kx8"
   },
   "outputs": [],
   "source": [
    "print(4 << 2)  # wrtting binary of 4 and shifting bit pattern to right side two time"
   ]
  },
  {
   "cell_type": "markdown",
   "metadata": {
    "id": "nq_EyTRO4Ngz"
   },
   "source": [
    "## Assignment Operator"
   ]
  },
  {
   "cell_type": "code",
   "execution_count": null,
   "metadata": {
    "id": "S2E0wBbP4Pg1"
   },
   "outputs": [],
   "source": [
    "a = 2  # a --> variable  , 2 --> litral"
   ]
  },
  {
   "cell_type": "code",
   "execution_count": null,
   "metadata": {
    "colab": {
     "base_uri": "https://localhost:8080/"
    },
    "executionInfo": {
     "elapsed": 414,
     "status": "ok",
     "timestamp": 1703053711834,
     "user": {
      "displayName": "vishal waghmare",
      "userId": "08381415499094412684"
     },
     "user_tz": -330
    },
    "id": "v6_8PmCR4WM_",
    "outputId": "ba6b84bc-995f-432e-8fae-893f87508ae8"
   },
   "outputs": [
    {
     "name": "stdout",
     "output_type": "stream",
     "text": [
      "0.0\n"
     ]
    }
   ],
   "source": [
    "# in python a++ ++a notation can't work\n",
    "a = 2\n",
    "a +=2\n",
    "a /=2\n",
    "a *=10\n",
    "a %=5\n",
    "print(a)"
   ]
  },
  {
   "cell_type": "markdown",
   "metadata": {
    "id": "eDsxZIjN6hd9"
   },
   "source": [
    "## Membership Operators\n",
    "in / not in"
   ]
  },
  {
   "cell_type": "code",
   "execution_count": null,
   "metadata": {
    "colab": {
     "base_uri": "https://localhost:8080/"
    },
    "executionInfo": {
     "elapsed": 9,
     "status": "ok",
     "timestamp": 1703053810083,
     "user": {
      "displayName": "vishal waghmare",
      "userId": "08381415499094412684"
     },
     "user_tz": -330
    },
    "id": "Ck4lNBe64ZE3",
    "outputId": "2335c8db-2c05-48d8-a78d-3ac3e513c88d"
   },
   "outputs": [
    {
     "name": "stdout",
     "output_type": "stream",
     "text": [
      "True\n"
     ]
    }
   ],
   "source": [
    "print('D' in 'Delhi')"
   ]
  },
  {
   "cell_type": "code",
   "execution_count": null,
   "metadata": {
    "colab": {
     "base_uri": "https://localhost:8080/"
    },
    "executionInfo": {
     "elapsed": 7,
     "status": "ok",
     "timestamp": 1703053834132,
     "user": {
      "displayName": "vishal waghmare",
      "userId": "08381415499094412684"
     },
     "user_tz": -330
    },
    "id": "Kpj9kCAy6tXD",
    "outputId": "4dff5490-4667-4ce8-e7f7-96bc62ebb62a"
   },
   "outputs": [
    {
     "name": "stdout",
     "output_type": "stream",
     "text": [
      "True\n"
     ]
    }
   ],
   "source": [
    "print('Q' not in 'Pune')"
   ]
  },
  {
   "cell_type": "code",
   "execution_count": null,
   "metadata": {
    "colab": {
     "base_uri": "https://localhost:8080/"
    },
    "executionInfo": {
     "elapsed": 8,
     "status": "ok",
     "timestamp": 1703053896864,
     "user": {
      "displayName": "vishal waghmare",
      "userId": "08381415499094412684"
     },
     "user_tz": -330
    },
    "id": "T9gmIeoc6x48",
    "outputId": "22ecc5fb-c9e4-4a9a-d84f-0cff08fc0f44"
   },
   "outputs": [
    {
     "name": "stdout",
     "output_type": "stream",
     "text": [
      "False\n"
     ]
    }
   ],
   "source": [
    "print(1 in [2,3,4,5,6])"
   ]
  },
  {
   "cell_type": "code",
   "execution_count": null,
   "metadata": {
    "colab": {
     "base_uri": "https://localhost:8080/"
    },
    "executionInfo": {
     "elapsed": 17,
     "status": "ok",
     "timestamp": 1703053908842,
     "user": {
      "displayName": "vishal waghmare",
      "userId": "08381415499094412684"
     },
     "user_tz": -330
    },
    "id": "K4d4z_Mp7CeW",
    "outputId": "97116b26-f779-4504-d8e1-bbd9c89733ba"
   },
   "outputs": [
    {
     "name": "stdout",
     "output_type": "stream",
     "text": [
      "True\n"
     ]
    }
   ],
   "source": [
    "print(1 not in [2,3,4,5,6])"
   ]
  },
  {
   "cell_type": "code",
   "execution_count": 3,
   "metadata": {
    "executionInfo": {
     "elapsed": 713,
     "status": "ok",
     "timestamp": 1703156032184,
     "user": {
      "displayName": "vishal waghmare",
      "userId": "08381415499094412684"
     },
     "user_tz": -330
    },
    "id": "_bvzy1sE7FWa"
   },
   "outputs": [],
   "source": [
    "a = [0,0,1,2,2,3,5,6,3,2,5]\n"
   ]
  },
  {
   "cell_type": "code",
   "execution_count": 4,
   "metadata": {
    "executionInfo": {
     "elapsed": 836,
     "status": "ok",
     "timestamp": 1703156033751,
     "user": {
      "displayName": "vishal waghmare",
      "userId": "08381415499094412684"
     },
     "user_tz": -330
    },
    "id": "R4VTcKYGAiyw"
   },
   "outputs": [],
   "source": [
    "list=[]\n"
   ]
  },
  {
   "cell_type": "code",
   "execution_count": 7,
   "metadata": {
    "colab": {
     "base_uri": "https://localhost:8080/"
    },
    "executionInfo": {
     "elapsed": 2,
     "status": "ok",
     "timestamp": 1703156121860,
     "user": {
      "displayName": "vishal waghmare",
      "userId": "08381415499094412684"
     },
     "user_tz": -330
    },
    "id": "qQKFOzZ5AlrZ",
    "outputId": "6f02c566-0ebf-45e4-b7e1-4e3ac16fff64"
   },
   "outputs": [
    {
     "name": "stdout",
     "output_type": "stream",
     "text": [
      "[0, 1, 2, 3, 5, 6]\n"
     ]
    }
   ],
   "source": [
    "for i in a:\n",
    "  if i not in list:\n",
    "    list.append(i)\n",
    "\n",
    "print(list)\n"
   ]
  },
  {
   "cell_type": "markdown",
   "metadata": {},
   "source": [
    "### Program - FInd the sum of a 3 digit number entered by the user\n"
   ]
  },
  {
   "cell_type": "code",
   "execution_count": 10,
   "metadata": {
    "colab": {
     "base_uri": "https://localhost:8080/"
    },
    "executionInfo": {
     "elapsed": 5862,
     "status": "ok",
     "timestamp": 1703157950438,
     "user": {
      "displayName": "vishal waghmare",
      "userId": "08381415499094412684"
     },
     "user_tz": -330
    },
    "id": "ITXJZlvyAqXU",
    "outputId": "e8e7652f-6b61-4505-e2c4-9605cac9d915"
   },
   "outputs": [
    {
     "name": "stdout",
     "output_type": "stream",
     "text": [
      "Enter the three digit number : 345\n",
      "The sum of three digit of number is 12\n"
     ]
    }
   ],
   "source": [
    "\n",
    "n = int(input(\"Enter the three digit number : \"))\n",
    "\n",
    "# 345%10 -> 5\n",
    "a = n%10\n",
    "\n",
    "# 345 // 10 ->34\n",
    "number = n//10\n",
    "\n",
    "# 34%10 -> 4\n",
    "b = number%10\n",
    "\n",
    "# 34//10 -> 3\n",
    "c = number//10\n",
    "\n",
    "print(f\"The sum of three digit of number is {a+b+c}\")"
   ]
  },
  {
   "cell_type": "markdown",
   "metadata": {},
   "source": [
    "## If-else Statement"
   ]
  },
  {
   "cell_type": "code",
   "execution_count": 5,
   "metadata": {},
   "outputs": [
    {
     "name": "stdout",
     "output_type": "stream",
     "text": [
      "enter email : hhhs\n",
      "passowrd : 3883\n",
      "Invalid User Name and password\n"
     ]
    }
   ],
   "source": [
    "# login program and identation\n",
    "# email -> vishalwaghmare0005@gmail.com\n",
    "# password -> 1234\n",
    "\n",
    "email = input('enter email : ')\n",
    "password = input('passowrd : ')\n",
    "\n",
    "if email == 'vishalwaghmare0005@gmail.com' and password == '1234':\n",
    "    print(\"Sucessfully Loged In\")\n",
    "else:\n",
    "    print(\"Invalid User Name and password\")\n",
    "    "
   ]
  },
  {
   "cell_type": "code",
   "execution_count": 2,
   "metadata": {},
   "outputs": [
    {
     "name": "stdout",
     "output_type": "stream",
     "text": [
      "enter email : vishalwaghmare0005@gmail.com\n",
      "passowrd : 12\n",
      "Incorrect password\n",
      "Please enter password again : 1234\n",
      "Welcome, Finally!\n"
     ]
    }
   ],
   "source": [
    "email = input('enter email : ')\n",
    "password = input('passowrd : ')\n",
    "\n",
    "if email == 'vishalwaghmare0005@gmail.com' and password == '1234':\n",
    "    print(\"Welcome\")\n",
    "elif email == 'vishalwaghmare0005@gmail.com' and password != '1234':\n",
    "    print(\"Incorrect password\")\n",
    "    passward = input(\"Please enter password again : \")\n",
    "    if passward == '1234':\n",
    "        print(\"Welcome, Finally!\")\n",
    "    else:\n",
    "        print(\"Beta Tumse na ho payega\")\n",
    "else:\n",
    "    print(\"Invalid User name and password\")\n",
    "    "
   ]
  },
  {
   "cell_type": "code",
   "execution_count": 3,
   "metadata": {},
   "outputs": [],
   "source": [
    "# if-else examples \n",
    "# 1.Find the min of 3 given numbers\n",
    "# 2.Menu Driven Program"
   ]
  },
  {
   "cell_type": "code",
   "execution_count": 9,
   "metadata": {},
   "outputs": [
    {
     "name": "stdout",
     "output_type": "stream",
     "text": [
      "Enter the first number : 2\n",
      "Ente the second number : 2\n",
      "Ente the third number : 2\n",
      "given smallest number is 2\n"
     ]
    }
   ],
   "source": [
    "# 1.Find the min of 3 given numbers\n",
    "a = int(input(\"Enter the first number : \"))\n",
    "b = int(input(\"Ente the second number : \"))\n",
    "c = int(input(\"Ente the third number : \"))\n",
    "\n",
    "if a <= b and a <= c:\n",
    "    print(f\"given smallest number is {a}\")\n",
    "elif b <= a and b <= c:\n",
    "    print(f\"given smallest number is {b}\")\n",
    "else:\n",
    "    print(f\"given smallest number is {c}\")"
   ]
  },
  {
   "cell_type": "code",
   "execution_count": 7,
   "metadata": {},
   "outputs": [
    {
     "name": "stdout",
     "output_type": "stream",
     "text": [
      "Enter the first number : 10\n",
      "Ente the second number : 10\n",
      "Ente the third number : 2\n",
      "given largest number is 10\n"
     ]
    }
   ],
   "source": [
    "# 1.Find the large of 3 given numbers\n",
    "a = int(input(\"Enter the first number : \"))\n",
    "b = int(input(\"Ente the second number : \"))\n",
    "c = int(input(\"Ente the third number : \"))\n",
    "\n",
    "if a >= b and a >= c:\n",
    "    print(f\"given largest number is {a}\")\n",
    "elif b >= a and b >= c:\n",
    "    print(f\"given largest number is {b}\")\n",
    "else:\n",
    "    print(f\"given largest number is {c}\")"
   ]
  },
  {
   "cell_type": "code",
   "execution_count": 11,
   "metadata": {
    "scrolled": true
   },
   "outputs": [
    {
     "name": "stdout",
     "output_type": "stream",
     "text": [
      "Enter the first number : 100\n",
      "Enter the second number : 3882\n",
      "Enter the operation : /\n",
      "0.02575991756826378\n"
     ]
    }
   ],
   "source": [
    "# menu driven calculator\n",
    "fnum = int(input(\"Enter the first number : \"))\n",
    "snum = int(input(\"Enter the second number : \"))\n",
    "\n",
    "op = input(\"Enter the operation : \")\n",
    "\n",
    "if op == '+':\n",
    "    print(fnum + snum)\n",
    "elif op == '-':\n",
    "    print(fnum - snum)\n",
    "elif op == '*':\n",
    "    print(fnum * snum)\n",
    "elif op == '/':\n",
    "    print(fnum / snum)\n",
    "else:\n",
    "    print(fnum ** snum)\n",
    "\n"
   ]
  },
  {
   "cell_type": "code",
   "execution_count": 13,
   "metadata": {},
   "outputs": [
    {
     "name": "stdout",
     "output_type": "stream",
     "text": [
      "\n",
      "Hi ! how can I help you.\n",
      "1. Enter 1 for pin chnage\n",
      "2. Enter 2 for balance check\n",
      "3. Enter 3 for withdrawl\n",
      "4. Enter 4 for exit\n",
      "3\n",
      "withdrwled\n"
     ]
    }
   ],
   "source": [
    "# menu driven for bank\n",
    "menu = input(\"\"\"\n",
    "Hi ! how can I help you.\n",
    "1. Enter 1 for pin chnage\n",
    "2. Enter 2 for balance check\n",
    "3. Enter 3 for withdrawl\n",
    "4. Enter 4 for exit\n",
    "\"\"\")\n",
    "\n",
    "if menu == '1':\n",
    "    print('pin change')\n",
    "elif menu == '2':\n",
    "    print('balance')\n",
    "elif menu == '3':\n",
    "    print('withdrwled')\n",
    "elif menu == '4':\n",
    "    print('exit')\n",
    "else:\n",
    "    print(\"Invalid Response\")"
   ]
  },
  {
   "cell_type": "markdown",
   "metadata": {},
   "source": [
    "## Modules in Python\n",
    "a python file which contain some function we can import this file in our code and use this functions.\n",
    "\n",
    "* math\n",
    "* keywords\n",
    "* random\n",
    "* datetime"
   ]
  },
  {
   "cell_type": "code",
   "execution_count": 1,
   "metadata": {},
   "outputs": [
    {
     "name": "stdout",
     "output_type": "stream",
     "text": [
      "\n",
      "Please wait a moment while I gather a list of all available modules...\n",
      "\n"
     ]
    },
    {
     "name": "stderr",
     "output_type": "stream",
     "text": [
      "/home/vishal/.local/lib/python3.10/site-packages/IPython/kernel/__init__.py:12: ShimWarning: The `IPython.kernel` package has been deprecated since IPython 4.0.You should import from ipykernel or jupyter_client instead.\n",
      "  warn(\"The `IPython.kernel` package has been deprecated since IPython 4.0.\"\n",
      "No QCoreApplication instance found. Application patches not applied. You have to call load_stylesheet function after instantiation of QApplication to take effect. \n",
      "/usr/lib/python3.10/pkgutil.py:107: VisibleDeprecationWarning:\n",
      "\n",
      "zmq.eventloop.minitornado is deprecated in pyzmq 14.0 and will be removed.\n",
      "    Install tornado itself to use zmq with the tornado IOLoop.\n",
      "    \n",
      "\n",
      "/usr/lib/python3/dist-packages/wx/lib/pubsub/__init__.py:23: wxPyDeprecationWarning:\n",
      "\n",
      "wx.lib.pubsub has been deprecated, plese migrate your code to use pypubsub, available on PyPI.\n",
      "\n"
     ]
    },
    {
     "name": "stdout",
     "output_type": "stream",
     "text": [
      "2e032532bd2e64ed7a60__mypyc base64              jinja2_time         requests\n",
      "AptUrl              bcrypt              joblib              resource\n",
      "CommandNotFound     bdb                 json                rlcompleter\n",
      "DistUpgrade         binaryornot         jsonschema          rmagic\n",
      "HweSupportStatus    binascii            jupyter             rope\n",
      "IPython             binhex              jupyter_client      rtree\n",
      "LanguageSelector    bisect              jupyter_console     runpy\n",
      "NvidiaDetector      black               jupyter_core        samba\n",
      "PIL                 blackd              jupyterlab_plotly   scanext\n",
      "PyQt5               bleach              jupyterlab_pygments sched\n",
      "Quirks              blib2to3            jupyterlab_widgets  scipy\n",
      "UbuntuDrivers       blinker             jwt                 scour\n",
      "UpdateManager       brlapi              keyring             seaborn\n",
      "__future__          bs4                 keyword             secrets\n",
      "_abc                builtins            kiwisolver          secretstorage\n",
      "_aix_support        bz2                 language_support_pkgs select\n",
      "_argon2_cffi_bindings cProfile            launchpadlib        selectors\n",
      "_ast                cairo               lazy_object_proxy   send2trash\n",
      "_asyncio            calendar            ldb                 setuptools\n",
      "_bisect             certifi             lib2to3             shelve\n",
      "_black_version      cffi                libfuturize         shlex\n",
      "_blake2             cgi                 libpasteurize       shutil\n",
      "_bootsubprocess     cgitb               linecache           signal\n",
      "_bz2                chardet             locale              site\n",
      "_cffi_backend       chunk               lockfile            sitecustomize\n",
      "_codecs             click               logging             six\n",
      "_codecs_cn          cloudpickle         louis               sklearn\n",
      "_codecs_hk          cmake               lsb_release         slugify\n",
      "_codecs_iso2022     cmath               lxml                smtpd\n",
      "_codecs_jp          cmd                 lzma                smtplib\n",
      "_codecs_kr          code                macaroonbakery      sndhdr\n",
      "_codecs_tw          codecs              mailbox             snowballstemmer\n",
      "_collections        codeop              mailcap             socket\n",
      "_collections_abc    collections         mako                socketserver\n",
      "_compat_pickle      colorama            markupsafe          softwareproperties\n",
      "_compression        colorsys            marshal             sortedcontainers\n",
      "_contextvars        compileall          math                soupsieve\n",
      "_crypt              concurrent          matplotlib          speechd\n",
      "_csv                configparser        matplotlib_inline   speechd_config\n",
      "_ctypes             contextlib          mccabe              sphinx\n",
      "_ctypes_test        contextvars         mimetypes           spwd\n",
      "_curses             contourpy           mistune             spyder\n",
      "_curses_panel       cookiecutter        mmap                spyder_kernels\n",
      "_datetime           copy                modulefinder        sqlite3\n",
      "_dbm                copyreg             monotonic           sre_compile\n",
      "_dbus_bindings      crypt               more_itertools      sre_constants\n",
      "_dbus_glib_bindings cryptography        multiprocessing     sre_parse\n",
      "_decimal            csv                 mypy_extensions     ssl\n",
      "_distutils_hack     ctypes              nacl                stack_data\n",
      "_distutils_system_mod cups                natsort             stat\n",
      "_dlib_pybind11      cupsext             nbclient            statistics\n",
      "_elementtree        cupshelpers         nbconvert           storemagic\n",
      "_functools          curses              nbformat            string\n",
      "_gdbm               cv2                 nest_asyncio        stringprep\n",
      "_hashlib            cycler              netifaces           struct\n",
      "_heapq              cythonmagic         netrc               subprocess\n",
      "_imp                dataclasses         nis                 sunau\n",
      "_io                 datetime            nntplib             sympyprinting\n",
      "_json               dateutil            notebook            symtable\n",
      "_ldb_text           dbm                 ntpath              sys\n",
      "_locale             dbus                nturl2path          sysconfig\n",
      "_lsprof             deb822              numbers             syslog\n",
      "_lzma               debconf             numpy               systemd\n",
      "_markupbase         debian              numpydoc            tabnanny\n",
      "_md5                debian_bundle       oauthlib            talloc\n",
      "_multibytecodec     debugpy             olefile             tarfile\n",
      "_multiprocessing    decimal             opcode              tdb\n",
      "_opcode             decorator           openpyxl            telnetlib\n",
      "_operator           defer               operator            tempfile\n",
      "_osx_support        defusedxml          optparse            tenacity\n",
      "_pickle             diff_match_patch    orca                terminado\n",
      "_plotly_future_     difflib             os                  termios\n",
      "_plotly_utils       dill                ossaudiodev         test\n",
      "_posixshmem         dis                 packaging           tests\n",
      "_posixsubprocess    distro              pandas              text_unidecode\n",
      "_py_abc             distro_info         pandocfilters       textdistance\n",
      "_pydecimal          distutils           paramiko            textwrap\n",
      "_pyio               dlib                parso               this\n",
      "_pyrsistent_version doctest             past                threading\n",
      "_queue              docutils            pathlib             threadpoolctl\n",
      "_random             duplicity           pathspec            three_merge\n",
      "_sha1               email               pcardext            time\n",
      "_sha256             encodings           pdb                 timeit\n",
      "_sha3               entrypoints         pexpect             tinycss2\n",
      "_sha512             enum                pickle              tkinter\n",
      "_signal             errno               pickleshare         token\n",
      "_sitebuiltins       et_xmlfile          pickletools         tokenize\n",
      "_socket             executing           pip                 toml\n",
      "_sqlite3            face_recognition    pipes               tomli\n",
      "_sre                face_recognition_models pkg_resources       tomlkit\n",
      "_ssl                fasteners           pkgutil             tornado\n",
      "_stat               fastjsonschema      platform            trace\n",
      "_statistics         faulthandler        playsound           traceback\n",
      "_string             fcntl               plistlib            tracemalloc\n",
      "_strptime           filecmp             plotly              traitlets\n",
      "_struct             fileinput           pluggy              tty\n",
      "_symtable           flake8              poplib              turtle\n",
      "_sysconfigdata__linux_x86_64-linux-gnu flask               posix               types\n",
      "_sysconfigdata__x86_64-linux-gnu fnmatch             posixpath           typing\n",
      "_tdb_text           fontTools           pprint              uaclient\n",
      "_testbuffer         fractions           problem_report      ufw\n",
      "_testcapi           ftplib              profile             ujson\n",
      "_testclinic         functools           prometheus_client   unicodedata\n",
      "_testimportmultiple future              prompt_toolkit      unittest\n",
      "_testinternalcapi   gc                  pstats              uno\n",
      "_testmultiphase     genericpath         psutil              unohelper\n",
      "_thread             getopt              pty                 urllib\n",
      "_threading_local    getpass             ptyprocess          urllib3\n",
      "_tkinter            gettext             pure_eval           usbcreator\n",
      "_tracemalloc        gi                  pvectorc            uu\n",
      "_uuid               glob                pwd                 uuid\n",
      "_warnings           gpg                 py_compile          venv\n",
      "_weakref            graphlib            pyatspi             wadllib\n",
      "_weakrefset         grp                 pyclbr              warnings\n",
      "_xxsubinterpreters  gzip                pycodestyle         watchdog\n",
      "_xxtestfuzz         hashlib             pycparser           wave\n",
      "_yaml               heapq               pydoc               wcwidth\n",
      "_zoneinfo           hmac                pydoc_data          weakref\n",
      "abc                 hpmudext            pydocstyle          webbrowser\n",
      "aifc                html                pyexpat             webencodings\n",
      "alabaster           html5lib            pyflakes            werkzeug\n",
      "antigravity         http                pygments            whatthepatch\n",
      "apport              httplib2            pygtkcompat         wheel\n",
      "apport_python_hook  idlelib             pylab               widgetsnbextension\n",
      "apt                 idna                pylint              wrapt\n",
      "apt_inst            imagesize           pyls_spyder         wsgiref\n",
      "apt_pkg             imaplib             pylsp               wurlitzer\n",
      "aptdaemon           imghdr              pylsp_black         wx\n",
      "aptsources          imp                 pylsp_jsonrpc       xdg\n",
      "argon2              importlib           pymacaroons         xdrlib\n",
      "argparse            importlib_metadata  pyodbc              xkit\n",
      "array               inflection          pyparsing           xml\n",
      "arrow               inspect             pyrfc3339           xmlrpc\n",
      "ast                 intervaltree        pyrsistent          xxlimited\n",
      "astroid             io                  pytoolconfig        xxlimited_35\n",
      "asttokens           ipaddress           pytz                xxsubtype\n",
      "asynchat            ipykernel           qdarkstyle          yaml\n",
      "asyncio             ipykernel_launcher  qstylizer           yapf\n",
      "asyncore            ipython_genutils    qtawesome           yapftests\n",
      "atexit              ipywidgets          qtconsole           zipapp\n",
      "atomicwrites        isort               qtpy                zipfile\n",
      "attr                itertools           queue               zipimport\n",
      "attrs               itsdangerous        quopri              zipp\n",
      "audioop             janitor             random              zlib\n",
      "autopep8            jedi                re                  zmq\n",
      "autoreload          jeepney             readline            zoneinfo\n",
      "babel               jellyfish           reportlab           \n",
      "backcall            jinja2              reprlib             \n",
      "\n",
      "Enter any module name to get more help.  Or, type \"modules spam\" to search\n",
      "for modules whose name or summary contain the string \"spam\".\n",
      "\n"
     ]
    }
   ],
   "source": [
    "# To check the modules in python\n",
    "help('modules')"
   ]
  },
  {
   "cell_type": "markdown",
   "metadata": {},
   "source": [
    "### math"
   ]
  },
  {
   "cell_type": "code",
   "execution_count": 18,
   "metadata": {},
   "outputs": [
    {
     "data": {
      "text/plain": [
       "120"
      ]
     },
     "execution_count": 18,
     "metadata": {},
     "output_type": "execute_result"
    }
   ],
   "source": [
    "import math\n",
    "\n",
    "math.factorial(5)"
   ]
  },
  {
   "cell_type": "code",
   "execution_count": 19,
   "metadata": {},
   "outputs": [
    {
     "data": {
      "text/plain": [
       "6"
      ]
     },
     "execution_count": 19,
     "metadata": {},
     "output_type": "execute_result"
    }
   ],
   "source": [
    "math.floor(6.8)"
   ]
  },
  {
   "cell_type": "code",
   "execution_count": 20,
   "metadata": {},
   "outputs": [
    {
     "data": {
      "text/plain": [
       "25.0"
      ]
     },
     "execution_count": 20,
     "metadata": {},
     "output_type": "execute_result"
    }
   ],
   "source": [
    "math.sqrt(625)"
   ]
  },
  {
   "cell_type": "markdown",
   "metadata": {},
   "source": [
    "### keyword\n",
    "To see the all reserved keywords in python"
   ]
  },
  {
   "cell_type": "code",
   "execution_count": 22,
   "metadata": {},
   "outputs": [],
   "source": [
    "import keyword"
   ]
  },
  {
   "cell_type": "code",
   "execution_count": 24,
   "metadata": {},
   "outputs": [
    {
     "data": {
      "text/plain": [
       "['False',\n",
       " 'None',\n",
       " 'True',\n",
       " 'and',\n",
       " 'as',\n",
       " 'assert',\n",
       " 'async',\n",
       " 'await',\n",
       " 'break',\n",
       " 'class',\n",
       " 'continue',\n",
       " 'def',\n",
       " 'del',\n",
       " 'elif',\n",
       " 'else',\n",
       " 'except',\n",
       " 'finally',\n",
       " 'for',\n",
       " 'from',\n",
       " 'global',\n",
       " 'if',\n",
       " 'import',\n",
       " 'in',\n",
       " 'is',\n",
       " 'lambda',\n",
       " 'nonlocal',\n",
       " 'not',\n",
       " 'or',\n",
       " 'pass',\n",
       " 'raise',\n",
       " 'return',\n",
       " 'try',\n",
       " 'while',\n",
       " 'with',\n",
       " 'yield']"
      ]
     },
     "execution_count": 24,
     "metadata": {},
     "output_type": "execute_result"
    }
   ],
   "source": [
    "keyword.kwlist"
   ]
  },
  {
   "cell_type": "markdown",
   "metadata": {},
   "source": [
    "### random\n",
    "use generate the random number"
   ]
  },
  {
   "cell_type": "code",
   "execution_count": 25,
   "metadata": {},
   "outputs": [
    {
     "data": {
      "text/plain": [
       "12"
      ]
     },
     "execution_count": 25,
     "metadata": {},
     "output_type": "execute_result"
    }
   ],
   "source": [
    "import random\n",
    "random.randint(1,100)"
   ]
  },
  {
   "cell_type": "markdown",
   "metadata": {},
   "source": [
    "### datetime"
   ]
  },
  {
   "cell_type": "code",
   "execution_count": 27,
   "metadata": {},
   "outputs": [
    {
     "name": "stdout",
     "output_type": "stream",
     "text": [
      "2023-12-24 11:42:53.049913\n"
     ]
    }
   ],
   "source": [
    "import datetime\n",
    "print(datetime.datetime.now())"
   ]
  },
  {
   "cell_type": "markdown",
   "metadata": {},
   "source": [
    "## Loops in Python\n",
    "\n",
    "* While Loop\n",
    "* For Loop"
   ]
  },
  {
   "cell_type": "markdown",
   "metadata": {},
   "source": [
    "### While Loop"
   ]
  },
  {
   "cell_type": "code",
   "execution_count": 3,
   "metadata": {},
   "outputs": [
    {
     "name": "stdout",
     "output_type": "stream",
     "text": [
      "Enter the number which number's table you want : 5\n",
      "5 * 1 = 5\n",
      "5 * 2 = 10\n",
      "5 * 3 = 15\n",
      "5 * 4 = 20\n",
      "5 * 5 = 25\n",
      "5 * 6 = 30\n",
      "5 * 7 = 35\n",
      "5 * 8 = 40\n",
      "5 * 9 = 45\n",
      "5 * 10 = 50\n"
     ]
    }
   ],
   "source": [
    "# While loop example -> program to print the table\n",
    "\n",
    "n = int(input(\"Enter the number which number's table you want : \"))\n",
    "i = 1\n",
    "while i<11:\n",
    "    print(f'{n} * {i} = {i*n}')\n",
    "    i+=1\n"
   ]
  },
  {
   "cell_type": "markdown",
   "metadata": {},
   "source": [
    "### while lopp with else"
   ]
  },
  {
   "cell_type": "code",
   "execution_count": 5,
   "metadata": {},
   "outputs": [
    {
     "name": "stdout",
     "output_type": "stream",
     "text": [
      "1\n",
      "2\n",
      "limit crossed\n"
     ]
    }
   ],
   "source": [
    "x = 1\n",
    "\n",
    "while x < 3:\n",
    "    print(x)\n",
    "    x += 1\n",
    "    \n",
    "else:\n",
    "    print(\"limit crossed\")"
   ]
  },
  {
   "cell_type": "code",
   "execution_count": 4,
   "metadata": {},
   "outputs": [
    {
     "name": "stdout",
     "output_type": "stream",
     "text": [
      "Guess What is the number : 90\n",
      "galt! guess lower\n",
      "Guess What is the number : 80\n",
      "galt! guess lower\n",
      "Guess What is the number : 50\n",
      "galt! guess lower\n",
      "Guess What is the number : 30\n",
      "galt! guess lower\n",
      "Guess What is the number : 20\n",
      "galat! guess higher\n",
      "Guess What is the number : 25\n",
      "galat! guess higher\n",
      "Guess What is the number : 26\n",
      "galat! guess higher\n",
      "Guess What is the number : 27\n",
      "galat! guess higher\n",
      "Guess What is the number : 28\n",
      "correct guess\n",
      "attempts 9\n"
     ]
    }
   ],
   "source": [
    "# Guessing game\n",
    "import random \n",
    "\n",
    "jackpot = random.randint(1,100)\n",
    "count = 1\n",
    "guess = int(input(\"Guess What is the number : \"))\n",
    "\n",
    "while guess != jackpot:\n",
    "    if jackpot > guess:\n",
    "        print(\"galat! guess higher\")\n",
    "    else:\n",
    "        print(\"galt! guess lower\")\n",
    "        \n",
    "    guess = int(input(\"Guess What is the number : \"))\n",
    "    count += 1 \n",
    "else:\n",
    "    print('correct guess')\n",
    "    print('attempts', count)"
   ]
  },
  {
   "cell_type": "markdown",
   "metadata": {},
   "source": [
    "## For Loop"
   ]
  },
  {
   "cell_type": "code",
   "execution_count": 10,
   "metadata": {},
   "outputs": [
    {
     "name": "stdout",
     "output_type": "stream",
     "text": [
      "10\n",
      "9\n",
      "8\n",
      "7\n",
      "6\n",
      "5\n",
      "4\n",
      "3\n",
      "2\n",
      "1\n"
     ]
    }
   ],
   "source": [
    "# For loop demo\n",
    "\n",
    "for i in range(10,0,-1):\n",
    "    print(i)"
   ]
  },
  {
   "cell_type": "code",
   "execution_count": 11,
   "metadata": {},
   "outputs": [
    {
     "name": "stdout",
     "output_type": "stream",
     "text": [
      "P\n",
      "u\n",
      "n\n",
      "e\n"
     ]
    }
   ],
   "source": [
    "for i in 'Pune':\n",
    "    print(i)"
   ]
  },
  {
   "cell_type": "markdown",
   "metadata": {},
   "source": [
    "Program - The current population of a town is 10000. The population of the twon is increasing at the rate of 10%  per year. You have to write a program to find out the population at the end of each of the last 10 years. "
   ]
  },
  {
   "cell_type": "code",
   "execution_count": 20,
   "metadata": {},
   "outputs": [
    {
     "name": "stdout",
     "output_type": "stream",
     "text": [
      "10 10000\n",
      "9 9000.0\n",
      "8 8100.0\n",
      "7 7290.0\n",
      "6 6561.0\n",
      "5 5904.9\n",
      "4 5314.41\n",
      "3 4782.969\n",
      "2 4304.6721\n",
      "1 3874.20489\n"
     ]
    }
   ],
   "source": [
    "population = 10000\n",
    "\n",
    "for i in range(10,0,-1):\n",
    "    print(i,population)\n",
    "    population = population - 0.1*population"
   ]
  },
  {
   "cell_type": "code",
   "execution_count": 21,
   "metadata": {},
   "outputs": [
    {
     "data": {
      "text/plain": [
       "9000.0"
      ]
     },
     "execution_count": 21,
     "metadata": {},
     "output_type": "execute_result"
    }
   ],
   "source": [
    "10000-10000*0.1"
   ]
  },
  {
   "cell_type": "markdown",
   "metadata": {},
   "source": [
    "Program - The current population of a town is 10000. The population of the town is increasing at the rate of 10% per year. You have to write a program to find out the population at the end of each of the last 10 years."
   ]
  },
  {
   "cell_type": "markdown",
   "metadata": {},
   "source": [
    "x + 10% of x = 10000\n",
    "\n",
    "X + 0.1x = 10000\n",
    "\n",
    "x = 10000/1.1"
   ]
  },
  {
   "cell_type": "code",
   "execution_count": 1,
   "metadata": {},
   "outputs": [
    {
     "name": "stdout",
     "output_type": "stream",
     "text": [
      "10 10000\n",
      "9 9090.90909090909\n",
      "8 8264.462809917353\n",
      "7 7513.148009015775\n",
      "6 6830.134553650703\n",
      "5 6209.213230591548\n",
      "4 5644.739300537771\n",
      "3 5131.5811823070635\n",
      "2 4665.07380209733\n",
      "1 4240.976183724845\n"
     ]
    }
   ],
   "source": [
    "# Code here\n",
    "current_population = 10000\n",
    "for i in range(10,0,-1):\n",
    "    print(i,current_population)\n",
    "    current_population = current_population/1.1"
   ]
  },
  {
   "cell_type": "markdown",
   "metadata": {},
   "source": [
    "Sequence sum\n",
    "\n",
    "1/1!+2/2+3/3!+..."
   ]
  },
  {
   "cell_type": "code",
   "execution_count": 2,
   "metadata": {},
   "outputs": [
    {
     "name": "stdout",
     "output_type": "stream",
     "text": [
      "enter n1\n",
      "1.0\n"
     ]
    }
   ],
   "source": [
    "# Code here\n",
    "\n",
    "n = int(input('enter n'))\n",
    "\n",
    "result = 0\n",
    "fact = 1\n",
    "\n",
    "for i in range(1,n+1):\n",
    "    fact = fact * i\n",
    "    result = result + i/fact\n",
    "\n",
    "print(result)"
   ]
  },
  {
   "cell_type": "markdown",
   "metadata": {},
   "source": [
    "## Nested Loops\n"
   ]
  },
  {
   "cell_type": "code",
   "execution_count": 3,
   "metadata": {},
   "outputs": [
    {
     "name": "stdout",
     "output_type": "stream",
     "text": [
      "(1,1) (1,2) (1,3) (1,4) (1,5) (1,6) \n",
      "(2,1) (2,2) (2,3) (2,4) (2,5) (2,6) \n",
      "(3,1) (3,2) (3,3) (3,4) (3,5) (3,6) \n",
      "(4,1) (4,2) (4,3) (4,4) (4,5) (4,6) \n",
      "(5,1) (5,2) (5,3) (5,4) (5,5) (5,6) \n",
      "(6,1) (6,2) (6,3) (6,4) (6,5) (6,6) \n"
     ]
    }
   ],
   "source": [
    "# Example -> unique pairs\n",
    "\n",
    "n = 6\n",
    "\n",
    "for i in range(1,n+1):\n",
    "    for j in range(1,n+1):\n",
    "        print(f'({i},{j})',end=' ')\n",
    "    print()"
   ]
  },
  {
   "cell_type": "markdown",
   "metadata": {},
   "source": [
    "### Pattern 1\n",
    "##### *\n",
    "##### **\n",
    "##### ***"
   ]
  },
  {
   "cell_type": "code",
   "execution_count": 4,
   "metadata": {},
   "outputs": [
    {
     "name": "stdout",
     "output_type": "stream",
     "text": [
      "Enter the value of n : 10\n",
      "* \n",
      "* * \n",
      "* * * \n",
      "* * * * \n",
      "* * * * * \n",
      "* * * * * * \n",
      "* * * * * * * \n",
      "* * * * * * * * \n",
      "* * * * * * * * * \n",
      "* * * * * * * * * * \n"
     ]
    }
   ],
   "source": [
    "n = int(input('Enter the value of n : '))\n",
    "\n",
    "for i in range(1,n+1):\n",
    "#     print('*'*i)\n",
    "    for j in range(i):\n",
    "        print('*',end=' ')\n",
    "    print()# this print function for change the line"
   ]
  },
  {
   "cell_type": "markdown",
   "metadata": {},
   "source": [
    "### Pattern 2\n",
    "##### 1\n",
    "##### 121\n",
    "##### 12321\n",
    "##### 1234321"
   ]
  },
  {
   "cell_type": "code",
   "execution_count": 6,
   "metadata": {},
   "outputs": [
    {
     "name": "stdout",
     "output_type": "stream",
     "text": [
      "Enter the value of n : 4\n",
      "1 \n",
      "1 2 1 \n",
      "1 2 3 2 1 \n",
      "1 2 3 4 3 2 1 \n"
     ]
    }
   ],
   "source": [
    "n = int(input('Enter the value of n : '))\n",
    "\n",
    "for i in range(1,n+1):\n",
    "    for j in range(1,i+1):\n",
    "        print(j,end=' ')\n",
    "    for j in range(i-1,0,-1):\n",
    "        print(j,end=' ')\n",
    "    print()"
   ]
  },
  {
   "cell_type": "markdown",
   "metadata": {},
   "source": [
    "## Loop Control Statement\n",
    "* Break  --> if any condition meet in loop then break the loop.\n",
    "* Continue  --> to skip the current iteration value\n",
    "* Pass  --> when we use pass then it don't through error. if we don't have the code."
   ]
  },
  {
   "cell_type": "code",
   "execution_count": 7,
   "metadata": {},
   "outputs": [
    {
     "name": "stdout",
     "output_type": "stream",
     "text": [
      "1\n",
      "2\n",
      "3\n",
      "4\n"
     ]
    }
   ],
   "source": [
    "# Break  --> if any condition meet in loop then break the loop.\n",
    "for i in range(1,10):\n",
    "    if i == 5:\n",
    "        break\n",
    "    print(i)"
   ]
  },
  {
   "cell_type": "code",
   "execution_count": 8,
   "metadata": {},
   "outputs": [
    {
     "name": "stdout",
     "output_type": "stream",
     "text": [
      "enter the lower range : 5\n",
      "enter the upper range : 25\n",
      "5\n",
      "7\n",
      "11\n",
      "13\n",
      "17\n",
      "19\n",
      "23\n"
     ]
    }
   ],
   "source": [
    "# want to find prime numbers under the 100\n",
    "lower = int(input('enter the lower range : '))\n",
    "upper = int(input('enter the upper range : '))\n",
    "\n",
    "for i in range(lower, upper+1):\n",
    "    for j in range(2,i):\n",
    "        if i % j == 0:\n",
    "            break\n",
    "    else:\n",
    "            print(i)\n"
   ]
  },
  {
   "cell_type": "code",
   "execution_count": 9,
   "metadata": {},
   "outputs": [
    {
     "name": "stdout",
     "output_type": "stream",
     "text": [
      "1\n",
      "2\n",
      "3\n",
      "4\n",
      "6\n",
      "7\n",
      "8\n",
      "9\n"
     ]
    }
   ],
   "source": [
    "# Continue  --> to skip the current iteration value\n",
    "for i in range(1,10):\n",
    "    if i == 5:\n",
    "        continue\n",
    "    print(i)"
   ]
  },
  {
   "cell_type": "code",
   "execution_count": 10,
   "metadata": {},
   "outputs": [],
   "source": [
    "#  Pass  --> when we use pass then it don't through error.\n",
    "# it is saying don't throught an error i will be writting some here\n",
    "for i in range(10):\n",
    "    pass"
   ]
  },
  {
   "cell_type": "code",
   "execution_count": null,
   "metadata": {},
   "outputs": [],
   "source": []
  }
 ],
 "metadata": {
  "colab": {
   "authorship_tag": "ABX9TyNQbYVK0g7IG79F5z6rw6kV",
   "provenance": []
  },
  "kernelspec": {
   "display_name": "Python 3 (ipykernel)",
   "language": "python",
   "name": "python3"
  },
  "language_info": {
   "codemirror_mode": {
    "name": "ipython",
    "version": 3
   },
   "file_extension": ".py",
   "mimetype": "text/x-python",
   "name": "python",
   "nbconvert_exporter": "python",
   "pygments_lexer": "ipython3",
   "version": "3.11.5"
  }
 },
 "nbformat": 4,
 "nbformat_minor": 1
}
