{
 "cells": [
  {
   "cell_type": "markdown",
   "id": "c3aa32bb",
   "metadata": {},
   "source": [
    "Strings are sequence of Characters\n",
    "In Python specifically, strings are a sequence of Unicode Characters\n",
    "\n",
    "* Creating Strings\n",
    "* Accessing Strings\n",
    "* Adding Chars to Strings\n",
    "* Editing Strings\n",
    "* Dleting Strings\n",
    "* Operarions on Strings\n",
    "* String Functions"
   ]
  },
  {
   "cell_type": "markdown",
   "id": "06213469",
   "metadata": {},
   "source": [
    "## Creating Strings"
   ]
  },
  {
   "cell_type": "code",
   "execution_count": 2,
   "id": "a4303213",
   "metadata": {},
   "outputs": [
    {
     "name": "stdout",
     "output_type": "stream",
     "text": [
      "hello\n"
     ]
    }
   ],
   "source": [
    "s = 'hello'\n",
    "s = \"hello\"\n",
    "s = '''hello'''  #use for multi line string\n",
    "s = \"\"\"hello\"\"\"\n",
    "s = str('hello')\n",
    "print(s)"
   ]
  },
  {
   "cell_type": "code",
   "execution_count": 3,
   "id": "13ae276e",
   "metadata": {},
   "outputs": [
    {
     "data": {
      "text/plain": [
       "\"it's raining outside\""
      ]
     },
     "execution_count": 3,
     "metadata": {},
     "output_type": "execute_result"
    }
   ],
   "source": [
    "# let's understand why need \"\" and '', \n",
    "\n",
    "\n",
    "# 'it's raining outside'\n",
    "\n",
    "\"it's raining outside\""
   ]
  },
  {
   "cell_type": "markdown",
   "id": "03820b77",
   "metadata": {},
   "source": [
    "## Accessing Substrings from a String"
   ]
  },
  {
   "cell_type": "code",
   "execution_count": 16,
   "id": "9e0b3548",
   "metadata": {},
   "outputs": [
    {
     "data": {
      "text/plain": [
       "'h'"
      ]
     },
     "execution_count": 16,
     "metadata": {},
     "output_type": "execute_result"
    }
   ],
   "source": [
    "# Indexing\n",
    "# ---> Positive Indexing\n",
    "s = 'hello world'\n",
    "# s[0]='l' #TypeError: 'str' object does not support item assignment\n",
    "# s[20]     #IndexError: string index out of range\n",
    "s[0]"
   ]
  },
  {
   "cell_type": "code",
   "execution_count": 18,
   "id": "e5c5ac96",
   "metadata": {},
   "outputs": [
    {
     "name": "stdout",
     "output_type": "stream",
     "text": [
      "d\n",
      "w\n"
     ]
    }
   ],
   "source": [
    "# ---> Negative Indexing\n",
    "s = 'hello world'\n",
    "print(s[-1])\n",
    "print(s[-5])"
   ]
  },
  {
   "cell_type": "markdown",
   "id": "637155d5",
   "metadata": {},
   "source": [
    "### Slicing"
   ]
  },
  {
   "cell_type": "code",
   "execution_count": 39,
   "id": "bb956714",
   "metadata": {},
   "outputs": [
    {
     "name": "stdout",
     "output_type": "stream",
     "text": [
      "hello\n",
      "l\n",
      "hello\n",
      "llo world\n",
      "hello world\n",
      "hlo\n",
      "hl\n",
      "w olle\n",
      "dlrow olleh\n",
      "dlrow olleh\n"
     ]
    }
   ],
   "source": [
    "s = 'hello world'\n",
    "print(s[0:5])\n",
    "print(s[2:3])\n",
    "print(s[:5])\n",
    "print(s[2:])\n",
    "print(s[:])\n",
    "print(s[0:6:2]) # with step \n",
    "print(s[0:6:3]) # taking jump of 3\n",
    "print(s[6:0:-1]) # with reverse order\n",
    "print(s[-1::-1])\n",
    "print(s[::-1]) # code for reverse the string"
   ]
  },
  {
   "cell_type": "code",
   "execution_count": 40,
   "id": "eff0fc0e",
   "metadata": {},
   "outputs": [
    {
     "name": "stdout",
     "output_type": "stream",
     "text": [
      "dlrow olleh\n"
     ]
    }
   ],
   "source": [
    "print(s[::-1]) # code for reverse the string"
   ]
  },
  {
   "cell_type": "code",
   "execution_count": 49,
   "id": "4bedac7f",
   "metadata": {},
   "outputs": [
    {
     "name": "stdout",
     "output_type": "stream",
     "text": [
      "hello \n",
      "dlrow\n"
     ]
    }
   ],
   "source": [
    "# Negative Indexing  (When using negative indexing 1st number should be greater than the second number)\n",
    "print(s[:-5])\n",
    "print(s[-1:-6:-1])"
   ]
  },
  {
   "cell_type": "markdown",
   "id": "84460f8e",
   "metadata": {},
   "source": [
    "## Editing and Deleting in Strings (python string are immutable)\n",
    "cannot change"
   ]
  },
  {
   "cell_type": "code",
   "execution_count": 50,
   "id": "5a122ead",
   "metadata": {},
   "outputs": [
    {
     "ename": "TypeError",
     "evalue": "'str' object does not support item assignment",
     "output_type": "error",
     "traceback": [
      "\u001b[0;31m---------------------------------------------------------------------------\u001b[0m",
      "\u001b[0;31mTypeError\u001b[0m                                 Traceback (most recent call last)",
      "Cell \u001b[0;32mIn[50], line 2\u001b[0m\n\u001b[1;32m      1\u001b[0m s \u001b[38;5;241m=\u001b[39m \u001b[38;5;124m'\u001b[39m\u001b[38;5;124mhello world\u001b[39m\u001b[38;5;124m'\u001b[39m\n\u001b[0;32m----> 2\u001b[0m s[\u001b[38;5;241m0\u001b[39m] \u001b[38;5;241m=\u001b[39m \u001b[38;5;124m'\u001b[39m\u001b[38;5;124mH\u001b[39m\u001b[38;5;124m'\u001b[39m\n",
      "\u001b[0;31mTypeError\u001b[0m: 'str' object does not support item assignment"
     ]
    }
   ],
   "source": [
    "s = 'hello world'\n",
    "s[0] = 'H'"
   ]
  },
  {
   "cell_type": "code",
   "execution_count": 54,
   "id": "1ab7a2b7",
   "metadata": {},
   "outputs": [
    {
     "ename": "NameError",
     "evalue": "name 's' is not defined",
     "output_type": "error",
     "traceback": [
      "\u001b[0;31m---------------------------------------------------------------------------\u001b[0m",
      "\u001b[0;31mNameError\u001b[0m                                 Traceback (most recent call last)",
      "Cell \u001b[0;32mIn[54], line 4\u001b[0m\n\u001b[1;32m      2\u001b[0m s \u001b[38;5;241m=\u001b[39m \u001b[38;5;124m'\u001b[39m\u001b[38;5;124mhello world\u001b[39m\u001b[38;5;124m'\u001b[39m\n\u001b[1;32m      3\u001b[0m \u001b[38;5;28;01mdel\u001b[39;00m s\n\u001b[0;32m----> 4\u001b[0m \u001b[38;5;28mprint\u001b[39m(s)\n",
      "\u001b[0;31mNameError\u001b[0m: name 's' is not defined"
     ]
    }
   ],
   "source": [
    "# To delete the string\n",
    "s = 'hello world'\n",
    "del s\n",
    "print(s)"
   ]
  },
  {
   "cell_type": "markdown",
   "id": "d8854ccb",
   "metadata": {},
   "source": [
    "### Operations on Strings\n",
    "\n",
    "* Arithmetic Operations\n",
    "* Relational Operations\n",
    "* Logical Operations\n",
    "* Loops on Strings\n",
    "* Membership Operations"
   ]
  },
  {
   "cell_type": "markdown",
   "id": "64fa55b7",
   "metadata": {},
   "source": [
    "### Arithmetic \n",
    "* Addition\n",
    "* Multiplication"
   ]
  },
  {
   "cell_type": "code",
   "execution_count": 57,
   "id": "ee4569e9",
   "metadata": {},
   "outputs": [
    {
     "name": "stdout",
     "output_type": "stream",
     "text": [
      "delhi mumbai\n"
     ]
    }
   ],
   "source": [
    "# Adding\n",
    "print('delhi'+' '+'mumbai')"
   ]
  },
  {
   "cell_type": "code",
   "execution_count": 59,
   "id": "78cc43e4",
   "metadata": {},
   "outputs": [
    {
     "name": "stdout",
     "output_type": "stream",
     "text": [
      "Pune Pune Pune Pune Pune \n"
     ]
    }
   ],
   "source": [
    "# Mulitplication\n",
    "print(5*'Pune ')"
   ]
  },
  {
   "cell_type": "markdown",
   "id": "8e2cfa10",
   "metadata": {},
   "source": [
    "### Relation Operation (all work)"
   ]
  },
  {
   "cell_type": "code",
   "execution_count": 60,
   "id": "62db10b1",
   "metadata": {},
   "outputs": [
    {
     "data": {
      "text/plain": [
       "True"
      ]
     },
     "execution_count": 60,
     "metadata": {},
     "output_type": "execute_result"
    }
   ],
   "source": [
    "'pune' == 'pune'"
   ]
  },
  {
   "cell_type": "code",
   "execution_count": 63,
   "id": "431a61ae",
   "metadata": {},
   "outputs": [
    {
     "data": {
      "text/plain": [
       "False"
      ]
     },
     "execution_count": 63,
     "metadata": {},
     "output_type": "execute_result"
    }
   ],
   "source": [
    "'delhi' != 'delhi'"
   ]
  },
  {
   "cell_type": "code",
   "execution_count": 61,
   "id": "88393ede",
   "metadata": {},
   "outputs": [
    {
     "data": {
      "text/plain": [
       "True"
      ]
     },
     "execution_count": 61,
     "metadata": {},
     "output_type": "execute_result"
    }
   ],
   "source": [
    "# compare on basis of ASCII value \n",
    "'pune' > 'mumbai'"
   ]
  },
  {
   "cell_type": "code",
   "execution_count": 62,
   "id": "be48a254",
   "metadata": {},
   "outputs": [
    {
     "data": {
      "text/plain": [
       "False"
      ]
     },
     "execution_count": 62,
     "metadata": {},
     "output_type": "execute_result"
    }
   ],
   "source": [
    "'mumbai' > 'pune'"
   ]
  },
  {
   "cell_type": "code",
   "execution_count": 64,
   "id": "06e13385",
   "metadata": {},
   "outputs": [
    {
     "data": {
      "text/plain": [
       "False"
      ]
     },
     "execution_count": 64,
     "metadata": {},
     "output_type": "execute_result"
    }
   ],
   "source": [
    "'Pune'>'pune'"
   ]
  },
  {
   "cell_type": "code",
   "execution_count": 65,
   "id": "3f17a4ae",
   "metadata": {},
   "outputs": [
    {
     "data": {
      "text/plain": [
       "'world'"
      ]
     },
     "execution_count": 65,
     "metadata": {},
     "output_type": "execute_result"
    }
   ],
   "source": [
    "'hello' and 'world'"
   ]
  },
  {
   "cell_type": "code",
   "execution_count": 66,
   "id": "09417d1e",
   "metadata": {},
   "outputs": [
    {
     "data": {
      "text/plain": [
       "'hello'"
      ]
     },
     "execution_count": 66,
     "metadata": {},
     "output_type": "execute_result"
    }
   ],
   "source": [
    "'hello' or 'world'"
   ]
  },
  {
   "cell_type": "code",
   "execution_count": 68,
   "id": "c343aadb",
   "metadata": {},
   "outputs": [
    {
     "data": {
      "text/plain": [
       "''"
      ]
     },
     "execution_count": 68,
     "metadata": {},
     "output_type": "execute_result"
    }
   ],
   "source": [
    "  # in string ' ' (empty string is false) string with letter is true.\n",
    "'' and 'world'"
   ]
  },
  {
   "cell_type": "code",
   "execution_count": 69,
   "id": "7bd14eea",
   "metadata": {},
   "outputs": [
    {
     "data": {
      "text/plain": [
       "'world'"
      ]
     },
     "execution_count": 69,
     "metadata": {},
     "output_type": "execute_result"
    }
   ],
   "source": [
    "'' or 'world'"
   ]
  },
  {
   "cell_type": "code",
   "execution_count": 70,
   "id": "38ee9cfc",
   "metadata": {},
   "outputs": [
    {
     "data": {
      "text/plain": [
       "True"
      ]
     },
     "execution_count": 70,
     "metadata": {},
     "output_type": "execute_result"
    }
   ],
   "source": [
    "not ''"
   ]
  },
  {
   "cell_type": "code",
   "execution_count": 71,
   "id": "f5268070",
   "metadata": {},
   "outputs": [
    {
     "data": {
      "text/plain": [
       "False"
      ]
     },
     "execution_count": 71,
     "metadata": {},
     "output_type": "execute_result"
    }
   ],
   "source": [
    "not 'hello'"
   ]
  },
  {
   "cell_type": "markdown",
   "id": "518a80b8",
   "metadata": {},
   "source": [
    "### Loops"
   ]
  },
  {
   "cell_type": "code",
   "execution_count": 78,
   "id": "006e5355",
   "metadata": {},
   "outputs": [
    {
     "name": "stdout",
     "output_type": "stream",
     "text": [
      "h\n",
      "e\n",
      "l\n",
      "l\n",
      "o\n"
     ]
    }
   ],
   "source": [
    "for i in 'hello':\n",
    "    print(i)"
   ]
  },
  {
   "cell_type": "code",
   "execution_count": 76,
   "id": "b894c1b7",
   "metadata": {},
   "outputs": [
    {
     "name": "stdout",
     "output_type": "stream",
     "text": [
      "hevvo"
     ]
    }
   ],
   "source": [
    "for i in 'hello':\n",
    "    if i == 'l':\n",
    "        i='v'\n",
    "    print(i,end='')"
   ]
  },
  {
   "cell_type": "code",
   "execution_count": 79,
   "id": "0e45891e",
   "metadata": {},
   "outputs": [
    {
     "name": "stdout",
     "output_type": "stream",
     "text": [
      "pune\n",
      "pune\n",
      "pune\n",
      "pune\n",
      "pune\n"
     ]
    }
   ],
   "source": [
    "for i in 'delhi':\n",
    "    print('pune')"
   ]
  },
  {
   "cell_type": "markdown",
   "id": "b1f8e8b3",
   "metadata": {},
   "source": [
    "### Membership Operator"
   ]
  },
  {
   "cell_type": "code",
   "execution_count": 83,
   "id": "e047973b",
   "metadata": {},
   "outputs": [
    {
     "data": {
      "text/plain": [
       "True"
      ]
     },
     "execution_count": 83,
     "metadata": {},
     "output_type": "execute_result"
    }
   ],
   "source": [
    "'D' not in 'delhi'"
   ]
  },
  {
   "cell_type": "code",
   "execution_count": 84,
   "id": "5da65437",
   "metadata": {},
   "outputs": [
    {
     "data": {
      "text/plain": [
       "False"
      ]
     },
     "execution_count": 84,
     "metadata": {},
     "output_type": "execute_result"
    }
   ],
   "source": [
    "'D' not in 'Delhi'"
   ]
  },
  {
   "cell_type": "markdown",
   "id": "f4a2dd79",
   "metadata": {},
   "source": [
    "### String Function\n",
    "\n",
    "This are the common function use with all data type, like list, set, string, dictionary\n",
    "* len\n",
    "* max\n",
    "* min\n",
    "* sorted\n"
   ]
  },
  {
   "cell_type": "code",
   "execution_count": 2,
   "id": "92dfe6a4",
   "metadata": {},
   "outputs": [
    {
     "data": {
      "text/plain": [
       "11"
      ]
     },
     "execution_count": 2,
     "metadata": {},
     "output_type": "execute_result"
    }
   ],
   "source": [
    "len('Hello World')"
   ]
  },
  {
   "cell_type": "code",
   "execution_count": 5,
   "id": "f6069442",
   "metadata": {},
   "outputs": [
    {
     "data": {
      "text/plain": [
       "'w'"
      ]
     },
     "execution_count": 5,
     "metadata": {},
     "output_type": "execute_result"
    }
   ],
   "source": [
    "# ascii value ke basis pe jo value badi hai usko extract karta hai.\n",
    "max('Hello world')"
   ]
  },
  {
   "cell_type": "code",
   "execution_count": 6,
   "id": "70b9e1eb",
   "metadata": {},
   "outputs": [
    {
     "data": {
      "text/plain": [
       "' '"
      ]
     },
     "execution_count": 6,
     "metadata": {},
     "output_type": "execute_result"
    }
   ],
   "source": [
    "min('hello world')"
   ]
  },
  {
   "cell_type": "code",
   "execution_count": 9,
   "id": "db5ed11c",
   "metadata": {},
   "outputs": [
    {
     "data": {
      "text/plain": [
       "['w', 'r', 'o', 'o', 'l', 'l', 'l', 'h', 'e', 'd', ' ']"
      ]
     },
     "execution_count": 9,
     "metadata": {},
     "output_type": "execute_result"
    }
   ],
   "source": [
    "# get all value in accending order according to ascii value\n",
    "sorted('hello world')\n",
    "# can do in reverse order \n",
    "sorted('hello world',reverse=True)"
   ]
  },
  {
   "cell_type": "markdown",
   "id": "6204fd36",
   "metadata": {},
   "source": [
    "Capitalize/Title/Upper/Lower/Swapcase"
   ]
  },
  {
   "cell_type": "code",
   "execution_count": 10,
   "id": "7a5d7ee6",
   "metadata": {},
   "outputs": [
    {
     "data": {
      "text/plain": [
       "'Hello world'"
      ]
     },
     "execution_count": 10,
     "metadata": {},
     "output_type": "execute_result"
    }
   ],
   "source": [
    "s = 'hello world'\n",
    "s.capitalize()"
   ]
  },
  {
   "cell_type": "code",
   "execution_count": 11,
   "id": "3f55c7d3",
   "metadata": {},
   "outputs": [
    {
     "data": {
      "text/plain": [
       "'Hello World'"
      ]
     },
     "execution_count": 11,
     "metadata": {},
     "output_type": "execute_result"
    }
   ],
   "source": [
    "s = 'hello world'\n",
    "s.title()"
   ]
  },
  {
   "cell_type": "code",
   "execution_count": 12,
   "id": "98e827b4",
   "metadata": {},
   "outputs": [
    {
     "data": {
      "text/plain": [
       "'HELLO WORLD'"
      ]
     },
     "execution_count": 12,
     "metadata": {},
     "output_type": "execute_result"
    }
   ],
   "source": [
    "s = 'hello world'\n",
    "s.upper()"
   ]
  },
  {
   "cell_type": "code",
   "execution_count": 13,
   "id": "7987fae2",
   "metadata": {},
   "outputs": [
    {
     "data": {
      "text/plain": [
       "'hello world'"
      ]
     },
     "execution_count": 13,
     "metadata": {},
     "output_type": "execute_result"
    }
   ],
   "source": [
    "s = 'HELLO WORLD'\n",
    "s.lower()"
   ]
  },
  {
   "cell_type": "code",
   "execution_count": 14,
   "id": "323607f6",
   "metadata": {},
   "outputs": [
    {
     "data": {
      "text/plain": [
       "'hElLO WoRLd'"
      ]
     },
     "execution_count": 14,
     "metadata": {},
     "output_type": "execute_result"
    }
   ],
   "source": [
    "'HeLlo wOrlD'.swapcase()"
   ]
  },
  {
   "cell_type": "markdown",
   "id": "2820ae8e",
   "metadata": {},
   "source": [
    "Count/Find/Index"
   ]
  },
  {
   "cell_type": "code",
   "execution_count": 15,
   "id": "09cdcc85",
   "metadata": {},
   "outputs": [
    {
     "data": {
      "text/plain": [
       "2"
      ]
     },
     "execution_count": 15,
     "metadata": {},
     "output_type": "execute_result"
    }
   ],
   "source": [
    "'my name is vishal'.count('i')"
   ]
  },
  {
   "cell_type": "code",
   "execution_count": 18,
   "id": "433a778a",
   "metadata": {},
   "outputs": [
    {
     "data": {
      "text/plain": [
       "8"
      ]
     },
     "execution_count": 18,
     "metadata": {},
     "output_type": "execute_result"
    }
   ],
   "source": [
    "'my name is vishal'.find('is')\n",
    "# 'my name is vishal'.find('x') -1 not available "
   ]
  },
  {
   "cell_type": "code",
   "execution_count": 21,
   "id": "d309ca41",
   "metadata": {},
   "outputs": [
    {
     "data": {
      "text/plain": [
       "8"
      ]
     },
     "execution_count": 21,
     "metadata": {},
     "output_type": "execute_result"
    }
   ],
   "source": [
    "'my name is vishal'.index('is')\n",
    "# 'my name is vishal'.index('x') yaha pe 1 nahi error through karata hai ValueError: substring not found\n"
   ]
  },
  {
   "cell_type": "markdown",
   "id": "3f09e4fe",
   "metadata": {},
   "source": [
    "endswith/startwith"
   ]
  },
  {
   "cell_type": "code",
   "execution_count": 22,
   "id": "97c9dedc",
   "metadata": {},
   "outputs": [
    {
     "data": {
      "text/plain": [
       "True"
      ]
     },
     "execution_count": 22,
     "metadata": {},
     "output_type": "execute_result"
    }
   ],
   "source": [
    "'my name is vishal'.endswith('hal')"
   ]
  },
  {
   "cell_type": "code",
   "execution_count": 25,
   "id": "84dc1d0c",
   "metadata": {},
   "outputs": [
    {
     "data": {
      "text/plain": [
       "True"
      ]
     },
     "execution_count": 25,
     "metadata": {},
     "output_type": "execute_result"
    }
   ],
   "source": [
    "'my name is vishal'.startswith('my')"
   ]
  },
  {
   "cell_type": "code",
   "execution_count": 1,
   "id": "f2befc9b",
   "metadata": {},
   "outputs": [
    {
     "data": {
      "text/plain": [
       "True"
      ]
     },
     "execution_count": 1,
     "metadata": {},
     "output_type": "execute_result"
    }
   ],
   "source": [
    "'my name is vishal'.startswith('my')"
   ]
  },
  {
   "cell_type": "markdown",
   "id": "ea8f8f8a",
   "metadata": {},
   "source": [
    "### Format"
   ]
  },
  {
   "cell_type": "code",
   "execution_count": 6,
   "id": "04cf40c8",
   "metadata": {},
   "outputs": [
    {
     "data": {
      "text/plain": [
       "'Hi my name is Male and I am a vishal'"
      ]
     },
     "execution_count": 6,
     "metadata": {},
     "output_type": "execute_result"
    }
   ],
   "source": [
    "name = 'vishal'\n",
    "gender = 'Male'\n",
    "\n",
    "'Hi my name is {1} and I am a {0}'.format(name,gender) \n",
    " \n"
   ]
  },
  {
   "cell_type": "markdown",
   "id": "c5ff45dc",
   "metadata": {},
   "source": [
    "### isalnum/ isalpha/ isdigit/ isidentifier"
   ]
  },
  {
   "cell_type": "code",
   "execution_count": 8,
   "id": "af94cda0",
   "metadata": {},
   "outputs": [
    {
     "data": {
      "text/plain": [
       "False"
      ]
     },
     "execution_count": 8,
     "metadata": {},
     "output_type": "execute_result"
    }
   ],
   "source": [
    "'vishal1234'.isalnum()  # it check our string is alphanumaric of not\n",
    "'vishal123%4'.isalnum() "
   ]
  },
  {
   "cell_type": "code",
   "execution_count": 10,
   "id": "b57c70b4",
   "metadata": {},
   "outputs": [
    {
     "data": {
      "text/plain": [
       "True"
      ]
     },
     "execution_count": 10,
     "metadata": {},
     "output_type": "execute_result"
    }
   ],
   "source": [
    "# 'vishal1234'.isalpha() # it check all are the alpha \n",
    "'vishal'.isalpha()"
   ]
  },
  {
   "cell_type": "code",
   "execution_count": 11,
   "id": "ea51c42c",
   "metadata": {},
   "outputs": [
    {
     "data": {
      "text/plain": [
       "True"
      ]
     },
     "execution_count": 11,
     "metadata": {},
     "output_type": "execute_result"
    }
   ],
   "source": [
    "'123'.isdigit()"
   ]
  },
  {
   "cell_type": "code",
   "execution_count": 14,
   "id": "b034e7c3",
   "metadata": {},
   "outputs": [
    {
     "data": {
      "text/plain": [
       "False"
      ]
     },
     "execution_count": 14,
     "metadata": {},
     "output_type": "execute_result"
    }
   ],
   "source": [
    "'1ll'.isidentifier()  # it check the identifier or variable is well."
   ]
  },
  {
   "cell_type": "markdown",
   "id": "1a6c90ea",
   "metadata": {},
   "source": [
    "### Split/Join"
   ]
  },
  {
   "cell_type": "code",
   "execution_count": 16,
   "id": "2e5db35e",
   "metadata": {},
   "outputs": [
    {
     "data": {
      "text/plain": [
       "['hi', 'my', 'name', 'is', 'vishal']"
      ]
     },
     "execution_count": 16,
     "metadata": {},
     "output_type": "execute_result"
    }
   ],
   "source": [
    "'hi my name is vishal'.split()  # word by word ko split karke list me deta hai"
   ]
  },
  {
   "cell_type": "code",
   "execution_count": 19,
   "id": "8dc6ad22",
   "metadata": {},
   "outputs": [
    {
     "data": {
      "text/plain": [
       "['h', ' my name ', 's v', 'shal']"
      ]
     },
     "execution_count": 19,
     "metadata": {},
     "output_type": "execute_result"
    }
   ],
   "source": [
    "'hi my name is vishal'.split('i') # split with i"
   ]
  },
  {
   "cell_type": "code",
   "execution_count": 20,
   "id": "5156fb7f",
   "metadata": {},
   "outputs": [
    {
     "data": {
      "text/plain": [
       "['hi my name ', ' v', 'hal']"
      ]
     },
     "execution_count": 20,
     "metadata": {},
     "output_type": "execute_result"
    }
   ],
   "source": [
    "'hi my name is vishal'.split('is')"
   ]
  },
  {
   "cell_type": "markdown",
   "id": "21496987",
   "metadata": {},
   "source": [
    "#### join"
   ]
  },
  {
   "cell_type": "code",
   "execution_count": 23,
   "id": "5dbc312b",
   "metadata": {},
   "outputs": [
    {
     "data": {
      "text/plain": [
       "'hi my name is vishal'"
      ]
     },
     "execution_count": 23,
     "metadata": {},
     "output_type": "execute_result"
    }
   ],
   "source": [
    "# is just opposite to split\n",
    "' '.join(['hi', 'my', 'name', 'is', 'vishal'])"
   ]
  },
  {
   "cell_type": "markdown",
   "id": "b5aa6cf6",
   "metadata": {},
   "source": [
    "### Replace (replace the perticular substring"
   ]
  },
  {
   "cell_type": "code",
   "execution_count": 24,
   "id": "83d64969",
   "metadata": {},
   "outputs": [
    {
     "data": {
      "text/plain": [
       "'hi my name is vmwaghmare'"
      ]
     },
     "execution_count": 24,
     "metadata": {},
     "output_type": "execute_result"
    }
   ],
   "source": [
    "'hi my name is vishal'.replace('vishal','vmwaghmare') # orginal string me replace nahi kar rahe hai, naya string form ho raha hai"
   ]
  },
  {
   "cell_type": "markdown",
   "id": "bbd273b4",
   "metadata": {},
   "source": [
    "### Strip"
   ]
  },
  {
   "cell_type": "code",
   "execution_count": 27,
   "id": "880801b2",
   "metadata": {},
   "outputs": [
    {
     "data": {
      "text/plain": [
       "'vishal'"
      ]
     },
     "execution_count": 27,
     "metadata": {},
     "output_type": "execute_result"
    }
   ],
   "source": [
    "'vishal                   '.strip()  # sare spaces hata deta hai, only end wala"
   ]
  },
  {
   "cell_type": "markdown",
   "id": "948ef033",
   "metadata": {},
   "source": [
    "## Programs on String"
   ]
  },
  {
   "cell_type": "code",
   "execution_count": 38,
   "id": "4573ef2c",
   "metadata": {},
   "outputs": [
    {
     "name": "stdout",
     "output_type": "stream",
     "text": [
      "Enter the string : Hi i am vishal\n",
      "length of string is : 14\n"
     ]
    }
   ],
   "source": [
    "# find the length of a given string without using the len() functioon\n",
    "\n",
    "s = input('Enter the string : ')\n",
    "\n",
    "counter = 0\n",
    "\n",
    "for i in s:\n",
    "    counter +=1\n",
    "\n",
    "print(f'length of string is : {counter}')"
   ]
  },
  {
   "cell_type": "code",
   "execution_count": 44,
   "id": "f2f9dcf0",
   "metadata": {},
   "outputs": [
    {
     "name": "stdout",
     "output_type": "stream",
     "text": [
      "Enter your email : vishal@gmail.com\n",
      "vishal\n"
     ]
    }
   ],
   "source": [
    "# Extract username from a given email.\n",
    "# Eg if the email is nitish24singh@gmail.com\n",
    "# then the username should be nitish24singh\n",
    "\n",
    "e = input('Enter your email : ')\n",
    "\n",
    "# l=e.split('@')\n",
    "# print(f'your user name is :{l[0]}')\n",
    "\n",
    "pos = e.index('@')\n",
    "print(e[:pos])"
   ]
  },
  {
   "cell_type": "code",
   "execution_count": 50,
   "id": "ce8a6b8e",
   "metadata": {},
   "outputs": [
    {
     "name": "stdout",
     "output_type": "stream",
     "text": [
      "Enter the string : vishal\n",
      "What do you like to search : h\n",
      "frequency 1\n"
     ]
    }
   ],
   "source": [
    "# Count the frequency of a particular character in a provided string.\n",
    "# Eg. 'hello how are you' is the string, the frequency of h in this string is 2.\n",
    "\n",
    "s = input('Enter the string : ')\n",
    "term = input('What do you like to search : ')\n",
    "\n",
    "# print(f'{s}.In this sentence the term {term} come for {s.count(term)} times')\n",
    "\n",
    "counter = 0\n",
    "\n",
    "for i in s:\n",
    "    if i == term:\n",
    "        counter +=1\n",
    "print('frequency',counter)"
   ]
  },
  {
   "cell_type": "code",
   "execution_count": 51,
   "id": "63d23c5b",
   "metadata": {},
   "outputs": [
    {
     "name": "stdout",
     "output_type": "stream",
     "text": [
      "Enter the string : vishal\n",
      "What do you like to remove : i\n",
      "vshal\n"
     ]
    }
   ],
   "source": [
    "# Write a program which can remove a particular character from a string.\n",
    "s = input('Enter the string : ')\n",
    "term = input('What do you like to remove : ')\n",
    "\n",
    "r = ''\n",
    "\n",
    "for i in s:\n",
    "    if i != term:\n",
    "        r = r+i\n",
    "\n",
    "print(r)\n",
    " "
   ]
  },
  {
   "cell_type": "code",
   "execution_count": 55,
   "id": "ff834d79",
   "metadata": {},
   "outputs": [
    {
     "name": "stdout",
     "output_type": "stream",
     "text": [
      "enter the string : go\n",
      "Not a Palindrome\n"
     ]
    }
   ],
   "source": [
    "# write a program that can check whether a given string is palindrome or not.\n",
    "\n",
    "s = input('enter the string : ')\n",
    "flag = True\n",
    "for i in range(0,len(s)//2):\n",
    "    if s[i] !=s[len(s)-i-1]:\n",
    "        flag = False\n",
    "        print('Not a Palindrome')\n",
    "        break\n",
    "if flag:\n",
    "    print('Polindrome')"
   ]
  },
  {
   "cell_type": "code",
   "execution_count": 56,
   "id": "8ebbb866",
   "metadata": {},
   "outputs": [
    {
     "data": {
      "text/plain": [
       "['hi', 'how', 'are', 'you']"
      ]
     },
     "execution_count": 56,
     "metadata": {},
     "output_type": "execute_result"
    }
   ],
   "source": [
    "# write the program to count the number of words in a string without split()\n",
    "\"hi how are you\".split()"
   ]
  },
  {
   "cell_type": "code",
   "execution_count": 65,
   "id": "f665408b",
   "metadata": {},
   "outputs": [
    {
     "name": "stdout",
     "output_type": "stream",
     "text": [
      "enter the string : Hello i am vishal\n",
      "['Hello', 'i', 'am', 'vishal']\n"
     ]
    }
   ],
   "source": [
    "s = input('enter the string : ')\n",
    "temp = ''\n",
    "l = []\n",
    "\n",
    "for i in s:\n",
    "    if i != ' ':\n",
    "        temp =temp + i    \n",
    "        \n",
    "    else:\n",
    "        l.append(temp)\n",
    "        temp = ''\n",
    "l.append(temp)        \n",
    "print(l)\n"
   ]
  },
  {
   "cell_type": "code",
   "execution_count": 79,
   "id": "6796ccb4",
   "metadata": {},
   "outputs": [
    {
     "name": "stdout",
     "output_type": "stream",
     "text": [
      "enter the string : hi how are you\n",
      "Hi How Are You\n"
     ]
    }
   ],
   "source": [
    "# Write a python program to convert a sring to title case without using the title()\n",
    "# Write a python program to convert a sring to title case without using the title()\n",
    "\n",
    "s = input('enter the string : ')\n",
    "\n",
    "l = []\n",
    "\n",
    "for i in s.split():\n",
    "    l.append(i[0].upper()+i[1:].lower())\n",
    "    \n",
    "print(' '.join(l))"
   ]
  },
  {
   "cell_type": "code",
   "execution_count": 82,
   "id": "929f9afe",
   "metadata": {},
   "outputs": [
    {
     "name": "stdout",
     "output_type": "stream",
     "text": [
      "enter the number : 345\n",
      "345\n",
      "<class 'str'>\n"
     ]
    }
   ],
   "source": [
    "# write a program that can convert a n integer to string.\n",
    "\n",
    "n = int(input('enter the number : '))\n",
    "\n",
    "digits = '0123456789'\n",
    "result = ''\n",
    "while n != 0:\n",
    "    result = digits[n % 10] + result\n",
    "    n = n//10\n",
    "    \n",
    "print(result)\n",
    "print(type(result))"
   ]
  },
  {
   "cell_type": "code",
   "execution_count": null,
   "id": "1ab6af5b",
   "metadata": {},
   "outputs": [],
   "source": []
  }
 ],
 "metadata": {
  "kernelspec": {
   "display_name": "Python 3 (ipykernel)",
   "language": "python",
   "name": "python3"
  },
  "language_info": {
   "codemirror_mode": {
    "name": "ipython",
    "version": 3
   },
   "file_extension": ".py",
   "mimetype": "text/x-python",
   "name": "python",
   "nbconvert_exporter": "python",
   "pygments_lexer": "ipython3",
   "version": "3.10.12"
  }
 },
 "nbformat": 4,
 "nbformat_minor": 5
}
