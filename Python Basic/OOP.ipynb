{
 "cells": [
  {
   "cell_type": "markdown",
   "id": "509edaaf",
   "metadata": {},
   "source": [
    "### All things in python is are objects\n",
    "### Class is a blueprint (class is set of rules which follows by the object)\n",
    "--> oop gives the power to programmer to create it's own data types.\n",
    "\n",
    "--> all datatypes in python are the classes, built-in classes. when we create the variable of the any datatype it is object of this class.\n",
    "\n",
    "\n",
    ">>> OBJECT IS INSTANCE OF CLASS\n",
    ":: Object Example\n",
    "Car.....> WagorR // wagnr=Car()"
   ]
  },
  {
   "cell_type": "code",
   "execution_count": 5,
   "id": "105b49f0",
   "metadata": {},
   "outputs": [
    {
     "ename": "AttributeError",
     "evalue": "'list' object has no attribute 'lower'",
     "output_type": "error",
     "traceback": [
      "\u001b[0;31m---------------------------------------------------------------------------\u001b[0m",
      "\u001b[0;31mAttributeError\u001b[0m                            Traceback (most recent call last)",
      "Cell \u001b[0;32mIn[5], line 2\u001b[0m\n\u001b[1;32m      1\u001b[0m l \u001b[38;5;241m=\u001b[39m [\u001b[38;5;241m1\u001b[39m,\u001b[38;5;241m2\u001b[39m,\u001b[38;5;241m3\u001b[39m]\n\u001b[0;32m----> 2\u001b[0m l\u001b[38;5;241m.\u001b[39mlower()\n",
      "\u001b[0;31mAttributeError\u001b[0m: 'list' object has no attribute 'lower'"
     ]
    }
   ],
   "source": [
    "l = [1,2,3]\n",
    "l.lower()"
   ]
  },
  {
   "cell_type": "code",
   "execution_count": 6,
   "id": "815d983d",
   "metadata": {},
   "outputs": [
    {
     "ename": "AttributeError",
     "evalue": "'str' object has no attribute 'append'",
     "output_type": "error",
     "traceback": [
      "\u001b[0;31m---------------------------------------------------------------------------\u001b[0m",
      "\u001b[0;31mAttributeError\u001b[0m                            Traceback (most recent call last)",
      "Cell \u001b[0;32mIn[6], line 2\u001b[0m\n\u001b[1;32m      1\u001b[0m s \u001b[38;5;241m=\u001b[39m \u001b[38;5;124m'\u001b[39m\u001b[38;5;124mvi\u001b[39m\u001b[38;5;124m'\u001b[39m\n\u001b[0;32m----> 2\u001b[0m s\u001b[38;5;241m.\u001b[39mappend(\u001b[38;5;124m'\u001b[39m\u001b[38;5;124ms\u001b[39m\u001b[38;5;124m'\u001b[39m)\n",
      "\u001b[0;31mAttributeError\u001b[0m: 'str' object has no attribute 'append'"
     ]
    }
   ],
   "source": [
    "s = 'vi'\n",
    "s.append('s')"
   ]
  },
  {
   "cell_type": "code",
   "execution_count": 3,
   "id": "95cda257",
   "metadata": {},
   "outputs": [
    {
     "name": "stdout",
     "output_type": "stream",
     "text": [
      "<class 'list'>\n"
     ]
    }
   ],
   "source": [
    "# l = \"vi\"\n",
    "# l.append('s') ---> AttributeError: 'str' object has no attribute 'append'\n",
    "\n",
    "# l1 = [1,2,3]  --> list is class and l is object of the class.\n",
    "# print(type(l1))  ---> <class 'list'>\n",
    "\n",
    "\n"
   ]
  },
  {
   "cell_type": "markdown",
   "id": "39b7569f",
   "metadata": {},
   "source": [
    "## Class \n",
    "Class is a blueprint\n",
    "\n",
    "* there are two classes in python built in like list, set, tuple and second is user defined."
   ]
  },
  {
   "cell_type": "code",
   "execution_count": 8,
   "id": "49e4cef9",
   "metadata": {},
   "outputs": [
    {
     "name": "stdout",
     "output_type": "stream",
     "text": [
      "<class 'list'>\n"
     ]
    }
   ],
   "source": [
    "L = [1,2,3]\n",
    "print(type(L))"
   ]
  },
  {
   "cell_type": "code",
   "execution_count": 9,
   "id": "4e6c8d4e",
   "metadata": {
    "scrolled": true
   },
   "outputs": [
    {
     "ename": "AttributeError",
     "evalue": "'list' object has no attribute 'upper'",
     "output_type": "error",
     "traceback": [
      "\u001b[0;31m---------------------------------------------------------------------------\u001b[0m",
      "\u001b[0;31mAttributeError\u001b[0m                            Traceback (most recent call last)",
      "Cell \u001b[0;32mIn[9], line 1\u001b[0m\n\u001b[0;32m----> 1\u001b[0m L\u001b[38;5;241m.\u001b[39mupper()\n",
      "\u001b[0;31mAttributeError\u001b[0m: 'list' object has no attribute 'upper'"
     ]
    }
   ],
   "source": [
    "L.upper() # here list is class and L is object"
   ]
  },
  {
   "cell_type": "markdown",
   "id": "7cc5c928",
   "metadata": {},
   "source": [
    "## Object\n",
    "Object is instance of class. \n",
    "\n",
    "Syntax to crete object of the class:\n",
    "\n",
    "* Car ----> WagnorR  // WagnorR=Car() \n",
    "* Sports --> Gilli Danda // gillidanda=Sports()\n",
    "* Animals---> Langoor // langoor=Animals()\n",
    "\n",
    "\n",
    "\n",
    "classes is set of rules which fallow objects.\n"
   ]
  },
  {
   "cell_type": "code",
   "execution_count": 10,
   "id": "fd63b789",
   "metadata": {},
   "outputs": [],
   "source": [
    "# object literal\n",
    "l = [1,2,3]"
   ]
  },
  {
   "cell_type": "code",
   "execution_count": 12,
   "id": "361f9e21",
   "metadata": {},
   "outputs": [
    {
     "data": {
      "text/plain": [
       "[]"
      ]
     },
     "execution_count": 12,
     "metadata": {},
     "output_type": "execute_result"
    }
   ],
   "source": [
    "l = list()\n",
    "l"
   ]
  },
  {
   "cell_type": "code",
   "execution_count": 13,
   "id": "8d4f9c2b",
   "metadata": {},
   "outputs": [
    {
     "data": {
      "text/plain": [
       "''"
      ]
     },
     "execution_count": 13,
     "metadata": {},
     "output_type": "execute_result"
    }
   ],
   "source": [
    "s = str()\n",
    "s"
   ]
  },
  {
   "cell_type": "markdown",
   "id": "1b0dd76d",
   "metadata": {},
   "source": [
    "How to write class name.\n",
    "## Pascal Case"
   ]
  },
  {
   "cell_type": "code",
   "execution_count": 5,
   "id": "ed9b20f2",
   "metadata": {},
   "outputs": [],
   "source": [
    "class Atm:\n",
    "    \n",
    "    # construct (function inside a class)\n",
    "    # constructor (special function)-> superpower -> iske under ka code execute karne ke liye ese call karne ki jaroorat nahi hai o explicitly execute karta hai.\n",
    "    # \n",
    "    def __init__(self):\n",
    "        self.pin = ''\n",
    "        self.balance = 0\n",
    "        self.menu()\n",
    "        self.create_pin()\n",
    "        \n",
    "        \n",
    "    def menu(self):\n",
    "        user_input = input(\"\"\"\n",
    "        Hi how can I help you?\n",
    "        1.Press 1 to create pin\n",
    "        2.Press 2 to to change pin\n",
    "        3.Press 3 to check balance\n",
    "        4.Press 4 to withdraw\n",
    "        5.Anything else to exit\n",
    "        \"\"\")\n",
    "        \n",
    "        if user_input == '1':\n",
    "            self.create_pin()\n",
    "            \n",
    "        elif user_input == '2':\n",
    "            # change pin\n",
    "            self.change_pin()\n",
    "         \n",
    "        elif user_input == '3':\n",
    "            # check balance\n",
    "            self.check_balance()\n",
    "            \n",
    "        elif user_input == '4':\n",
    "            # withdraw\n",
    "            self.withdraw()\n",
    "       \n",
    "        else:\n",
    "            exit()\n",
    "            \n",
    "    def create_pin(self):\n",
    "        user_pin = input('Enter your pin')\n",
    "        self.pin = user_pin\n",
    "            \n",
    "        user_balance = int(input('enter balance'))\n",
    "        self.balance =  user_balance\n",
    "            \n",
    "        print('pin created successfully')\n",
    "        self.menu()\n",
    "        \n",
    "        \n",
    "    def change_pin(self):\n",
    "        old_pin = input('Enter old pin')\n",
    "        if old_pin == self.pin:\n",
    "            # let him chang e the pin\n",
    "            new_pin = input('enter new pin')\n",
    "            self.pin = new_pin\n",
    "            print('pin change successfully')\n",
    "            self.menu()\n",
    "        else:\n",
    "            print('nahi karne de sakta re baba')\n",
    "            self.menu()   \n",
    "            \n",
    "    def check_balance(self):\n",
    "        user_pin = input('enter your pin')\n",
    "        if user_pin == self.pin:\n",
    "            print('Your balance is ', self.balance)\n",
    "            self.menu()\n",
    "        else:\n",
    "            print('chal nikal yahan se')\n",
    "            self.menu()\n",
    "            \n",
    "            \n",
    "    def withdraw(self):\n",
    "        user_pin = input('enter the pin')\n",
    "        if user_pin == self.pin:\n",
    "            # allow to withdraw\n",
    "            amount = int(input('enter the amount'))\n",
    "            if amount <= self.balance:\n",
    "                self.balance = self.balance-amount\n",
    "                print('withdrawl successful. balance is :',self.balance)\n",
    "            else:\n",
    "                print('abe garib')\n",
    "                self.menu()\n",
    "        else:\n",
    "            print('sale chore')\n",
    "            self.menu()"
   ]
  },
  {
   "cell_type": "code",
   "execution_count": 6,
   "id": "1d2f0f98",
   "metadata": {},
   "outputs": [
    {
     "name": "stdout",
     "output_type": "stream",
     "text": [
      "\n",
      "        Hi how can I help you?\n",
      "        1.Press 1 to create pin\n",
      "        2.Press 2 to to change pin\n",
      "        3.Press 3 to check balance\n",
      "        4.Press 4 to withdraw\n",
      "        5.Anything else to exit\n",
      "        1\n",
      "Enter your pin11\n",
      "enter balance100\n",
      "pin created successfully\n",
      "\n",
      "        Hi how can I help you?\n",
      "        1.Press 1 to create pin\n",
      "        2.Press 2 to to change pin\n",
      "        3.Press 3 to check balance\n",
      "        4.Press 4 to withdraw\n",
      "        5.Anything else to exit\n",
      "        2\n",
      "Enter old pin11\n",
      "enter new pin22\n",
      "pin change successfully\n",
      "\n",
      "        Hi how can I help you?\n",
      "        1.Press 1 to create pin\n",
      "        2.Press 2 to to change pin\n",
      "        3.Press 3 to check balance\n",
      "        4.Press 4 to withdraw\n",
      "        5.Anything else to exit\n",
      "        3\n",
      "enter your pin22\n",
      "Your balance is  100\n",
      "\n",
      "        Hi how can I help you?\n",
      "        1.Press 1 to create pin\n",
      "        2.Press 2 to to change pin\n",
      "        3.Press 3 to check balance\n",
      "        4.Press 4 to withdraw\n",
      "        5.Anything else to exit\n",
      "        4\n",
      "enter the pin22\n",
      "enter the amount111\n",
      "abe garib\n",
      "\n",
      "        Hi how can I help you?\n",
      "        1.Press 1 to create pin\n",
      "        2.Press 2 to to change pin\n",
      "        3.Press 3 to check balance\n",
      "        4.Press 4 to withdraw\n",
      "        5.Anything else to exit\n",
      "        4\n",
      "enter the pin22\n",
      "enter the amount99\n",
      "withdrawl successful. balance is : 1\n",
      "Enter your pin3\n",
      "enter balance22\n",
      "pin created successfully\n",
      "\n",
      "        Hi how can I help you?\n",
      "        1.Press 1 to create pin\n",
      "        2.Press 2 to to change pin\n",
      "        3.Press 3 to check balance\n",
      "        4.Press 4 to withdraw\n",
      "        5.Anything else to exit\n",
      "        3\n",
      "enter your pin22\n",
      "chal nikal yahan se\n",
      "\n",
      "        Hi how can I help you?\n",
      "        1.Press 1 to create pin\n",
      "        2.Press 2 to to change pin\n",
      "        3.Press 3 to check balance\n",
      "        4.Press 4 to withdraw\n",
      "        5.Anything else to exit\n",
      "        3\n",
      "enter your pin22\n",
      "chal nikal yahan se\n",
      "\n",
      "        Hi how can I help you?\n",
      "        1.Press 1 to create pin\n",
      "        2.Press 2 to to change pin\n",
      "        3.Press 3 to check balance\n",
      "        4.Press 4 to withdraw\n",
      "        5.Anything else to exit\n",
      "        3\n",
      "enter your pin3\n",
      "Your balance is  22\n",
      "\n",
      "        Hi how can I help you?\n",
      "        1.Press 1 to create pin\n",
      "        2.Press 2 to to change pin\n",
      "        3.Press 3 to check balance\n",
      "        4.Press 4 to withdraw\n",
      "        5.Anything else to exit\n",
      "        thank you\n"
     ]
    }
   ],
   "source": [
    "obj=Atm()"
   ]
  },
  {
   "cell_type": "code",
   "execution_count": 7,
   "id": "83ae799b",
   "metadata": {},
   "outputs": [
    {
     "name": "stdout",
     "output_type": "stream",
     "text": [
      "<class '__main__.Atm'>\n"
     ]
    }
   ],
   "source": [
    "print(type(obj))"
   ]
  },
  {
   "cell_type": "code",
   "execution_count": 8,
   "id": "2eae1f24",
   "metadata": {},
   "outputs": [
    {
     "data": {
      "text/plain": [
       "''"
      ]
     },
     "execution_count": 8,
     "metadata": {},
     "output_type": "execute_result"
    }
   ],
   "source": [
    "obj.pin"
   ]
  },
  {
   "cell_type": "markdown",
   "id": "f2042f69",
   "metadata": {},
   "source": [
    "# Methods Vs Functions\n",
    "\n",
    "Methods = class ke under jo function likhte ho use function nahi method bulate hai.\n",
    "\n",
    "Functions = outoff the class all are the functions."
   ]
  },
  {
   "cell_type": "code",
   "execution_count": 2,
   "id": "4567ef0d",
   "metadata": {},
   "outputs": [],
   "source": [
    "l = [1,2,3]\n",
    "len(l) #function -->bcos it is outside the list class.\n",
    "l.append(4) # method -->bcos it is inside the list class."
   ]
  },
  {
   "cell_type": "markdown",
   "id": "1e783e46",
   "metadata": {},
   "source": [
    "# Class Daigram"
   ]
  },
  {
   "cell_type": "code",
   "execution_count": 1,
   "id": "95b5a19e",
   "metadata": {},
   "outputs": [
    {
     "data": {
      "image/png": "[encoded data removed]",
      "text/plain": [
       "<IPython.core.display.Image object>"
      ]
     },
     "metadata": {},
     "output_type": "display_data"
    }
   ],
   "source": [
    "from IPython.display import display, Image\n",
    "\n",
    "# Specify the path to your image file\n",
    "image_path = '/home/vishal/Pictures/Screenshots/Screenshot from 2024-02-11 19-25-44.png'\n",
    "\n",
    "# Display the image\n",
    "display(Image(filename=image_path))\n"
   ]
  },
  {
   "cell_type": "markdown",
   "id": "bf68efff",
   "metadata": {},
   "source": [
    "# Magic Methods\n",
    "\n"
   ]
  },
  {
   "cell_type": "markdown",
   "id": "21b35441",
   "metadata": {},
   "source": [
    "### Magic Methods1\n",
    "\n",
    "The Constructor __init__()\n",
    "\n",
    "\n",
    "sabse bada fayada kya hai constructor\n",
    "\n",
    " "
   ]
  },
  {
   "cell_type": "code",
   "execution_count": null,
   "id": "4ae4dc14",
   "metadata": {},
   "outputs": [],
   "source": [
    "# The Constructor __init__()\n",
    "# inside this function code trigger automatoically when create the object \n",
    "# of the class.\n",
    "# in python ek class me ek hi constructor hota hai.which is __init__()\n",
    "\n",
    "class Temp:\n",
    "    \n",
    "    def __init__(self):\n",
    "        print('hello')\n",
    "        "
   ]
  },
  {
   "cell_type": "markdown",
   "id": "9a277221",
   "metadata": {},
   "source": [
    "# self is nothing but given object. (self is nothing but a current object) ==> self need for intra-class communication\n",
    "\n",
    "methods inside the class can't establish connection between them, there fore they use self to make connection between them, self is the object of the class. self ke badle ham salman khan bhi daal saktre hai.(self is current object). self is instance of class."
   ]
  },
  {
   "cell_type": "markdown",
   "id": "a626fd61",
   "metadata": {},
   "source": [
    "# creating own data type fraction"
   ]
  },
  {
   "cell_type": "code",
   "execution_count": 27,
   "id": "40dd8760",
   "metadata": {},
   "outputs": [],
   "source": [
    "class Fraction:\n",
    "        \n",
    "    # parameterized constructor (parameterized constructor means when we create objects this need inputs.)\n",
    "    def __init__(self,x,y):\n",
    "        self.num = x\n",
    "        self.den = y\n",
    "    \n",
    "    # use to see the object when object put in print function.\n",
    "    def __str__(self):\n",
    "        return '{}/{}'.format(self.num,self.den)\n",
    "    \n",
    "    def __add__(self,other):\n",
    "        new_num = self.num*other.den + other.num*self.den\n",
    "        new_den = self.den*other.den\n",
    "        \n",
    "        return '{}/{}'.format(new_num,new_den)\n",
    "    \n",
    "    def __sub__(self,other):\n",
    "        new_num = self.num*other.den - other.num*self.den\n",
    "        new_den = self.den*other.den\n",
    "        \n",
    "        return '{}/{}'.format(new_num,new_den)\n",
    "    \n",
    "    def __mul__(self,other):\n",
    "        new_num = self.num*other.num\n",
    "        new_den = self.den*other.den\n",
    "        \n",
    "        return '{}/{}'.format(new_num,new_den)\n",
    "    \n",
    "    def __mul__(self,other):\n",
    "        new_num = self.num*other.den\n",
    "        new_den = self.den*other.num\n",
    "        \n",
    "        return '{}/{}'.format(new_num,new_den)\n",
    "    \n",
    "    def convert_to_decimal(self):\n",
    "        return self.num/self.den\n",
    "        \n",
    "        \n"
   ]
  },
  {
   "cell_type": "code",
   "execution_count": null,
   "id": "34562b3c",
   "metadata": {},
   "outputs": [],
   "source": [
    "fr1 = Fraction(1,2)\n",
    "print(fr1)\n",
    "fr1.convert_to_decimal()"
   ]
  },
  {
   "cell_type": "code",
   "execution_count": null,
   "id": "4ff3361d",
   "metadata": {},
   "outputs": [],
   "source": [
    "fr2 = Fraction(3,4)\n",
    "print(fr2)"
   ]
  },
  {
   "cell_type": "code",
   "execution_count": 28,
   "id": "aed94e26",
   "metadata": {},
   "outputs": [
    {
     "name": "stdout",
     "output_type": "stream",
     "text": [
      "1/2\n"
     ]
    },
    {
     "data": {
      "text/plain": [
       "0.5"
      ]
     },
     "execution_count": 28,
     "metadata": {},
     "output_type": "execute_result"
    }
   ],
   "source": [
    "print(fr1 + fr2)\n",
    "print(fr1 - fr2)\n",
    "print(fr1 * fr2)\n",
    "print(fr1 / fr2)"
   ]
  },
  {
   "cell_type": "markdown",
   "id": "9f127834",
   "metadata": {},
   "source": [
    "# OOP-part=2"
   ]
  },
  {
   "cell_type": "markdown",
   "id": "4bd009f8",
   "metadata": {},
   "source": [
    "### Write OOP classes to handle the following scenarious:\n",
    "* A user can create and view 2D coordinates.\n",
    "* A user can find out the distance between 2 coordinates.\n",
    "* A user can find the distance of a coordinate from origin.\n",
    "* A user can check if a point lies on a given line.\n",
    "* A user can find the distance between a given 2D points and a given line."
   ]
  },
  {
   "cell_type": "code",
   "execution_count": 16,
   "id": "6b156043",
   "metadata": {
    "scrolled": true
   },
   "outputs": [
    {
     "name": "stdout",
     "output_type": "stream",
     "text": [
      "<50,30>\n",
      "<1,1>\n",
      "-------------------------------\n",
      "56.938563381947034\n",
      "58.309518948453004\n",
      "--------------------------------\n",
      "1x + 2y - 3 = 0\n",
      "Point is not on the line\n"
     ]
    },
    {
     "data": {
      "text/plain": [
       "50.53513629149524"
      ]
     },
     "execution_count": 16,
     "metadata": {},
     "output_type": "execute_result"
    }
   ],
   "source": [
    " \n",
    "# Class ka naam Pascal or camel case main hota hai like YouTube or iPhone\n",
    "class Point:\n",
    "    # init is constructure and self is current object , here we have given parameters that's why it's call parameterize constructor.\n",
    "    def __init__(self,x,y):\n",
    "        self.x_cod = x\n",
    "        self.y_cod = y\n",
    "        \n",
    "    # string magic function use to print the content\n",
    "    # 1. A user can create and view 2D coordinates\n",
    "    def __str__(self):\n",
    "        return '<{},{}>'.format(self.x_cod,self.y_cod)\n",
    "    \n",
    "    # 2. A user can find out the distance between 2 coordinates\n",
    "    def euclidean_distance(self,other):\n",
    "        return  ((self.x_cod - other.x_cod)**2 + (self.y_cod - other.y_cod)**2)**0.5\n",
    "    \n",
    "    # 3. A user can find the distance of a cordinate from origin\n",
    "    def distance_from_origin(self):\n",
    "#         return (self.x_cod**2 + self.y_cod**2)**0.5\n",
    "        return self.euclidean_distance(Point(0,0))\n",
    "    \n",
    "\n",
    "\n",
    "class Line:\n",
    "    def __init__(self,A,B,C):\n",
    "        self.A = A\n",
    "        self.B = B\n",
    "        self.C = C\n",
    "        \n",
    "    def __str__(self):\n",
    "        return '{}x + {}y - {} = 0'.format(self.A, self.B, self.C)\n",
    "    \n",
    "    # 4. Here ruser can check if a point lies on a given line\n",
    "    def check_point_online(self,point):\n",
    "        if self.A*point.x_cod + self.B*point.y_cod + self.C == 0:\n",
    "            return \"Points on the line\"\n",
    "        else:\n",
    "            return \"Point is not on the line\"\n",
    "        \n",
    "    def shortest_distance(line,point):\n",
    "        return abs((line.A*point.x_cod + line.B*point.y_cod + line.C)/(line.A**2 + line.B**2)**0.5)\n",
    "    \n",
    "    \n",
    "    \n",
    "p1 = Point(50,30)\n",
    "p2 = Point(1,1)\n",
    "print(p1)\n",
    "print(p2)\n",
    "\n",
    "print('-------------------------------')\n",
    "\n",
    "print(p1.euclidean_distance(p2))\n",
    "\n",
    "print(p1.distance_from_origin())\n",
    "\n",
    "print('--------------------------------')\n",
    "\n",
    "ll = Line(1,2,3)\n",
    "print(ll)\n",
    "print(ll.check_point_online(p1))\n",
    "\n",
    "\n",
    "ll.shortest_distance(p1)\n",
    "        "
   ]
  },
  {
   "cell_type": "code",
   "execution_count": 10,
   "id": "12d72ba3",
   "metadata": {},
   "outputs": [
    {
     "data": {
      "text/plain": [
       "25.0"
      ]
     },
     "execution_count": 10,
     "metadata": {},
     "output_type": "execute_result"
    }
   ],
   "source": [
    "abs(625 ** 0.5)"
   ]
  },
  {
   "cell_type": "code",
   "execution_count": 1,
   "id": "1d42ce46",
   "metadata": {},
   "outputs": [
    {
     "name": "stdout",
     "output_type": "stream",
     "text": [
      "Writing app.py\n"
     ]
    }
   ],
   "source": [
    "%%writefile app.py\n",
    "\n",
    "print('Hello World')"
   ]
  },
  {
   "cell_type": "code",
   "execution_count": 2,
   "id": "a572461e",
   "metadata": {},
   "outputs": [
    {
     "name": "stdout",
     "output_type": "stream",
     "text": [
      "Hello World\n"
     ]
    }
   ],
   "source": [
    "%run app.py"
   ]
  },
  {
   "cell_type": "code",
   "execution_count": 36,
   "id": "53e33179",
   "metadata": {},
   "outputs": [
    {
     "name": "stdout",
     "output_type": "stream",
     "text": [
      "hello Nitish\n"
     ]
    },
    {
     "data": {
      "text/plain": [
       "<__main__.Person at 0x7f36a02f9f50>"
      ]
     },
     "execution_count": 36,
     "metadata": {},
     "output_type": "execute_result"
    }
   ],
   "source": [
    "class Person:\n",
    "    \n",
    "    def __init__(self,name,country):\n",
    "        self.name = name\n",
    "        self.country = country\n",
    "        \n",
    "    def greed(self):\n",
    "        if self.country == 'India':\n",
    "            print(f\"Namastey {self.name}\")\n",
    "        else:\n",
    "            print(f\"hello {self.name}\")\n",
    "            \n",
    "p1 = Person('Vishal','India')\n",
    "p2 = Person('Nitish','USA')\n",
    "p1.country\n",
    "# p2.greed()\n",
    "# Person('Vi','Su')"
   ]
  },
  {
   "cell_type": "markdown",
   "id": "e1602152",
   "metadata": {},
   "source": [
    "## Attribute Creation from outside of the class"
   ]
  },
  {
   "cell_type": "code",
   "execution_count": 29,
   "id": "d1ce9866",
   "metadata": {},
   "outputs": [],
   "source": [
    "p1.gender = 'Male'"
   ]
  },
  {
   "cell_type": "code",
   "execution_count": 30,
   "id": "ebb4ccbc",
   "metadata": {},
   "outputs": [
    {
     "data": {
      "text/plain": [
       "'Male'"
      ]
     },
     "execution_count": 30,
     "metadata": {},
     "output_type": "execute_result"
    }
   ],
   "source": [
    "p1.gender"
   ]
  },
  {
   "cell_type": "code",
   "execution_count": 31,
   "id": "ca8163e7",
   "metadata": {},
   "outputs": [
    {
     "ename": "AttributeError",
     "evalue": "'Person' object has no attribute 'gender'",
     "output_type": "error",
     "traceback": [
      "\u001b[0;31m---------------------------------------------------------------------------\u001b[0m",
      "\u001b[0;31mAttributeError\u001b[0m                            Traceback (most recent call last)",
      "Cell \u001b[0;32mIn[31], line 1\u001b[0m\n\u001b[0;32m----> 1\u001b[0m p2\u001b[38;5;241m.\u001b[39mgender\n",
      "\u001b[0;31mAttributeError\u001b[0m: 'Person' object has no attribute 'gender'"
     ]
    }
   ],
   "source": [
    "p2.gender"
   ]
  },
  {
   "cell_type": "markdown",
   "id": "8c05358c",
   "metadata": {},
   "source": [
    "## Reference Variables\n",
    "* Reference variables hold the objects.\n",
    "* We can create objects without reference variable as well.\n",
    "* An object can have multiple reference variables.\n",
    "* Assigning a new reference variable to an existing object doesn't create a new object."
   ]
  },
  {
   "cell_type": "code",
   "execution_count": 37,
   "id": "53b1d23d",
   "metadata": {},
   "outputs": [],
   "source": [
    "# Reference variables hold the objects\n",
    "class Person:\n",
    "    \n",
    "    def __init__(self):\n",
    "        self.name = 'vishal'\n",
    "        self.gender = 'male'\n",
    "\n",
    "# p is a reference variable which contain the address of the object Person()\n",
    "p = Person()\n",
    "q = p"
   ]
  },
  {
   "cell_type": "code",
   "execution_count": 38,
   "id": "292ee69c",
   "metadata": {},
   "outputs": [
    {
     "name": "stdout",
     "output_type": "stream",
     "text": [
      "139871975916240\n",
      "139871975916240\n"
     ]
    }
   ],
   "source": [
    "print(id(p))\n",
    "print(id(q))"
   ]
  },
  {
   "cell_type": "code",
   "execution_count": 2,
   "id": "c5f84433",
   "metadata": {},
   "outputs": [],
   "source": [
    "# We can create objects without reference variable as well.\n",
    "Person()\n",
    "# but without storing it's address in reference variable we can't use it again and again."
   ]
  },
  {
   "cell_type": "code",
   "execution_count": 40,
   "id": "c9bf26c9",
   "metadata": {},
   "outputs": [
    {
     "name": "stdout",
     "output_type": "stream",
     "text": [
      "vishal\n",
      "vishal\n"
     ]
    }
   ],
   "source": [
    "# An object can have multiple reference variables.\n",
    "print(p.name)\n",
    "print(q.name)"
   ]
  },
  {
   "cell_type": "code",
   "execution_count": 41,
   "id": "662fe7c3",
   "metadata": {},
   "outputs": [
    {
     "name": "stdout",
     "output_type": "stream",
     "text": [
      "gaurav\n",
      "gaurav\n"
     ]
    }
   ],
   "source": [
    "# change attribute value with the help of 2nd object.\n",
    "q.name = 'gaurav'\n",
    "print(p.name)\n",
    "print(q.name)"
   ]
  },
  {
   "cell_type": "markdown",
   "id": "37966c5f",
   "metadata": {},
   "source": [
    "## Pass by reference"
   ]
  },
  {
   "cell_type": "code",
   "execution_count": 4,
   "id": "81cb54db",
   "metadata": {},
   "outputs": [
    {
     "name": "stdout",
     "output_type": "stream",
     "text": [
      "Hi my name is Vishal, and I am a Male\n",
      "Gaurav\n",
      "Male\n"
     ]
    }
   ],
   "source": [
    "class Person:\n",
    "    def __init__(self,name,gender):\n",
    "        self.name = name\n",
    "        self.gender = gender\n",
    "        \n",
    "        \n",
    "# outside the class -> function \n",
    "def greet(person):\n",
    "    print(f'Hi my name is {person.name}, and I am a {person.gender}')\n",
    "    p1 = Person('Gaurav','Male')\n",
    "    return p1\n",
    "    \n",
    "p = Person(\"Vishal\",\"Male\")\n",
    "\n",
    "x = greet(p)\n",
    "print(x.name)\n",
    "print(x.gender)"
   ]
  },
  {
   "cell_type": "markdown",
   "id": "9cae0683",
   "metadata": {},
   "source": [
    "# Object ki Mutability\n",
    "\n",
    "All user defined objects are mutable, like list, dictionary"
   ]
  },
  {
   "cell_type": "code",
   "execution_count": 2,
   "id": "60d1ed93",
   "metadata": {},
   "outputs": [
    {
     "name": "stdout",
     "output_type": "stream",
     "text": [
      "123825590012048\n",
      "123825590012048\n"
     ]
    }
   ],
   "source": [
    "class Person:\n",
    "    \n",
    "    def __init__(self,name,gender):\n",
    "        self.name = name\n",
    "        self.gender = gender\n",
    "        \n",
    "# outside the class -> function\n",
    "def greet(person):\n",
    "    person.name = 'nitish'\n",
    "    return person\n",
    "\n",
    "p = Person('vishal','male')\n",
    "print(id(p))\n",
    "p1 = greet(p)\n",
    "print(id(p1))"
   ]
  },
  {
   "cell_type": "markdown",
   "id": "70b42150",
   "metadata": {},
   "source": [
    "# Encapsulation\n",
    "instance var -> value of instance variable are different for each object.\n",
    "\n",
    "__ laga ke ham varibale ko private karte hai so we can't see the variable outside of the class, leking protected tarike se dekne ke liye ham ek method banate hai class call getter or change karne ke liye setter."
   ]
  },
  {
   "cell_type": "code",
   "execution_count": 3,
   "id": "c69afdce",
   "metadata": {},
   "outputs": [],
   "source": [
    "class Person:\n",
    "    \n",
    "    def __init__(self,name_input,country_input):\n",
    "        self.name = name_input\n",
    "        self.country = country_input\n",
    "p1 = Person('vishal','india')\n",
    "p2 = Person('nitish','australia')"
   ]
  },
  {
   "cell_type": "code",
   "execution_count": null,
   "id": "a942c9c9",
   "metadata": {},
   "outputs": [],
   "source": [
    "class Atm:\n",
    "    \n",
    "    # construct (function inside a class)\n",
    "    # constructor (special function)-> superpower -> iske under ka code execute karne ke liye ese call karne ki jaroorat nahi hai o explicitly execute karta hai.\n",
    "    # \n",
    "    def __init__(self):\n",
    "        self.pin = ''\n",
    "        self.balance = 0\n",
    "        self.menu()\n",
    "        self.create_pin()\n",
    "        \n",
    "        \n",
    "    def menu(self):\n",
    "        user_input = input(\"\"\"\n",
    "        Hi how can I help you?\n",
    "        1.Press 1 to create pin\n",
    "        2.Press 2 to to change pin\n",
    "        3.Press 3 to check balance\n",
    "        4.Press 4 to withdraw\n",
    "        5.Anything else to exit\n",
    "        \"\"\")\n",
    "        \n",
    "        if user_input == '1':\n",
    "            self.create_pin()\n",
    "            \n",
    "        elif user_input == '2':\n",
    "            # change pin\n",
    "            self.change_pin()\n",
    "         \n",
    "        elif user_input == '3':\n",
    "            # check balance\n",
    "            self.check_balance()\n",
    "            \n",
    "        elif user_input == '4':\n",
    "            # withdraw\n",
    "            self.withdraw()\n",
    "       \n",
    "        else:\n",
    "            exit()\n",
    "            \n",
    "    def create_pin(self):\n",
    "        user_pin = input('Enter your pin')\n",
    "        self.pin = user_pin\n",
    "            \n",
    "        user_balance = int(input('enter balance'))\n",
    "        self.balance =  user_balance\n",
    "            \n",
    "        print('pin created successfully')\n",
    "        self.menu()\n",
    "        \n",
    "        \n",
    "    def change_pin(self):\n",
    "        old_pin = input('Enter old pin')\n",
    "        if old_pin == self.pin:\n",
    "            # let him chang e the pin\n",
    "            new_pin = input('enter new pin')\n",
    "            self.pin = new_pin\n",
    "            print('pin change successfully')\n",
    "            self.menu()\n",
    "        else:\n",
    "            print('nahi karne de sakta re baba')\n",
    "            self.menu()   \n",
    "            \n",
    "    def check_balance(self):\n",
    "        user_pin = input('enter your pin')\n",
    "        if user_pin == self.pin:\n",
    "            print('Your balance is ', self.balance)\n",
    "            self.menu()\n",
    "        else:\n",
    "            print('chal nikal yahan se')\n",
    "            self.menu()\n",
    "            \n",
    "            \n",
    "    def withdraw(self):\n",
    "        user_pin = input('enter the pin')\n",
    "        if user_pin == self.pin:\n",
    "            # allow to withdraw\n",
    "            amount = int(input('enter the amount'))\n",
    "            if amount <= self.balance:\n",
    "                self.balance = self.balance-amount\n",
    "                print('withdrawl successful. balance is :',self.balance)\n",
    "            else:\n",
    "                print('abe garib')\n",
    "                self.menu()\n",
    "        else:\n",
    "            print('sale chore')\n",
    "            self.menu()"
   ]
  },
  {
   "cell_type": "markdown",
   "id": "e64bd30a",
   "metadata": {},
   "source": [
    "# Collection of objects"
   ]
  },
  {
   "cell_type": "code",
   "execution_count": 7,
   "id": "ecbbe8cd",
   "metadata": {},
   "outputs": [
    {
     "name": "stdout",
     "output_type": "stream",
     "text": [
      "<class 'set'>\n",
      "nitish male\n",
      "Suhani female\n",
      "Vishal Male\n"
     ]
    }
   ],
   "source": [
    "# list of objects\n",
    "class Person:\n",
    "    \n",
    "    def __init__(self,name,gender):\n",
    "        self.name = name \n",
    "        self.gender = gender\n",
    "        \n",
    "p1 = Person('nitish','male')\n",
    "p2 = Person('Vishal','Male')\n",
    "p3 = Person('Suhani','female')\n",
    "\n",
    "l={p1,p2,p3}\n",
    "print(type(l))\n",
    "\n",
    "for i in l:\n",
    "    print(i.name,i.gender)"
   ]
  },
  {
   "cell_type": "code",
   "execution_count": 8,
   "id": "2f962814",
   "metadata": {},
   "outputs": [
    {
     "name": "stdout",
     "output_type": "stream",
     "text": [
      "<class 'set'>\n",
      "nitish male\n",
      "Vishal Male\n",
      "Suhani female\n"
     ]
    }
   ],
   "source": [
    "# dictionary of objects\n",
    "class Person:\n",
    "    \n",
    "    def __init__(self,name,gender):\n",
    "        self.name = name \n",
    "        self.gender = gender\n",
    "        \n",
    "p1 = Person('nitish','male')\n",
    "p2 = Person('Vishal','Male')\n",
    "p3 = Person('Suhani','female')\n",
    "\n",
    "d={p1:p1,p2:p2,p3:p3}\n",
    "print(type(l))\n",
    "\n",
    "for i in d.keys():\n",
    "    print(i.name,i.gender)"
   ]
  },
  {
   "cell_type": "markdown",
   "id": "0170e9da",
   "metadata": {},
   "source": [
    "# Static Variables(Vs Instance variables)"
   ]
  },
  {
   "cell_type": "code",
   "execution_count": 9,
   "id": "c182214a",
   "metadata": {},
   "outputs": [],
   "source": [
    "# need for static vars\n",
    "\n",
    "# --> static variable class ka hota hai or it's same for all object.\n",
    "# --> variable ke naam ke age self hai to static varibale hai\n",
    "# --> instance variable object ka hota hia or it's different for each object. it is defined outside of all method or constructor in the class. esko object ka naam pakde use karte hai.\n",
    "# --> variable ke naam ke age class ka naam hai to static varibale hai.,"
   ]
  },
  {
   "cell_type": "code",
   "execution_count": null,
   "id": "64598ee7",
   "metadata": {},
   "outputs": [],
   "source": [
    "class Atm:\n",
    "    \n",
    "    counter = 1\n",
    "    \n",
    "    # construct (function inside a class)\n",
    "    # constructor (special function)-> superpower -> iske under ka code execute karne ke liye ese call karne ki jaroorat nahi hai o explicitly execute karta hai.\n",
    "    # \n",
    "    def __init__(self):\n",
    "        self.pin = ''\n",
    "        self.balance = 0\n",
    "        self.menu()\n",
    "        self.create_pin()\n",
    "        self.cid = Atm.counter \n",
    "        Atm.counter = Atm.counter + 1\n",
    "        \n",
    "        \n",
    "    def menu(self):\n",
    "        user_input = input(\"\"\"\n",
    "        Hi how can I help you?\n",
    "        1.Press 1 to create pin\n",
    "        2.Press 2 to to change pin\n",
    "        3.Press 3 to check balance\n",
    "        4.Press 4 to withdraw\n",
    "        5.Anything else to exit\n",
    "        \"\"\")\n",
    "        \n",
    "        if user_input == '1':\n",
    "            self.create_pin()\n",
    "            \n",
    "        elif user_input == '2':\n",
    "            # change pin\n",
    "            self.change_pin()\n",
    "         \n",
    "        elif user_input == '3':\n",
    "            # check balance\n",
    "            self.check_balance()\n",
    "            \n",
    "        elif user_input == '4':\n",
    "            # withdraw\n",
    "            self.withdraw()\n",
    "       \n",
    "        else:\n",
    "            exit()\n",
    "            \n",
    "    def create_pin(self):\n",
    "        user_pin = input('Enter your pin')\n",
    "        self.pin = user_pin\n",
    "            \n",
    "        user_balance = int(input('enter balance'))\n",
    "        self.balance =  user_balance\n",
    "            \n",
    "        print('pin created successfully')\n",
    "        self.menu()\n",
    "        \n",
    "        \n",
    "    def change_pin(self):\n",
    "        old_pin = input('Enter old pin')\n",
    "        if old_pin == self.pin:\n",
    "            # let him chang e the pin\n",
    "            new_pin = input('enter new pin')\n",
    "            self.pin = new_pin\n",
    "            print('pin change successfully')\n",
    "            self.menu()\n",
    "        else:\n",
    "            print('nahi karne de sakta re baba')\n",
    "            self.menu()   \n",
    "            \n",
    "    def check_balance(self):\n",
    "        user_pin = input('enter your pin')\n",
    "        if user_pin == self.pin:\n",
    "            print('Your balance is ', self.balance)\n",
    "            self.menu()\n",
    "        else:\n",
    "            print('chal nikal yahan se')\n",
    "            self.menu()\n",
    "            \n",
    "            \n",
    "    def withdraw(self):\n",
    "        user_pin = input('enter the pin')\n",
    "        if user_pin == self.pin:\n",
    "            # allow to withdraw\n",
    "            amount = int(input('enter the amount'))\n",
    "            if amount <= self.balance:\n",
    "                self.balance = self.balance-amount\n",
    "                print('withdrawl successful. balance is :',self.balance)\n",
    "            else:\n",
    "                print('abe garib')\n",
    "                self.menu()\n",
    "        else:\n",
    "            print('sale chore')\n",
    "            self.menu()"
   ]
  }
 ],
 "metadata": {
  "kernelspec": {
   "display_name": "Python 3 (ipykernel)",
   "language": "python",
   "name": "python3"
  },
  "language_info": {
   "codemirror_mode": {
    "name": "ipython",
    "version": 3
   },
   "file_extension": ".py",
   "mimetype": "text/x-python",
   "name": "python",
   "nbconvert_exporter": "python",
   "pygments_lexer": "ipython3",
   "version": "3.11.5"
  }
 },
 "nbformat": 4,
 "nbformat_minor": 5
}
