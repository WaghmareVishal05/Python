{
 "cells": [
  {
   "cell_type": "markdown",
   "id": "d0f0b30f",
   "metadata": {},
   "source": [
    "Program - The current population of a town is 10000. The population of the town is increasing at the rate of 10% per year. You have to write a program to find out the population at the end of each of the last 10 years."
   ]
  },
  {
   "cell_type": "markdown",
   "id": "99ef1c63",
   "metadata": {},
   "source": [
    "x + 10% of x = 10000\n",
    "\n",
    "X + 0.1x = 10000\n",
    "\n",
    "x = 10000/1.1"
   ]
  },
  {
   "cell_type": "code",
   "execution_count": 7,
   "id": "f12786e7",
   "metadata": {},
   "outputs": [
    {
     "name": "stdout",
     "output_type": "stream",
     "text": [
      "10 10000\n",
      "9 9090.90909090909\n",
      "8 8264.462809917353\n",
      "7 7513.148009015775\n",
      "6 6830.134553650703\n",
      "5 6209.213230591548\n",
      "4 5644.739300537771\n",
      "3 5131.5811823070635\n",
      "2 4665.07380209733\n",
      "1 4240.976183724845\n"
     ]
    }
   ],
   "source": [
    "# Code here\n",
    "current_population = 10000\n",
    "for i in range(10,0,-1):\n",
    "    print(i,current_population)\n",
    "    current_population = current_population/1.1"
   ]
  },
  {
   "cell_type": "markdown",
   "id": "764a8f7f",
   "metadata": {},
   "source": [
    "Sequence sum\n",
    "1/1!+2/2+3/3!+..."
   ]
  },
  {
   "cell_type": "code",
   "execution_count": 11,
   "id": "d653b844",
   "metadata": {},
   "outputs": [
    {
     "name": "stdout",
     "output_type": "stream",
     "text": [
      "enter n1\n",
      "1.0\n"
     ]
    }
   ],
   "source": [
    "# Code here\n",
    "\n",
    "n = int(input('enter n'))\n",
    "\n",
    "result = 0\n",
    "fact = 1\n",
    "\n",
    "for i in range(1,n+1):\n",
    "    fact = fact * i\n",
    "    result = result + i/fact\n",
    "\n",
    "print(result)"
   ]
  },
  {
   "cell_type": "markdown",
   "id": "aafb863a",
   "metadata": {},
   "source": [
    "## Nested Loops"
   ]
  },
  {
   "cell_type": "code",
   "execution_count": 15,
   "id": "7b909477",
   "metadata": {},
   "outputs": [
    {
     "name": "stdout",
     "output_type": "stream",
     "text": [
      "(1,1) (1,2) (1,3) (1,4) (1,5) (1,6) \n",
      "(2,1) (2,2) (2,3) (2,4) (2,5) (2,6) \n",
      "(3,1) (3,2) (3,3) (3,4) (3,5) (3,6) \n",
      "(4,1) (4,2) (4,3) (4,4) (4,5) (4,6) \n",
      "(5,1) (5,2) (5,3) (5,4) (5,5) (5,6) \n",
      "(6,1) (6,2) (6,3) (6,4) (6,5) (6,6) \n"
     ]
    }
   ],
   "source": [
    "# Example -> unique pairs\n",
    "\n",
    "n = 6\n",
    "\n",
    "for i in range(1,n+1):\n",
    "    for j in range(1,n+1):\n",
    "        print(f'({i},{j})',end=' ')\n",
    "    print()"
   ]
  },
  {
   "cell_type": "markdown",
   "id": "a3f6d851",
   "metadata": {},
   "source": [
    "### Pattern 1\n",
    "##### *\n",
    "##### **\n",
    "##### ***"
   ]
  },
  {
   "cell_type": "code",
   "execution_count": 26,
   "id": "71c8938a",
   "metadata": {},
   "outputs": [
    {
     "name": "stdout",
     "output_type": "stream",
     "text": [
      "Enter the value of n : 10\n",
      "* \n",
      "* * \n",
      "* * * \n",
      "* * * * \n",
      "* * * * * \n",
      "* * * * * * \n",
      "* * * * * * * \n",
      "* * * * * * * * \n",
      "* * * * * * * * * \n",
      "* * * * * * * * * * \n"
     ]
    }
   ],
   "source": [
    "n = int(input('Enter the value of n : '))\n",
    "\n",
    "for i in range(1,n+1):\n",
    "#     print('*'*i)\n",
    "    for j in range(i):\n",
    "        print('*',end=' ')\n",
    "    print()# this print function for change the line"
   ]
  },
  {
   "cell_type": "markdown",
   "id": "1db4cf19",
   "metadata": {},
   "source": [
    "### Pattern 2\n",
    "##### 1\n",
    "##### 121\n",
    "##### 12321\n",
    "##### 1234321"
   ]
  },
  {
   "cell_type": "code",
   "execution_count": 51,
   "id": "82a7db0d",
   "metadata": {},
   "outputs": [
    {
     "name": "stdout",
     "output_type": "stream",
     "text": [
      "Enter the value of n : 4\n",
      "1 \n",
      "1 2 1 \n",
      "1 2 3 2 1 \n",
      "1 2 3 4 3 2 1 \n"
     ]
    }
   ],
   "source": [
    "n = int(input('Enter the value of n : '))\n",
    "\n",
    "for i in range(1,n+1):\n",
    "    for j in range(1,i+1):\n",
    "        print(j,end=' ')\n",
    "    for j in range(i-1,0,-1):\n",
    "        print(j,end=' ')\n",
    "    print()"
   ]
  },
  {
   "cell_type": "markdown",
   "id": "58f4d2ac",
   "metadata": {},
   "source": [
    "## Loop Control Statement\n",
    "* Break  --> if any condition meet in loop then break the loop.\n",
    "* Continue  --> to skip the current iteration value\n",
    "* Pass  --> when we use pass then it don't through error. if we don't have the code."
   ]
  },
  {
   "cell_type": "code",
   "execution_count": 1,
   "id": "45113616",
   "metadata": {},
   "outputs": [
    {
     "name": "stdout",
     "output_type": "stream",
     "text": [
      "1\n",
      "2\n",
      "3\n",
      "4\n"
     ]
    }
   ],
   "source": [
    "# Break  --> if any condition meet in loop then break the loop.\n",
    "for i in range(1,10):\n",
    "    if i == 5:\n",
    "        break\n",
    "    print(i)"
   ]
  },
  {
   "cell_type": "code",
   "execution_count": 7,
   "id": "dffc841e",
   "metadata": {},
   "outputs": [
    {
     "name": "stdout",
     "output_type": "stream",
     "text": [
      "enter the lower range : 5\n",
      "enter the upper range : 25\n",
      "5\n",
      "7\n",
      "11\n",
      "13\n",
      "17\n",
      "19\n",
      "23\n"
     ]
    }
   ],
   "source": [
    "# want to find prime numbers under the 100\n",
    "lower = int(input('enter the lower range : '))\n",
    "upper = int(input('enter the upper range : '))\n",
    "\n",
    "for i in range(lower, upper+1):\n",
    "    for j in range(2,i):\n",
    "        if i % j == 0:\n",
    "            break\n",
    "    else:\n",
    "            print(i)\n"
   ]
  },
  {
   "cell_type": "code",
   "execution_count": 5,
   "id": "85ad83ce",
   "metadata": {},
   "outputs": [
    {
     "name": "stdout",
     "output_type": "stream",
     "text": [
      "1\n",
      "2\n",
      "3\n",
      "4\n",
      "6\n",
      "7\n",
      "8\n",
      "9\n"
     ]
    }
   ],
   "source": [
    "# Continue  --> to skip the current iteration value\n",
    "for i in range(1,10):\n",
    "    if i == 5:\n",
    "        continue\n",
    "    print(i)"
   ]
  },
  {
   "cell_type": "code",
   "execution_count": 9,
   "id": "342518fe",
   "metadata": {},
   "outputs": [],
   "source": [
    "#  Pass  --> when we use pass then it don't through error.\n",
    "# it is saying don't throught an error i will be writting some here\n",
    "for i in range(10):\n",
    "    pass"
   ]
  },
  {
   "cell_type": "markdown",
   "id": "6a626546",
   "metadata": {},
   "source": [
    "# Strings"
   ]
  },
  {
   "cell_type": "markdown",
   "id": "950caa0f",
   "metadata": {},
   "source": [
    "String are sequence of Characters\n",
    "\n",
    "In Python specifically, strings are a sequence of Unicode Characters\n",
    "\n",
    "* Creating Strings\n",
    "* Accessing Strings\n",
    "* Adding Chars to Strings\n",
    "* Editing Strings\n",
    "* Deleting Strings\n",
    "* Operatins on Strings\n",
    "* String Functions"
   ]
  },
  {
   "cell_type": "code",
   "execution_count": null,
   "id": "ce3902cc",
   "metadata": {},
   "outputs": [],
   "source": []
  }
 ],
 "metadata": {
  "kernelspec": {
   "display_name": "Python 3 (ipykernel)",
   "language": "python",
   "name": "python3"
  },
  "language_info": {
   "codemirror_mode": {
    "name": "ipython",
    "version": 3
   },
   "file_extension": ".py",
   "mimetype": "text/x-python",
   "name": "python",
   "nbconvert_exporter": "python",
   "pygments_lexer": "ipython3",
   "version": "3.10.12"
  }
 },
 "nbformat": 4,
 "nbformat_minor": 5
}
