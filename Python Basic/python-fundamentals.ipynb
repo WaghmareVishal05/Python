{
 "cells": [
  {
   "cell_type": "markdown",
   "metadata": {
    "id": "vuvcJNqbJV7B"
   },
   "source": [
    "compilation = is the process where you convert your whole code to binary language like:(java , c , c++)\n",
    "\n",
    "interpreter = is the process where you convert your code line by line to bianry language"
   ]
  },
  {
   "cell_type": "markdown",
   "metadata": {
    "id": "mQ0YlEt_7Qq5"
   },
   "source": [
    "# 1.Python Output print()"
   ]
  },
  {
   "cell_type": "markdown",
   "metadata": {
    "id": "sIDwfiNzCHPs"
   },
   "source": [
    "## python is interpreter language, line by line code ko machine code me convert karte hai"
   ]
  },
  {
   "cell_type": "code",
   "execution_count": 1,
   "metadata": {
    "colab": {
     "base_uri": "https://localhost:8080/"
    },
    "executionInfo": {
     "elapsed": 5,
     "status": "ok",
     "timestamp": 1702651360989,
     "user": {
      "displayName": "vishal waghmare",
      "userId": "08381415499094412684"
     },
     "user_tz": -330
    },
    "id": "LCLK93Ph676D",
    "outputId": "af0828ef-40eb-46db-e857-25beda2a5181"
   },
   "outputs": [
    {
     "name": "stdout",
     "output_type": "stream",
     "text": [
      "Hello World\n"
     ]
    }
   ],
   "source": [
    "# Python is case sensitive language\n",
    "print(\"Hello World\")"
   ]
  },
  {
   "cell_type": "code",
   "execution_count": 2,
   "metadata": {
    "colab": {
     "base_uri": "https://localhost:8080/"
    },
    "executionInfo": {
     "elapsed": 7,
     "status": "ok",
     "timestamp": 1702651428484,
     "user": {
      "displayName": "vishal waghmare",
      "userId": "08381415499094412684"
     },
     "user_tz": -330
    },
    "id": "9ZGwI3K87a12",
    "outputId": "285a34fd-b42c-4e55-8fe2-be2bb90fb03e"
   },
   "outputs": [
    {
     "name": "stdout",
     "output_type": "stream",
     "text": [
      "7\n"
     ]
    }
   ],
   "source": [
    "print(7)"
   ]
  },
  {
   "cell_type": "code",
   "execution_count": 3,
   "metadata": {
    "colab": {
     "base_uri": "https://localhost:8080/"
    },
    "executionInfo": {
     "elapsed": 7,
     "status": "ok",
     "timestamp": 1702651440346,
     "user": {
      "displayName": "vishal waghmare",
      "userId": "08381415499094412684"
     },
     "user_tz": -330
    },
    "id": "vw1QVoUu7vW5",
    "outputId": "beb9b78e-03e4-4089-fa6c-0d754b1a1583"
   },
   "outputs": [
    {
     "name": "stdout",
     "output_type": "stream",
     "text": [
      "True\n"
     ]
    }
   ],
   "source": [
    "print(True)"
   ]
  },
  {
   "cell_type": "code",
   "execution_count": 4,
   "metadata": {
    "colab": {
     "base_uri": "https://localhost:8080/"
    },
    "executionInfo": {
     "elapsed": 7,
     "status": "ok",
     "timestamp": 1702651526241,
     "user": {
      "displayName": "vishal waghmare",
      "userId": "08381415499094412684"
     },
     "user_tz": -330
    },
    "id": "nVahz8LO7yT-",
    "outputId": "4211cc50-61a5-47c5-f225-0cecd109890d"
   },
   "outputs": [
    {
     "name": "stdout",
     "output_type": "stream",
     "text": [
      "Hello 1 4.5 True\n"
     ]
    }
   ],
   "source": [
    "print(\"Hello\",1,4.5,True)"
   ]
  },
  {
   "cell_type": "markdown",
   "metadata": {
    "id": "Q8yDXfeI83-R"
   },
   "source": [
    "## Separator"
   ]
  },
  {
   "cell_type": "code",
   "execution_count": 5,
   "metadata": {
    "colab": {
     "base_uri": "https://localhost:8080/"
    },
    "executionInfo": {
     "elapsed": 828,
     "status": "ok",
     "timestamp": 1702651712061,
     "user": {
      "displayName": "vishal waghmare",
      "userId": "08381415499094412684"
     },
     "user_tz": -330
    },
    "id": "IX2os7Kq8HFw",
    "outputId": "858a24dc-b29b-43f4-e9e3-93c45028eaab"
   },
   "outputs": [
    {
     "name": "stdout",
     "output_type": "stream",
     "text": [
      "Hello/1/4.5/True\n"
     ]
    }
   ],
   "source": [
    "print('Hello',1,4.5,True,sep='/')"
   ]
  },
  {
   "cell_type": "markdown",
   "metadata": {
    "id": "Ycjv6TBR9Mym"
   },
   "source": [
    "## end"
   ]
  },
  {
   "cell_type": "code",
   "execution_count": 9,
   "metadata": {
    "colab": {
     "base_uri": "https://localhost:8080/"
    },
    "executionInfo": {
     "elapsed": 7,
     "status": "ok",
     "timestamp": 1702651929792,
     "user": {
      "displayName": "vishal waghmare",
      "userId": "08381415499094412684"
     },
     "user_tz": -330
    },
    "id": "WGJIWXqP80tZ",
    "outputId": "c9513c09-4ed7-4030-ee1a-558b1d647e3b"
   },
   "outputs": [
    {
     "name": "stdout",
     "output_type": "stream",
     "text": [
      "Hallo\n",
      "World\n"
     ]
    }
   ],
   "source": [
    "# by deafault is new line (end='\\n')\n",
    "print(\"Hallo\")\n",
    "print(\"World\")"
   ]
  },
  {
   "cell_type": "code",
   "execution_count": 10,
   "metadata": {
    "colab": {
     "base_uri": "https://localhost:8080/"
    },
    "executionInfo": {
     "elapsed": 6,
     "status": "ok",
     "timestamp": 1702651930571,
     "user": {
      "displayName": "vishal waghmare",
      "userId": "08381415499094412684"
     },
     "user_tz": -330
    },
    "id": "tdm2wRPx9WSd",
    "outputId": "c683eddf-8b52-4cc2-a8cb-ed74b25f63ed"
   },
   "outputs": [
    {
     "name": "stdout",
     "output_type": "stream",
     "text": [
      "Hallo-World\n"
     ]
    }
   ],
   "source": [
    "print(\"Hallo\",end='-')\n",
    "print(\"World\")"
   ]
  },
  {
   "cell_type": "markdown",
   "metadata": {
    "id": "YaVxBIrd-dWn"
   },
   "source": [
    "# 2.Data Types (Data ko hold karne ka tarika)"
   ]
  },
  {
   "cell_type": "markdown",
   "metadata": {
    "id": "aLL1HGPb_Gz8"
   },
   "source": [
    "## Integer"
   ]
  },
  {
   "cell_type": "code",
   "execution_count": 16,
   "metadata": {
    "colab": {
     "base_uri": "https://localhost:8080/"
    },
    "executionInfo": {
     "elapsed": 7,
     "status": "ok",
     "timestamp": 1702652386286,
     "user": {
      "displayName": "vishal waghmare",
      "userId": "08381415499094412684"
     },
     "user_tz": -330
    },
    "id": "rkBozDAK-hsr",
    "outputId": "1bd24ef3-6273-4230-f444-c965485e44c1"
   },
   "outputs": [
    {
     "name": "stdout",
     "output_type": "stream",
     "text": [
      "8\n",
      "inf\n"
     ]
    }
   ],
   "source": [
    "print(8)\n",
    "# 1*10^308 last number can handle\n",
    "print(1e309)"
   ]
  },
  {
   "cell_type": "markdown",
   "metadata": {
    "id": "aummyPsn_L_y"
   },
   "source": [
    "## Decimal/Float"
   ]
  },
  {
   "cell_type": "code",
   "execution_count": 15,
   "metadata": {
    "colab": {
     "base_uri": "https://localhost:8080/"
    },
    "executionInfo": {
     "elapsed": 6,
     "status": "ok",
     "timestamp": 1702652371542,
     "user": {
      "displayName": "vishal waghmare",
      "userId": "08381415499094412684"
     },
     "user_tz": -330
    },
    "id": "IAQGRVK1-59n",
    "outputId": "38ab5c86-755f-409f-90fe-315af9238de8"
   },
   "outputs": [
    {
     "name": "stdout",
     "output_type": "stream",
     "text": [
      "8.55\n",
      "inf\n"
     ]
    }
   ],
   "source": [
    "print(8.55)\n",
    "print(1.7e309)"
   ]
  },
  {
   "cell_type": "markdown",
   "metadata": {
    "id": "pNr_E3hR_chu"
   },
   "source": [
    "## Boolean"
   ]
  },
  {
   "cell_type": "code",
   "execution_count": 17,
   "metadata": {
    "colab": {
     "base_uri": "https://localhost:8080/"
    },
    "executionInfo": {
     "elapsed": 6,
     "status": "ok",
     "timestamp": 1702652443011,
     "user": {
      "displayName": "vishal waghmare",
      "userId": "08381415499094412684"
     },
     "user_tz": -330
    },
    "id": "GvlCWgHb_V2C",
    "outputId": "835a963d-2f31-48be-fb32-8b7ed66d7b40"
   },
   "outputs": [
    {
     "name": "stdout",
     "output_type": "stream",
     "text": [
      "True\n",
      "False\n"
     ]
    }
   ],
   "source": [
    "print(True)\n",
    "print(False)"
   ]
  },
  {
   "cell_type": "markdown",
   "metadata": {
    "id": "R7bsGBDE_wcS"
   },
   "source": [
    "## Text/String"
   ]
  },
  {
   "cell_type": "code",
   "execution_count": 18,
   "metadata": {
    "colab": {
     "base_uri": "https://localhost:8080/"
    },
    "executionInfo": {
     "elapsed": 8,
     "status": "ok",
     "timestamp": 1702652529638,
     "user": {
      "displayName": "vishal waghmare",
      "userId": "08381415499094412684"
     },
     "user_tz": -330
    },
    "id": "_uYMR28u_nFL",
    "outputId": "828d35ba-98bb-4c87-cd46-62e3187cf284"
   },
   "outputs": [
    {
     "name": "stdout",
     "output_type": "stream",
     "text": [
      "Hello World\n"
     ]
    }
   ],
   "source": [
    "print(\"Hello World\")"
   ]
  },
  {
   "cell_type": "markdown",
   "metadata": {
    "id": "WZSYhAxZAAh1"
   },
   "source": [
    "## Complex Number (real+imaginary part)"
   ]
  },
  {
   "cell_type": "code",
   "execution_count": 19,
   "metadata": {
    "colab": {
     "base_uri": "https://localhost:8080/"
    },
    "executionInfo": {
     "elapsed": 3,
     "status": "ok",
     "timestamp": 1702652580910,
     "user": {
      "displayName": "vishal waghmare",
      "userId": "08381415499094412684"
     },
     "user_tz": -330
    },
    "id": "Tsv0-w2o_8X0",
    "outputId": "7d5343f4-28b1-4321-dd83-83844216d75a"
   },
   "outputs": [
    {
     "name": "stdout",
     "output_type": "stream",
     "text": [
      "(5+6j)\n"
     ]
    }
   ],
   "source": [
    "print(5+6j)"
   ]
  },
  {
   "cell_type": "markdown",
   "metadata": {
    "id": "Xl4STBZBARrC"
   },
   "source": [
    "## List -> C -> Array"
   ]
  },
  {
   "cell_type": "code",
   "execution_count": 20,
   "metadata": {
    "colab": {
     "base_uri": "https://localhost:8080/"
    },
    "executionInfo": {
     "elapsed": 8,
     "status": "ok",
     "timestamp": 1702652650371,
     "user": {
      "displayName": "vishal waghmare",
      "userId": "08381415499094412684"
     },
     "user_tz": -330
    },
    "id": "vj2vh6S4AIu1",
    "outputId": "c5638a0c-9071-49a3-d866-d4f6458efaa1"
   },
   "outputs": [
    {
     "name": "stdout",
     "output_type": "stream",
     "text": [
      "[1, 2, 3, 4]\n"
     ]
    }
   ],
   "source": [
    "print([1,2,3,4])"
   ]
  },
  {
   "cell_type": "markdown",
   "metadata": {
    "id": "of7-RXY1AeXY"
   },
   "source": [
    "## Tuple"
   ]
  },
  {
   "cell_type": "code",
   "execution_count": 21,
   "metadata": {
    "colab": {
     "base_uri": "https://localhost:8080/"
    },
    "executionInfo": {
     "elapsed": 8,
     "status": "ok",
     "timestamp": 1702652700132,
     "user": {
      "displayName": "vishal waghmare",
      "userId": "08381415499094412684"
     },
     "user_tz": -330
    },
    "id": "bZ3PzZwKAZ6S",
    "outputId": "46da73c6-f2f8-42bf-b169-a178ccea5a45"
   },
   "outputs": [
    {
     "name": "stdout",
     "output_type": "stream",
     "text": [
      "(1, 2, 3, 4)\n"
     ]
    }
   ],
   "source": [
    "print((1,2,3,4))"
   ]
  },
  {
   "cell_type": "markdown",
   "metadata": {
    "id": "EG7phd8oApc1"
   },
   "source": [
    "## Set"
   ]
  },
  {
   "cell_type": "code",
   "execution_count": 22,
   "metadata": {
    "colab": {
     "base_uri": "https://localhost:8080/"
    },
    "executionInfo": {
     "elapsed": 15,
     "status": "ok",
     "timestamp": 1702652733008,
     "user": {
      "displayName": "vishal waghmare",
      "userId": "08381415499094412684"
     },
     "user_tz": -330
    },
    "id": "x-ejg3XzAlcW",
    "outputId": "a338cfd4-a4a5-4b6a-dd55-bd8106161cd0"
   },
   "outputs": [
    {
     "name": "stdout",
     "output_type": "stream",
     "text": [
      "{1, 2, 3, 4}\n"
     ]
    }
   ],
   "source": [
    "print({1,2,3,4})"
   ]
  },
  {
   "cell_type": "markdown",
   "metadata": {
    "id": "kne3eoVPAu6l"
   },
   "source": [
    "## Dictionary"
   ]
  },
  {
   "cell_type": "code",
   "execution_count": 25,
   "metadata": {
    "colab": {
     "base_uri": "https://localhost:8080/"
    },
    "executionInfo": {
     "elapsed": 7,
     "status": "ok",
     "timestamp": 1702652822191,
     "user": {
      "displayName": "vishal waghmare",
      "userId": "08381415499094412684"
     },
     "user_tz": -330
    },
    "id": "pv2Bibx2AtVT",
    "outputId": "8188f6f4-5c6a-4b1c-faf6-00ff8c85296e"
   },
   "outputs": [
    {
     "name": "stdout",
     "output_type": "stream",
     "text": [
      "{'name': 'Vishal', 'Age': 22, 'Placement': 'Done'}\n"
     ]
    }
   ],
   "source": [
    "print({'name':'Vishal','Age':22,'Placement':'Done'})"
   ]
  },
  {
   "cell_type": "markdown",
   "metadata": {
    "id": "p44qKo4UCiqA"
   },
   "source": [
    "# Type"
   ]
  },
  {
   "cell_type": "code",
   "execution_count": 26,
   "metadata": {
    "colab": {
     "base_uri": "https://localhost:8080/"
    },
    "executionInfo": {
     "elapsed": 10,
     "status": "ok",
     "timestamp": 1702653221093,
     "user": {
      "displayName": "vishal waghmare",
      "userId": "08381415499094412684"
     },
     "user_tz": -330
    },
    "id": "vzDfmnYWA-tn",
    "outputId": "6de0f683-ffe5-4d75-c116-7771a3022900"
   },
   "outputs": [
    {
     "data": {
      "text/plain": [
       "int"
      ]
     },
     "execution_count": 26,
     "metadata": {},
     "output_type": "execute_result"
    }
   ],
   "source": [
    "type(1)"
   ]
  },
  {
   "cell_type": "code",
   "execution_count": 27,
   "metadata": {
    "colab": {
     "base_uri": "https://localhost:8080/"
    },
    "executionInfo": {
     "elapsed": 6,
     "status": "ok",
     "timestamp": 1702653230097,
     "user": {
      "displayName": "vishal waghmare",
      "userId": "08381415499094412684"
     },
     "user_tz": -330
    },
    "id": "aGcJ-z09Ck0y",
    "outputId": "516f0015-2ecb-48d8-b62a-98c7f9cb11a6"
   },
   "outputs": [
    {
     "data": {
      "text/plain": [
       "list"
      ]
     },
     "execution_count": 27,
     "metadata": {},
     "output_type": "execute_result"
    }
   ],
   "source": [
    "type([1,2,3])"
   ]
  },
  {
   "cell_type": "code",
   "execution_count": 28,
   "metadata": {
    "colab": {
     "base_uri": "https://localhost:8080/"
    },
    "executionInfo": {
     "elapsed": 7,
     "status": "ok",
     "timestamp": 1702653245052,
     "user": {
      "displayName": "vishal waghmare",
      "userId": "08381415499094412684"
     },
     "user_tz": -330
    },
    "id": "kjOWwN4JCnZB",
    "outputId": "1e75abe5-3cbd-4a45-dd38-7012b3a35005"
   },
   "outputs": [
    {
     "data": {
      "text/plain": [
       "complex"
      ]
     },
     "execution_count": 28,
     "metadata": {},
     "output_type": "execute_result"
    }
   ],
   "source": [
    "type(5+7j)"
   ]
  },
  {
   "cell_type": "code",
   "execution_count": 29,
   "metadata": {
    "colab": {
     "base_uri": "https://localhost:8080/"
    },
    "executionInfo": {
     "elapsed": 7,
     "status": "ok",
     "timestamp": 1702653259716,
     "user": {
      "displayName": "vishal waghmare",
      "userId": "08381415499094412684"
     },
     "user_tz": -330
    },
    "id": "i2PL-nzsCqwK",
    "outputId": "57baefd2-bf1d-4474-a8aa-be735b62c0dc"
   },
   "outputs": [
    {
     "data": {
      "text/plain": [
       "dict"
      ]
     },
     "execution_count": 29,
     "metadata": {},
     "output_type": "execute_result"
    }
   ],
   "source": [
    "type({1:2})"
   ]
  },
  {
   "cell_type": "markdown",
   "metadata": {
    "id": "qCoFWFspCzfe"
   },
   "source": [
    "# Variable\n",
    "## Static Vs Dynamic Typing\n",
    "## Static Vs Dynamic Binding\n",
    "## Stylish declaration techniques"
   ]
  },
  {
   "cell_type": "markdown",
   "metadata": {
    "id": "h_Xk1krSC2Wa"
   },
   "source": [
    "variables are basically containers, where we store the information\n",
    "\n",
    "python able to automatically detect what is data type of variable"
   ]
  },
  {
   "cell_type": "code",
   "execution_count": 30,
   "metadata": {
    "colab": {
     "base_uri": "https://localhost:8080/"
    },
    "executionInfo": {
     "elapsed": 4,
     "status": "ok",
     "timestamp": 1702653571604,
     "user": {
      "displayName": "vishal waghmare",
      "userId": "08381415499094412684"
     },
     "user_tz": -330
    },
    "id": "x96sSI01Curr",
    "outputId": "d16e1828-79a0-46ba-fb77-4cff2c31eed2"
   },
   "outputs": [
    {
     "name": "stdout",
     "output_type": "stream",
     "text": [
      "Vishal\n"
     ]
    }
   ],
   "source": [
    "name = 'Vishal'\n",
    "print(name)"
   ]
  },
  {
   "cell_type": "code",
   "execution_count": 31,
   "metadata": {
    "colab": {
     "base_uri": "https://localhost:8080/"
    },
    "executionInfo": {
     "elapsed": 6,
     "status": "ok",
     "timestamp": 1702653584287,
     "user": {
      "displayName": "vishal waghmare",
      "userId": "08381415499094412684"
     },
     "user_tz": -330
    },
    "id": "U_S7pOanD6hd",
    "outputId": "fa211e60-2d65-4230-8b69-50a400034351"
   },
   "outputs": [
    {
     "name": "stdout",
     "output_type": "stream",
     "text": [
      "11\n"
     ]
    }
   ],
   "source": [
    "a = 5\n",
    "b = 6\n",
    "print(a+b)"
   ]
  },
  {
   "cell_type": "markdown",
   "metadata": {
    "id": "Q6Tb_ZyEEHzy"
   },
   "source": [
    "## Dyanmic Typing == Python"
   ]
  },
  {
   "cell_type": "markdown",
   "metadata": {
    "id": "4HH2WXEuEcOg"
   },
   "source": [
    "Where you don't tell what is type of variable, python's interepreter automatically understand and create the variable it's call dynamic typing"
   ]
  },
  {
   "cell_type": "code",
   "execution_count": 33,
   "metadata": {
    "executionInfo": {
     "elapsed": 5,
     "status": "ok",
     "timestamp": 1702653808344,
     "user": {
      "displayName": "vishal waghmare",
      "userId": "08381415499094412684"
     },
     "user_tz": -330
    },
    "id": "k7iOd3aDEtJD"
   },
   "outputs": [],
   "source": [
    "a = 5"
   ]
  },
  {
   "cell_type": "markdown",
   "metadata": {
    "id": "JR5ZU821E2CD"
   },
   "source": [
    "## Static Typing == C, C++, Java\n",
    "### here we have to tell type of variable"
   ]
  },
  {
   "cell_type": "code",
   "execution_count": 34,
   "metadata": {
    "executionInfo": {
     "elapsed": 4,
     "status": "ok",
     "timestamp": 1702653904610,
     "user": {
      "displayName": "vishal waghmare",
      "userId": "08381415499094412684"
     },
     "user_tz": -330
    },
    "id": "Wph6Q3-ME0jw"
   },
   "outputs": [],
   "source": [
    "# int a = 5"
   ]
  },
  {
   "cell_type": "markdown",
   "metadata": {
    "id": "ZNeC1KmMFj_P"
   },
   "source": [
    "## Dynamic Binding\n"
   ]
  },
  {
   "cell_type": "code",
   "execution_count": 50,
   "metadata": {
    "colab": {
     "base_uri": "https://localhost:8080/"
    },
    "executionInfo": {
     "elapsed": 962,
     "status": "ok",
     "timestamp": 1702656417217,
     "user": {
      "displayName": "vishal waghmare",
      "userId": "08381415499094412684"
     },
     "user_tz": -330
    },
    "id": "NKGukQU_FMH5",
    "outputId": "56706999-ce0b-484b-d5dc-3368fe3f6d4f"
   },
   "outputs": [
    {
     "name": "stdout",
     "output_type": "stream",
     "text": [
      "5\n",
      "Vishal\n"
     ]
    }
   ],
   "source": [
    "# python's variable can hold any data type in same program\n",
    "a = 5\n",
    "print(a)\n",
    "a = \"Vishal\"\n",
    "print(a)"
   ]
  },
  {
   "cell_type": "markdown",
   "metadata": {
    "id": "u5WiANehF-af"
   },
   "source": [
    "## Static Binding\n"
   ]
  },
  {
   "cell_type": "code",
   "execution_count": 51,
   "metadata": {
    "executionInfo": {
     "elapsed": 1204,
     "status": "ok",
     "timestamp": 1702656449232,
     "user": {
      "displayName": "vishal waghmare",
      "userId": "08381415499094412684"
     },
     "user_tz": -330
    },
    "id": "p14Icq2CF3Et"
   },
   "outputs": [],
   "source": [
    "# in C, C++, Java, variable can't holt another data type in program\n",
    "# int a = 5"
   ]
  },
  {
   "cell_type": "markdown",
   "metadata": {
    "id": "qqxqSC2TGhWT"
   },
   "source": [
    "## Styles to write variables"
   ]
  },
  {
   "cell_type": "code",
   "execution_count": 38,
   "metadata": {
    "colab": {
     "base_uri": "https://localhost:8080/"
    },
    "executionInfo": {
     "elapsed": 6,
     "status": "ok",
     "timestamp": 1702654285225,
     "user": {
      "displayName": "vishal waghmare",
      "userId": "08381415499094412684"
     },
     "user_tz": -330
    },
    "id": "ceP7qwoWGa-0",
    "outputId": "e5621d0b-122e-49dc-de19-ed0913271548"
   },
   "outputs": [
    {
     "name": "stdout",
     "output_type": "stream",
     "text": [
      "1 2 3\n"
     ]
    }
   ],
   "source": [
    "a = 1\n",
    "b = 2\n",
    "c = 3\n",
    "print(a,b,c)"
   ]
  },
  {
   "cell_type": "code",
   "execution_count": 40,
   "metadata": {
    "colab": {
     "base_uri": "https://localhost:8080/"
    },
    "executionInfo": {
     "elapsed": 651,
     "status": "ok",
     "timestamp": 1702654306762,
     "user": {
      "displayName": "vishal waghmare",
      "userId": "08381415499094412684"
     },
     "user_tz": -330
    },
    "id": "JZWF14kDGoxy",
    "outputId": "a74874c0-52ba-4c80-edb5-369b75de003e"
   },
   "outputs": [
    {
     "name": "stdout",
     "output_type": "stream",
     "text": [
      "1 2 3\n"
     ]
    }
   ],
   "source": [
    "a,b,c = 1,2,3\n",
    "print(a,b,c)"
   ]
  },
  {
   "cell_type": "code",
   "execution_count": 42,
   "metadata": {
    "colab": {
     "base_uri": "https://localhost:8080/"
    },
    "executionInfo": {
     "elapsed": 8,
     "status": "ok",
     "timestamp": 1702654365722,
     "user": {
      "displayName": "vishal waghmare",
      "userId": "08381415499094412684"
     },
     "user_tz": -330
    },
    "id": "DXcxz3XPGrTm",
    "outputId": "3c18d2f3-b273-40a4-81ee-b3ce018a1c19"
   },
   "outputs": [
    {
     "name": "stdout",
     "output_type": "stream",
     "text": [
      "5 5 5\n"
     ]
    }
   ],
   "source": [
    "a=b=c= 5\n",
    "print(a,b,c)"
   ]
  },
  {
   "cell_type": "markdown",
   "metadata": {
    "id": "u08B7WA6ITGN"
   },
   "source": [
    "# Comments\n"
   ]
  },
  {
   "cell_type": "code",
   "execution_count": null,
   "metadata": {
    "id": "vAeMNV2HIY6A"
   },
   "outputs": [],
   "source": [
    "# Doing addition of a and b   === python interpreter ignore this line/ not execute\n",
    "a = 5\n",
    "b = 6\n",
    "print(a+b)"
   ]
  },
  {
   "cell_type": "markdown",
   "metadata": {
    "id": "Kn5erSkJIMvo"
   },
   "source": [
    "# 4.Keywords and Identifiers"
   ]
  },
  {
   "cell_type": "code",
   "execution_count": 43,
   "metadata": {
    "executionInfo": {
     "elapsed": 3,
     "status": "ok",
     "timestamp": 1702655320103,
     "user": {
      "displayName": "vishal waghmare",
      "userId": "08381415499094412684"
     },
     "user_tz": -330
    },
    "id": "qVahrIxxG5x8"
   },
   "outputs": [],
   "source": [
    "# Keywords : which words resereved by the interpreter or compiler, use to understand the program, in python ther are 32 keywords\n",
    "# like print, if , else , True, None, def, import"
   ]
  },
  {
   "cell_type": "code",
   "execution_count": 49,
   "metadata": {
    "colab": {
     "base_uri": "https://localhost:8080/"
    },
    "executionInfo": {
     "elapsed": 6,
     "status": "ok",
     "timestamp": 1702656299002,
     "user": {
      "displayName": "vishal waghmare",
      "userId": "08381415499094412684"
     },
     "user_tz": -330
    },
    "id": "6Yk7GKVsKlm5",
    "outputId": "b3f02eda-cb29-4460-fd8f-e460829f1fe1"
   },
   "outputs": [
    {
     "name": "stdout",
     "output_type": "stream",
     "text": [
      "Vishal\n",
      "Vishal_waghmare\n",
      "Its ok\n"
     ]
    }
   ],
   "source": [
    "# Identifiers : programer give the name in prgram that's call identifier.\n",
    "# like variable name, function name,\n",
    "\n",
    "# 1.Rules to write identifiers\n",
    "\n",
    "# You can't start with a digit\n",
    "\n",
    "# 1name = 'Vishal'\n",
    "\n",
    "name1 = 'Vishal'\n",
    "print(name1)\n",
    "\n",
    "# 2.you can use only special chars -> _ (underscore)\n",
    "\n",
    "# first-name = 'Vishal'\n",
    "\n",
    "first_name = 'Vishal_waghmare'\n",
    "print(first_name)\n",
    "_ = 'Its ok'\n",
    "print(_)\n",
    "\n",
    "# 3. Identifiers can't be keywords"
   ]
  },
  {
   "cell_type": "markdown",
   "metadata": {
    "id": "zHzIK4LYPQm9"
   },
   "source": [
    "# 5.User Input"
   ]
  },
  {
   "cell_type": "code",
   "execution_count": 57,
   "metadata": {
    "colab": {
     "base_uri": "https://localhost:8080/"
    },
    "executionInfo": {
     "elapsed": 5314,
     "status": "ok",
     "timestamp": 1702656952434,
     "user": {
      "displayName": "vishal waghmare",
      "userId": "08381415499094412684"
     },
     "user_tz": -330
    },
    "id": "ewoMX24KNCJ0",
    "outputId": "2a3a6cd4-627f-4352-c898-1198f14d16bf"
   },
   "outputs": [
    {
     "name": "stdout",
     "output_type": "stream",
     "text": [
      "Enter your name :12\n",
      "A name of Data Scientist is : 12\n"
     ]
    }
   ],
   "source": [
    "name = str(input('Enter your name :'))\n",
    "print(f\"A name of Data Scientist is : {name}\")"
   ]
  },
  {
   "cell_type": "code",
   "execution_count": 60,
   "metadata": {
    "colab": {
     "base_uri": "https://localhost:8080/"
    },
    "executionInfo": {
     "elapsed": 13733,
     "status": "ok",
     "timestamp": 1702657223361,
     "user": {
      "displayName": "vishal waghmare",
      "userId": "08381415499094412684"
     },
     "user_tz": -330
    },
    "id": "3Aya22UiPwyq",
    "outputId": "ca20a2c6-bc55-4268-c164-8707582a511a"
   },
   "outputs": [
    {
     "name": "stdout",
     "output_type": "stream",
     "text": [
      "Enter the first number :5\n",
      "Enter the second number :7\n",
      "Addition of a+b is : 12\n"
     ]
    }
   ],
   "source": [
    "# take input from user and store them in variable\n",
    "# add the two variables\n",
    "# print the result\n",
    "\n",
    "a = int(input('Enter the first number :'))\n",
    "b = int(input('Enter the second number :'))\n",
    "print(f'Addition of a+b is : {a+b}')"
   ]
  },
  {
   "cell_type": "code",
   "execution_count": 62,
   "metadata": {
    "colab": {
     "base_uri": "https://localhost:8080/"
    },
    "executionInfo": {
     "elapsed": 13111,
     "status": "ok",
     "timestamp": 1702657299735,
     "user": {
      "displayName": "vishal waghmare",
      "userId": "08381415499094412684"
     },
     "user_tz": -330
    },
    "id": "TEDIhO92RfFe",
    "outputId": "4d47f7d2-d461-4d81-917d-43ca27802e1e"
   },
   "outputs": [
    {
     "name": "stdout",
     "output_type": "stream",
     "text": [
      "Enter the first number :Vishal \n",
      "Enter the second number :Waghmare\n",
      "Addition of a+b is : Vishal Waghmare\n"
     ]
    }
   ],
   "source": [
    "# take input from user and store them in variable\n",
    "# add the two variables\n",
    "# print the result\n",
    "\n",
    "a = input('Enter the first number :')\n",
    "b = input('Enter the second number :')\n",
    "print(f'Addition of a+b is : {a+b}')"
   ]
  },
  {
   "cell_type": "code",
   "execution_count": 63,
   "metadata": {
    "colab": {
     "base_uri": "https://localhost:8080/"
    },
    "executionInfo": {
     "elapsed": 7611,
     "status": "ok",
     "timestamp": 1702657431441,
     "user": {
      "displayName": "vishal waghmare",
      "userId": "08381415499094412684"
     },
     "user_tz": -330
    },
    "id": "g57xIpsMR-86",
    "outputId": "2fa8afde-e0b8-4030-fd52-13487340e5ec"
   },
   "outputs": [
    {
     "name": "stdout",
     "output_type": "stream",
     "text": [
      "Enter the first number :10\n",
      "Enter the second number :15\n",
      "<class 'str'> <class 'str'>\n",
      "Addition of a+b is : 1015\n"
     ]
    }
   ],
   "source": [
    "# take input from user and store them in variable\n",
    "# add the two variables\n",
    "# print the result\n",
    "\n",
    "a = input('Enter the first number :')\n",
    "b = input('Enter the second number :')\n",
    "print(type(a),type(b))\n",
    "print(f'Addition of a+b is : {a+b}')"
   ]
  },
  {
   "cell_type": "markdown",
   "metadata": {
    "id": "_FeA8e86S2cv"
   },
   "source": [
    "String is universal format, we can store any data type in string."
   ]
  },
  {
   "cell_type": "markdown",
   "metadata": {
    "id": "3dNSzRhGT2xP"
   },
   "source": [
    "# 6.Type Conversion\n",
    "\n",
    "convert one data type to another : Types\n",
    "\n",
    "Implicit conversion Vs Explicit Conversion\n",
    "\n",
    "\n",
    "\n"
   ]
  },
  {
   "cell_type": "code",
   "execution_count": 65,
   "metadata": {
    "colab": {
     "base_uri": "https://localhost:8080/"
    },
    "executionInfo": {
     "elapsed": 7,
     "status": "ok",
     "timestamp": 1702658177025,
     "user": {
      "displayName": "vishal waghmare",
      "userId": "08381415499094412684"
     },
     "user_tz": -330
    },
    "id": "YRdmjxGDSm4O",
    "outputId": "901cd132-93fe-4b69-a665-ace5f9aadf1b"
   },
   "outputs": [
    {
     "name": "stdout",
     "output_type": "stream",
     "text": [
      "10.6\n",
      "<class 'int'> <class 'float'>\n"
     ]
    }
   ],
   "source": [
    "# Implicit conversion : Interpreter automatically convert\n",
    "print(5+5.6)\n",
    "print(type(5),type(5.6))"
   ]
  },
  {
   "cell_type": "code",
   "execution_count": 67,
   "metadata": {
    "executionInfo": {
     "elapsed": 5,
     "status": "ok",
     "timestamp": 1702658267666,
     "user": {
      "displayName": "vishal waghmare",
      "userId": "08381415499094412684"
     },
     "user_tz": -330
    },
    "id": "_xXvi4xMVDq5"
   },
   "outputs": [],
   "source": [
    "# Explicit\n",
    "# print(4 + '4')"
   ]
  },
  {
   "cell_type": "code",
   "execution_count": 68,
   "metadata": {
    "colab": {
     "base_uri": "https://localhost:8080/"
    },
    "executionInfo": {
     "elapsed": 4,
     "status": "ok",
     "timestamp": 1702658759084,
     "user": {
      "displayName": "vishal waghmare",
      "userId": "08381415499094412684"
     },
     "user_tz": -330
    },
    "id": "iDm5fWoyVz1T",
    "outputId": "6e97f3bd-4412-4ed7-a5b8-fbb4988be9c5"
   },
   "outputs": [
    {
     "data": {
      "text/plain": [
       "5"
      ]
     },
     "execution_count": 68,
     "metadata": {},
     "output_type": "execute_result"
    }
   ],
   "source": [
    "int(5.6)"
   ]
  },
  {
   "cell_type": "code",
   "execution_count": 71,
   "metadata": {
    "executionInfo": {
     "elapsed": 4,
     "status": "ok",
     "timestamp": 1702658801625,
     "user": {
      "displayName": "vishal waghmare",
      "userId": "08381415499094412684"
     },
     "user_tz": -330
    },
    "id": "OcDzPFygXsQZ"
   },
   "outputs": [],
   "source": [
    "# int(4+6j) #TypeError: int() argument must be a string, a bytes-like object or a real number, not 'complex'"
   ]
  },
  {
   "cell_type": "code",
   "execution_count": 72,
   "metadata": {
    "colab": {
     "base_uri": "https://localhost:8080/",
     "height": 35
    },
    "executionInfo": {
     "elapsed": 18,
     "status": "ok",
     "timestamp": 1702658863528,
     "user": {
      "displayName": "vishal waghmare",
      "userId": "08381415499094412684"
     },
     "user_tz": -330
    },
    "id": "MQBQz-ILXvlM",
    "outputId": "22255103-3ede-4271-af02-12ae89c17f5a"
   },
   "outputs": [
    {
     "data": {
      "application/vnd.google.colaboratory.intrinsic+json": {
       "type": "string"
      },
      "text/plain": [
       "'5'"
      ]
     },
     "execution_count": 72,
     "metadata": {},
     "output_type": "execute_result"
    }
   ],
   "source": [
    "str(5)"
   ]
  },
  {
   "cell_type": "code",
   "execution_count": 73,
   "metadata": {
    "colab": {
     "base_uri": "https://localhost:8080/"
    },
    "executionInfo": {
     "elapsed": 7,
     "status": "ok",
     "timestamp": 1702658870357,
     "user": {
      "displayName": "vishal waghmare",
      "userId": "08381415499094412684"
     },
     "user_tz": -330
    },
    "id": "uUYEjNlHYGjp",
    "outputId": "a234accf-9edb-430e-b821-4770d7d67e79"
   },
   "outputs": [
    {
     "data": {
      "text/plain": [
       "4.0"
      ]
     },
     "execution_count": 73,
     "metadata": {},
     "output_type": "execute_result"
    }
   ],
   "source": [
    "float(4)"
   ]
  },
  {
   "cell_type": "markdown",
   "metadata": {
    "id": "-Bxk_vdgcWob"
   },
   "source": [
    "# 7.Literals"
   ]
  },
  {
   "cell_type": "code",
   "execution_count": 80,
   "metadata": {
    "colab": {
     "base_uri": "https://localhost:8080/"
    },
    "executionInfo": {
     "elapsed": 8,
     "status": "ok",
     "timestamp": 1702660991655,
     "user": {
      "displayName": "vishal waghmare",
      "userId": "08381415499094412684"
     },
     "user_tz": -330
    },
    "id": "GSFs3DVfYIP_",
    "outputId": "1376ec92-3e21-4da0-850e-965996489748"
   },
   "outputs": [
    {
     "name": "stdout",
     "output_type": "stream",
     "text": [
      "10 100 200 300\n",
      "10.5 150.0 -1.47\n",
      "3.14j 3.14 0.0\n"
     ]
    }
   ],
   "source": [
    "# jo bhi raw value ko variable me store kiya jata hai usko Literal kehte hai.\n",
    "\n",
    "a = 0b1010 # Binary Literals\n",
    "b = 100 # Decimal Literal\n",
    "c = 0o310 # Octal Literal\n",
    "d = 0x12c # Hexadecimal Literal\n",
    "\n",
    "# Float Literal\n",
    "flaot_1 = 10.5\n",
    "float_2 = 1.5e2  # 1.5 * 10^2   (for big numbers)\n",
    "flaot_3 = 1.53-3  # 1.5 * 10^-3   (for small numbers)\n",
    "\n",
    "# Complex Literal\n",
    "x = 3.14j\n",
    "\n",
    "print(a, b, c, d)\n",
    "print(flaot_1, float_2, flaot_3)\n",
    "print(x,x.imag,x.real)"
   ]
  },
  {
   "cell_type": "code",
   "execution_count": 76,
   "metadata": {
    "colab": {
     "base_uri": "https://localhost:8080/"
    },
    "executionInfo": {
     "elapsed": 6,
     "status": "ok",
     "timestamp": 1702660466621,
     "user": {
      "displayName": "vishal waghmare",
      "userId": "08381415499094412684"
     },
     "user_tz": -330
    },
    "id": "qNGvCu49YKdu",
    "outputId": "b4cde736-3707-49b8-bdc2-34f8982b27e9"
   },
   "outputs": [
    {
     "name": "stdout",
     "output_type": "stream",
     "text": [
      "10\n"
     ]
    }
   ],
   "source": [
    "# binary\n",
    "a = 0b1010\n",
    "print(a)"
   ]
  },
  {
   "cell_type": "code",
   "execution_count": 77,
   "metadata": {
    "colab": {
     "base_uri": "https://localhost:8080/"
    },
    "executionInfo": {
     "elapsed": 4,
     "status": "ok",
     "timestamp": 1702660599733,
     "user": {
      "displayName": "vishal waghmare",
      "userId": "08381415499094412684"
     },
     "user_tz": -330
    },
    "id": "tvFkqLaHeJm6",
    "outputId": "88c8a3b3-8b75-4436-b322-42bd1e2db1b6"
   },
   "outputs": [
    {
     "name": "stdout",
     "output_type": "stream",
     "text": [
      "200\n"
     ]
    }
   ],
   "source": [
    "# Octal\n",
    "b = 0o310\n",
    "print(b)"
   ]
  },
  {
   "cell_type": "code",
   "execution_count": 78,
   "metadata": {
    "colab": {
     "base_uri": "https://localhost:8080/"
    },
    "executionInfo": {
     "elapsed": 5,
     "status": "ok",
     "timestamp": 1702660667319,
     "user": {
      "displayName": "vishal waghmare",
      "userId": "08381415499094412684"
     },
     "user_tz": -330
    },
    "id": "KzF1Llzweul3",
    "outputId": "e32fa2a4-b9b6-4bc4-d721-91c329e1adf0"
   },
   "outputs": [
    {
     "name": "stdout",
     "output_type": "stream",
     "text": [
      "300\n"
     ]
    }
   ],
   "source": [
    "# Hexadecimal\n",
    "d = 0x12c\n",
    "print(d)"
   ]
  },
  {
   "cell_type": "code",
   "execution_count": 79,
   "metadata": {
    "colab": {
     "base_uri": "https://localhost:8080/"
    },
    "executionInfo": {
     "elapsed": 6,
     "status": "ok",
     "timestamp": 1702660808259,
     "user": {
      "displayName": "vishal waghmare",
      "userId": "08381415499094412684"
     },
     "user_tz": -330
    },
    "id": "GP1XVZmEe-7G",
    "outputId": "29ed5c7d-5655-4496-aea8-5835dcdc7c03"
   },
   "outputs": [
    {
     "name": "stdout",
     "output_type": "stream",
     "text": [
      "150.0\n"
     ]
    }
   ],
   "source": [
    "# Float\n",
    "c = 1.5e2\n",
    "print(c)"
   ]
  },
  {
   "cell_type": "code",
   "execution_count": null,
   "metadata": {
    "id": "OPZ11pQqfhRb"
   },
   "outputs": [],
   "source": []
  },
  {
   "cell_type": "code",
   "execution_count": 81,
   "metadata": {
    "colab": {
     "base_uri": "https://localhost:8080/"
    },
    "executionInfo": {
     "elapsed": 4,
     "status": "ok",
     "timestamp": 1702661427606,
     "user": {
      "displayName": "vishal waghmare",
      "userId": "08381415499094412684"
     },
     "user_tz": -330
    },
    "id": "6qSBygxDg2eP",
    "outputId": "405b2f6e-4618-48a4-a75e-5ee5dde6065b"
   },
   "outputs": [
    {
     "name": "stdout",
     "output_type": "stream",
     "text": [
      "This is Python\n",
      "This is Python\n",
      "C\n",
      "This is a multiline string with more than one line code.\n",
      "😀😆🤣\n",
      "raw \\n string\n"
     ]
    }
   ],
   "source": [
    "string = \"This is Python\"\n",
    "strings= 'This is Python'\n",
    "char = \"C\"\n",
    "multiline_str = \"\"\"This is a multiline string with more than one line code.\"\"\"\n",
    "unicode = u\"\\U0001f600\\U0001F606\\U0001F923\"\n",
    "raw_str = r\"raw \\n string\"\n",
    "\n",
    "print(string)\n",
    "print(strings)\n",
    "print(char)\n",
    "print(multiline_str)\n",
    "print(unicode)\n",
    "print(raw_str)"
   ]
  },
  {
   "cell_type": "code",
   "execution_count": 83,
   "metadata": {
    "colab": {
     "base_uri": "https://localhost:8080/"
    },
    "executionInfo": {
     "elapsed": 969,
     "status": "ok",
     "timestamp": 1702662792915,
     "user": {
      "displayName": "vishal waghmare",
      "userId": "08381415499094412684"
     },
     "user_tz": -330
    },
    "id": "dzMiS12Oh4eZ",
    "outputId": "bb2855fd-ff1e-4c8b-b288-01e52e63218b"
   },
   "outputs": [
    {
     "name": "stdout",
     "output_type": "stream",
     "text": [
      "a : 5\n",
      "b : 10\n"
     ]
    }
   ],
   "source": [
    "a = True + 4\n",
    "b = False + 10\n",
    "print(\"a :\",a)\n",
    "print(\"b :\",b)"
   ]
  },
  {
   "cell_type": "code",
   "execution_count": 84,
   "metadata": {
    "colab": {
     "base_uri": "https://localhost:8080/"
    },
    "executionInfo": {
     "elapsed": 5,
     "status": "ok",
     "timestamp": 1702662811805,
     "user": {
      "displayName": "vishal waghmare",
      "userId": "08381415499094412684"
     },
     "user_tz": -330
    },
    "id": "vCu-uD6cnCIe",
    "outputId": "711a5239-4e29-444b-9cd4-d1f73691cb75"
   },
   "outputs": [
    {
     "name": "stdout",
     "output_type": "stream",
     "text": [
      "None\n"
     ]
    }
   ],
   "source": [
    "a = None\n",
    "print(a)"
   ]
  },
  {
   "cell_type": "code",
   "execution_count": null,
   "metadata": {
    "id": "n_r_T2JqnKgi"
   },
   "outputs": [],
   "source": []
  }
 ],
 "metadata": {
  "colab": {
   "authorship_tag": "ABX9TyPP9JelV93Jlf+HnmCnPzRz",
   "provenance": [],
   "toc_visible": true
  },
  "kernelspec": {
   "display_name": "Python 3 (ipykernel)",
   "language": "python",
   "name": "python3"
  },
  "language_info": {
   "codemirror_mode": {
    "name": "ipython",
    "version": 3
   },
   "file_extension": ".py",
   "mimetype": "text/x-python",
   "name": "python",
   "nbconvert_exporter": "python",
   "pygments_lexer": "ipython3",
   "version": "3.10.12"
  }
 },
 "nbformat": 4,
 "nbformat_minor": 1
}
