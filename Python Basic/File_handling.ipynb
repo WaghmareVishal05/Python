{
 "cells": [
  {
   "cell_type": "markdown",
   "id": "a10d6c96",
   "metadata": {},
   "source": [
    "# Writing to a file"
   ]
  },
  {
   "cell_type": "markdown",
   "id": "5f133915",
   "metadata": {},
   "source": [
    "## 'w' -> write mode replace karta hai.\n",
    "## 'a' -> append mode replace nahi karta at the end add karta hai.\n",
    "\n",
    "\n",
    "#### why need to close the file.\n",
    "\n",
    "* To free the resources"
   ]
  },
  {
   "cell_type": "code",
   "execution_count": 10,
   "id": "4ac16c8d",
   "metadata": {},
   "outputs": [],
   "source": [
    "### case 1 - if the file is not present\n",
    "\n",
    "\n",
    "f = open('sample.txt','w') ## created file handler object.\n",
    "f.write('Hello World')\n",
    "f.close()\n",
    "\n",
    "# since file is closed hence this will not work\n",
    "# f.write('hello')"
   ]
  },
  {
   "cell_type": "code",
   "execution_count": 6,
   "id": "c442705b",
   "metadata": {},
   "outputs": [],
   "source": [
    "## write multiline strings\n",
    "f = open('sample.txt','w')\n",
    "f.write('Hello World')\n",
    "f.write('\\n How are you?')\n",
    "f.close()"
   ]
  },
  {
   "cell_type": "code",
   "execution_count": 7,
   "id": "1fd962c5",
   "metadata": {},
   "outputs": [],
   "source": [
    "### case 2 - if the file is already present\n",
    "# if you are writting on existing file, previous content should be replaced by new.\n",
    "f = open('sample.txt','w')\n",
    "f.write('Salman Khan')\n",
    "f.close()"
   ]
  },
  {
   "cell_type": "code",
   "execution_count": 8,
   "id": "039bc0b1",
   "metadata": {},
   "outputs": [],
   "source": [
    "### how exactly open() works?"
   ]
  },
  {
   "cell_type": "code",
   "execution_count": 9,
   "id": "64fa3a60",
   "metadata": {},
   "outputs": [],
   "source": [
    "# Problem with w mode (delete previous data)\n",
    "# Introducing append mode\n",
    "f = open('/home/vishal/Desktop/Python/Python Basic/sample.txt','a')\n",
    "f.write('\\n I am fine')\n",
    "f.close()"
   ]
  },
  {
   "cell_type": "markdown",
   "id": "64f331ac",
   "metadata": {},
   "source": [
    "## write the multiple lines"
   ]
  },
  {
   "cell_type": "code",
   "execution_count": 4,
   "id": "4b4010a0",
   "metadata": {},
   "outputs": [],
   "source": [
    "## write lines\n",
    "## instead of list we can use any data types\n",
    "l = ['hello\\n','hi\\n','how are you\\n','I am fine']\n",
    "\n",
    "f = open('sample.txt','w')\n",
    "f.writelines(l)\n",
    "f.close()"
   ]
  },
  {
   "cell_type": "markdown",
   "id": "74ce15c7",
   "metadata": {},
   "source": [
    "### read the the whole text at a time\n",
    "### readline read the line by line"
   ]
  },
  {
   "cell_type": "code",
   "execution_count": 6,
   "id": "01131139",
   "metadata": {},
   "outputs": [
    {
     "name": "stdout",
     "output_type": "stream",
     "text": [
      "hello\n",
      "hi\n",
      "h\n"
     ]
    }
   ],
   "source": [
    "# reading from files\n",
    "# -> using read()\n",
    "\n",
    "f = open('sample.txt','r')\n",
    "s = f.read(10)   # we can read only n number of characters in the file\n",
    "print(s)"
   ]
  },
  {
   "cell_type": "code",
   "execution_count": 8,
   "id": "3407dce1",
   "metadata": {},
   "outputs": [
    {
     "name": "stdout",
     "output_type": "stream",
     "text": [
      "hello\n",
      "hi\n",
      "\n"
     ]
    }
   ],
   "source": [
    "## --> when we have big content or we are unable to load the whole content at \n",
    "# a time then we use line by line\n",
    "\n",
    "\n",
    "## read line by line\n",
    "f = open('sample.txt','r')\n",
    "print(f.readline(),end='')\n",
    "print(f.readline())"
   ]
  },
  {
   "cell_type": "code",
   "execution_count": 9,
   "id": "99b87dd3",
   "metadata": {},
   "outputs": [
    {
     "name": "stdout",
     "output_type": "stream",
     "text": [
      "hello\n",
      "hi\n",
      "how are you\n",
      "I am fine"
     ]
    }
   ],
   "source": [
    "## reading entire using readline\n",
    "\n",
    "f = open('sample.txt','r')\n",
    "\n",
    "while True:\n",
    "    \n",
    "    data = f.readline()\n",
    "    \n",
    "    if data == '':\n",
    "        break\n",
    "    else:\n",
    "        print(data,end='')\n",
    "f.close()"
   ]
  },
  {
   "cell_type": "markdown",
   "id": "78c56097",
   "metadata": {},
   "source": [
    "# Using Context Manager(With)\n",
    "* It's a good idea to close a file after usage as it will free up the resources\n",
    "* If we don't close it, garbage collector would close it\n",
    "* with keyword closes the file as soon as the usage is over.\n",
    "\n",
    "\n",
    "\n",
    "The with keyword in Python is used for resource management and exception handling. It provides a clean and concise way to ensure that resources are properly closed or cleaned up after you've finished using them, even if exceptions occur."
   ]
  },
  {
   "cell_type": "code",
   "execution_count": 18,
   "id": "53d8aafa",
   "metadata": {},
   "outputs": [],
   "source": [
    "# with \n",
    "with open('sample.txt','w') as f:\n",
    "    f.write('salman bahi')"
   ]
  },
  {
   "cell_type": "code",
   "execution_count": 21,
   "id": "b572fe99",
   "metadata": {},
   "outputs": [],
   "source": [
    "# f.write()  # --> giving error because the file is close by 'with' keyword"
   ]
  },
  {
   "cell_type": "code",
   "execution_count": 22,
   "id": "23c0c669",
   "metadata": {},
   "outputs": [
    {
     "name": "stdout",
     "output_type": "stream",
     "text": [
      "salman bahi\n"
     ]
    }
   ],
   "source": [
    "# read with (with)\n",
    "with open('sample.txt','r') as f:\n",
    "    print(f.read())"
   ]
  },
  {
   "cell_type": "code",
   "execution_count": 23,
   "id": "1cbfd181",
   "metadata": {},
   "outputs": [],
   "source": [
    "# print(f.read())  #---> ValueError: I/O operation on closed file."
   ]
  },
  {
   "cell_type": "code",
   "execution_count": 26,
   "id": "abfc138f",
   "metadata": {},
   "outputs": [
    {
     "name": "stdout",
     "output_type": "stream",
     "text": [
      "salman bah\n",
      "i\n"
     ]
    }
   ],
   "source": [
    "## moving within a file -> 10 char then 10 char\n",
    "with open('sample.txt','r') as f:\n",
    "    print(f.read(10))\n",
    "    print(f.read(10))"
   ]
  },
  {
   "cell_type": "code",
   "execution_count": 1,
   "id": "f05e9120",
   "metadata": {},
   "outputs": [],
   "source": [
    "# benefit? -> to load a big file in memory\n",
    "\n",
    "big_l = ['hello world' for i in range(1000)]\n",
    "\n",
    "with open('big.txt','w') as f:\n",
    "    f.writelines(big_l)"
   ]
  },
  {
   "cell_type": "code",
   "execution_count": 2,
   "id": "2b0a2fb5",
   "metadata": {},
   "outputs": [
    {
     "name": "stdout",
     "output_type": "stream",
     "text": [
      "dhello wor***orldhello ***o worldhel***ello world***ldhello wo***worldhello***lo worldhe***hello worl***rldhello w*** worldhell***llo worldh***dhello wor***orldhello ***o worldhel***ello world***ldhello wo***worldhello***lo worldhe***hello worl***rldhello w*** worldhell***llo worldh***dhello wor***orldhello ***o worldhel***ello world***ldhello wo***worldhello***lo worldhe***hello worl***rldhello w*** worldhell***llo worldh***dhello wor***orldhello ***o worldhel***ello world***ldhello wo***worldhello***lo worldhe***hello worl***rldhello w*** worldhell***llo worldh***dhello wor***orldhello ***o worldhel***ello world***ldhello wo***worldhello***lo worldhe***hello worl***rldhello w*** worldhell***llo worldh***dhello wor***orldhello ***o worldhel***ello world***ldhello wo***worldhello***lo worldhe***hello worl***rldhello w*** worldhell***llo worldh***dhello wor***orldhello ***o worldhel***ello world***ldhello wo***worldhello***lo worldhe***hello worl***rldhello w*** worldhell***llo worldh***dhello wor***orldhello ***o worldhel***ello world***ldhello wo***worldhello***lo worldhe***hello worl***rldhello w*** worldhell***llo worldh***dhello wor***orldhello ***o worldhel***ello world***ldhello wo***worldhello***lo worldhe***hello worl***rldhello w*** worldhell***llo worldh***dhello wor***orldhello ***o worldhel***ello world***ldhello wo***worldhello***lo worldhe***hello worl***rldhello w*** worldhell***llo worldh***dhello wor***orldhello ***o worldhel***ello world***ldhello wo***worldhello***lo worldhe***hello worl***rldhello w*** worldhell***llo worldh***dhello wor***orldhello ***o worldhel***ello world***ldhello wo***worldhello***lo worldhe***hello worl***rldhello w*** worldhell***llo worldh***dhello wor***orldhello ***o worldhel***ello world***ldhello wo***worldhello***lo worldhe***hello worl***rldhello w*** worldhell***llo worldh***dhello wor***orldhello ***o worldhel***ello world***ldhello wo***worldhello***lo worldhe***hello worl***rldhello w*** worldhell***llo worldh***dhello wor***orldhello ***o worldhel***ello world***ldhello wo***worldhello***lo worldhe***hello worl***rldhello w*** worldhell***llo worldh***dhello wor***orldhello ***o worldhel***ello world***ldhello wo***worldhello***lo worldhe***hello worl***rldhello w*** worldhell***llo worldh***dhello wor***orldhello ***o worldhel***ello world***ldhello wo***worldhello***lo worldhe***hello worl***rldhello w*** worldhell***llo worldh***dhello wor***orldhello ***o worldhel***ello world***ldhello wo***worldhello***lo worldhe***hello worl***rldhello w*** worldhell***llo worldh***dhello wor***orldhello ***o worldhel***ello world***ldhello wo***worldhello***lo worldhe***hello worl***rldhello w*** worldhell***llo worldh***dhello wor***orldhello ***o worldhel***ello world***ldhello wo***worldhello***lo worldhe***hello worl***rldhello w*** worldhell***llo worldh***dhello wor***orldhello ***o worldhel***ello world***ldhello wo***worldhello***lo worldhe***hello worl***rldhello w*** worldhell***llo worldh***dhello wor***orldhello ***o worldhel***ello world***ldhello wo***worldhello***lo worldhe***hello worl***rldhello w*** worldhell***llo worldh***dhello wor***orldhello ***o worldhel***ello world***ldhello wo***worldhello***lo worldhe***hello worl***rldhello w*** worldhell***llo worldh***dhello wor***orldhello ***o worldhel***ello world***ldhello wo***worldhello***lo worldhe***hello worl***rldhello w*** worldhell***llo worldh***dhello wor***orldhello ***o worldhel***ello world***ldhello wo***worldhello***lo worldhe***hello worl***rldhello w*** worldhell***llo worldh***dhello wor***orldhello ***o worldhel***ello world***ldhello wo***worldhello***lo worldhe***hello worl***rldhello w*** worldhell***llo worldh***dhello wor***orldhello ***o worldhel***ello world***ldhello wo***worldhello***lo worldhe***hello worl***rldhello w*** worldhell***llo worldh***dhello wor***orldhello ***o worldhel***ello world***ldhello wo***worldhello***lo worldhe***hello worl***rldhello w*** worldhell***llo worldh***dhello wor***orldhello ***o worldhel***ello world***ldhello wo***worldhello***lo worldhe***hello worl***rldhello w*** worldhell***llo worldh***dhello wor***orldhello ***o worldhel***ello world***ldhello wo***worldhello***lo worldhe***hello worl***rldhello w*** worldhell***llo worldh***dhello wor***orldhello ***o worldhel***ello world***ldhello wo***worldhello***lo worldhe***hello worl***rldhello w*** worldhell***llo worldh***dhello wor***orldhello ***o worldhel***ello world***ldhello wo***worldhello***lo worldhe***hello worl***rldhello w*** worldhell***llo worldh***dhello wor***orldhello ***o worldhel***ello world***ldhello wo***worldhello***lo worldhe***hello worl***rldhello w*** worldhell***llo worldh***dhello wor***orldhello ***o worldhel***ello world***"
     ]
    }
   ],
   "source": [
    " with open('big.txt','r') as f:\n",
    "        \n",
    "        chunk_size = 10\n",
    "        \n",
    "        while len(f.read(chunk_size)) > 0:\n",
    "            print(f.read(chunk_size),end='***')\n",
    "            f.read(chunk_size)"
   ]
  },
  {
   "cell_type": "markdown",
   "id": "50fd6e58",
   "metadata": {},
   "source": [
    "## seek and tell function\n",
    "tell --> use to tell the next character index number.\n",
    "\n",
    "seek --> change the index position from where start."
   ]
  },
  {
   "cell_type": "code",
   "execution_count": 5,
   "id": "76b732c5",
   "metadata": {},
   "outputs": [
    {
     "name": "stdout",
     "output_type": "stream",
     "text": [
      "salman bah\n",
      "10\n",
      "lman bahi\n",
      "11\n"
     ]
    }
   ],
   "source": [
    "# seek and tell function\n",
    "with open('sample.txt','r') as f:\n",
    "    print(f.read(10))\n",
    "    print(f.tell())\n",
    "    f.seek(2)\n",
    "    print(f.read(10))\n",
    "    print(f.tell())"
   ]
  },
  {
   "cell_type": "code",
   "execution_count": 7,
   "id": "83e4dfd1",
   "metadata": {},
   "outputs": [],
   "source": [
    "## seek during write\n",
    "with open('sample.txt','w') as f:\n",
    "    f.write('hello')\n",
    "    f.seek(0)\n",
    "    f.write('Xa')"
   ]
  },
  {
   "cell_type": "markdown",
   "id": "7d7d1b99",
   "metadata": {},
   "source": [
    "## Problems with working in text mode\n",
    "* can't work with binary files like images\n",
    "* not good for other data types like int/float/list/tuple"
   ]
  },
  {
   "cell_type": "code",
   "execution_count": 3,
   "id": "e592ce83",
   "metadata": {},
   "outputs": [
    {
     "ename": "UnicodeDecodeError",
     "evalue": "'utf-8' codec can't decode byte 0xff in position 0: invalid start byte",
     "output_type": "error",
     "traceback": [
      "\u001b[0;31m---------------------------------------------------------------------------\u001b[0m",
      "\u001b[0;31mUnicodeDecodeError\u001b[0m                        Traceback (most recent call last)",
      "Cell \u001b[0;32mIn[3], line 3\u001b[0m\n\u001b[1;32m      1\u001b[0m \u001b[38;5;66;03m# working with binary file\u001b[39;00m\n\u001b[1;32m      2\u001b[0m \u001b[38;5;28;01mwith\u001b[39;00m \u001b[38;5;28mopen\u001b[39m(\u001b[38;5;124m'\u001b[39m\u001b[38;5;124mwari1.jpeg\u001b[39m\u001b[38;5;124m'\u001b[39m,\u001b[38;5;124m'\u001b[39m\u001b[38;5;124mr\u001b[39m\u001b[38;5;124m'\u001b[39m) \u001b[38;5;28;01mas\u001b[39;00m f:\n\u001b[0;32m----> 3\u001b[0m     f\u001b[38;5;241m.\u001b[39mread()\n",
      "File \u001b[0;32m<frozen codecs>:322\u001b[0m, in \u001b[0;36mdecode\u001b[0;34m(self, input, final)\u001b[0m\n",
      "\u001b[0;31mUnicodeDecodeError\u001b[0m: 'utf-8' codec can't decode byte 0xff in position 0: invalid start byte"
     ]
    }
   ],
   "source": [
    "# working with binary file\n",
    "with open('wari1.jpeg','r') as f:\n",
    "    f.read()"
   ]
  },
  {
   "cell_type": "code",
   "execution_count": 9,
   "id": "7528c835",
   "metadata": {},
   "outputs": [],
   "source": [
    "with open('wari1.jpeg','rb') as f:\n",
    "    with open('wari_copy.jpeg','wb') as wf:\n",
    "        wf.write(f.read())"
   ]
  },
  {
   "cell_type": "code",
   "execution_count": 10,
   "id": "63051d44",
   "metadata": {},
   "outputs": [
    {
     "ename": "TypeError",
     "evalue": "write() argument must be str, not int",
     "output_type": "error",
     "traceback": [
      "\u001b[0;31m---------------------------------------------------------------------------\u001b[0m",
      "\u001b[0;31mTypeError\u001b[0m                                 Traceback (most recent call last)",
      "Cell \u001b[0;32mIn[10], line 3\u001b[0m\n\u001b[1;32m      1\u001b[0m \u001b[38;5;66;03m## working with other datatypes\u001b[39;00m\n\u001b[1;32m      2\u001b[0m \u001b[38;5;28;01mwith\u001b[39;00m \u001b[38;5;28mopen\u001b[39m(\u001b[38;5;124m'\u001b[39m\u001b[38;5;124msample.txt\u001b[39m\u001b[38;5;124m'\u001b[39m,\u001b[38;5;124m'\u001b[39m\u001b[38;5;124mw\u001b[39m\u001b[38;5;124m'\u001b[39m) \u001b[38;5;28;01mas\u001b[39;00m f:\n\u001b[0;32m----> 3\u001b[0m     f\u001b[38;5;241m.\u001b[39mwrite(\u001b[38;5;241m5\u001b[39m)\n",
      "\u001b[0;31mTypeError\u001b[0m: write() argument must be str, not int"
     ]
    }
   ],
   "source": [
    "## working with other datatypes\n",
    "with open('sample.txt','w') as f:\n",
    "    f.write(5)"
   ]
  },
  {
   "cell_type": "code",
   "execution_count": 4,
   "id": "606efe0c",
   "metadata": {},
   "outputs": [],
   "source": [
    "#TXT chhod ke kisi or data type ke sath kaam nahi karta\n",
    "\n",
    "with open('sample.txt','w') as f:\n",
    "    f.write('5')"
   ]
  },
  {
   "cell_type": "code",
   "execution_count": 6,
   "id": "a75d48cd",
   "metadata": {},
   "outputs": [
    {
     "ename": "TypeError",
     "evalue": "can only concatenate str (not \"int\") to str",
     "output_type": "error",
     "traceback": [
      "\u001b[0;31m---------------------------------------------------------------------------\u001b[0m",
      "\u001b[0;31mTypeError\u001b[0m                                 Traceback (most recent call last)",
      "Cell \u001b[0;32mIn[6], line 2\u001b[0m\n\u001b[1;32m      1\u001b[0m \u001b[38;5;28;01mwith\u001b[39;00m \u001b[38;5;28mopen\u001b[39m(\u001b[38;5;124m'\u001b[39m\u001b[38;5;124msample.txt\u001b[39m\u001b[38;5;124m'\u001b[39m,\u001b[38;5;124m'\u001b[39m\u001b[38;5;124mr\u001b[39m\u001b[38;5;124m'\u001b[39m) \u001b[38;5;28;01mas\u001b[39;00m f:\n\u001b[0;32m----> 2\u001b[0m     \u001b[38;5;28mprint\u001b[39m(f\u001b[38;5;241m.\u001b[39mread() \u001b[38;5;241m+\u001b[39m \u001b[38;5;241m5\u001b[39m)\n",
      "\u001b[0;31mTypeError\u001b[0m: can only concatenate str (not \"int\") to str"
     ]
    }
   ],
   "source": [
    "with open('sample.txt','r') as f:\n",
    "    print(f.read() + 5)"
   ]
  },
  {
   "cell_type": "code",
   "execution_count": 7,
   "id": "2221ec0e",
   "metadata": {},
   "outputs": [
    {
     "name": "stdout",
     "output_type": "stream",
     "text": [
      "55\n"
     ]
    }
   ],
   "source": [
    "with open('sample.txt','r') as f:\n",
    "    print(f.read() + str(5))"
   ]
  },
  {
   "cell_type": "code",
   "execution_count": 8,
   "id": "7ddf444a",
   "metadata": {},
   "outputs": [],
   "source": [
    "# more complex data\n",
    "d = {\n",
    "    'name':'vishal',\n",
    "    'age':22,\n",
    "    'gender':'male'\n",
    "}\n",
    "\n",
    "with open('sample.txt','w') as f:\n",
    "    f.write(str(d))"
   ]
  },
  {
   "cell_type": "code",
   "execution_count": 11,
   "id": "8a691b5b",
   "metadata": {},
   "outputs": [
    {
     "name": "stdout",
     "output_type": "stream",
     "text": [
      "{'name': 'vishal', 'age': 22, 'gender': 'male'}\n",
      "<class 'str'>\n",
      "{}\n"
     ]
    }
   ],
   "source": [
    "with open('sample.txt','r') as f:\n",
    "    print(f.read())\n",
    "    print(type(f.read()))\n",
    "    print(dict(f.read()))"
   ]
  },
  {
   "cell_type": "code",
   "execution_count": 12,
   "id": "694f964b",
   "metadata": {},
   "outputs": [
    {
     "ename": "ValueError",
     "evalue": "dictionary update sequence element #0 has length 1; 2 is required",
     "output_type": "error",
     "traceback": [
      "\u001b[0;31m---------------------------------------------------------------------------\u001b[0m",
      "\u001b[0;31mValueError\u001b[0m                                Traceback (most recent call last)",
      "Cell \u001b[0;32mIn[12], line 2\u001b[0m\n\u001b[1;32m      1\u001b[0m \u001b[38;5;28;01mwith\u001b[39;00m \u001b[38;5;28mopen\u001b[39m(\u001b[38;5;124m'\u001b[39m\u001b[38;5;124msample.txt\u001b[39m\u001b[38;5;124m'\u001b[39m,\u001b[38;5;124m'\u001b[39m\u001b[38;5;124mr\u001b[39m\u001b[38;5;124m'\u001b[39m) \u001b[38;5;28;01mas\u001b[39;00m f:\n\u001b[0;32m----> 2\u001b[0m     \u001b[38;5;28mprint\u001b[39m(\u001b[38;5;28mdict\u001b[39m(f\u001b[38;5;241m.\u001b[39mread()))\n",
      "\u001b[0;31mValueError\u001b[0m: dictionary update sequence element #0 has length 1; 2 is required"
     ]
    }
   ],
   "source": [
    "with open('sample.txt','r') as f:\n",
    "    print(dict(f.read()))"
   ]
  },
  {
   "cell_type": "markdown",
   "id": "707971b8",
   "metadata": {},
   "source": [
    "* Serialization - process of converting python data types to JSON format.\n",
    "* Deserialization - process of converting JSON to python data types."
   ]
  },
  {
   "cell_type": "markdown",
   "id": "3c4be4f8",
   "metadata": {},
   "source": [
    "## JSON --> JataScript Object Notation   --> Universal data format"
   ]
  },
  {
   "cell_type": "code",
   "execution_count": 13,
   "id": "a834837b",
   "metadata": {},
   "outputs": [],
   "source": [
    "# serialization using json module\n",
    "# list\n",
    "import json\n",
    "\n",
    "L = [1,2,3,4]\n",
    "\n",
    "with open('demo.json','w') as f:\n",
    "    json.dump(L,f)"
   ]
  },
  {
   "cell_type": "code",
   "execution_count": 2,
   "id": "9680b198",
   "metadata": {},
   "outputs": [],
   "source": [
    "import json\n",
    "d = {\n",
    "    'name':'vishal',\n",
    "    'age':22,\n",
    "    'gender':'male'\n",
    "}\n",
    "\n",
    "with open('demo.json','w') as f:\n",
    "    json.dump(d,f)"
   ]
  },
  {
   "cell_type": "code",
   "execution_count": 6,
   "id": "bdfbe3e9",
   "metadata": {},
   "outputs": [
    {
     "name": "stdout",
     "output_type": "stream",
     "text": [
      "{'name': 'vishal', 'age': 22, 'gender': 'male'}\n",
      "<class 'dict'>\n"
     ]
    }
   ],
   "source": [
    "with open('demo.json','r') as f:\n",
    "    d = json.load(f)\n",
    "    print(d)\n",
    "    print(type(d))\n",
    "    "
   ]
  },
  {
   "cell_type": "markdown",
   "id": "c1b36563",
   "metadata": {},
   "source": [
    "# serialize and deserialize tuple\n",
    "\n",
    "\n",
    "tuple as list store hota hai, or deserialize karne pe bhi list dikta hai."
   ]
  },
  {
   "cell_type": "code",
   "execution_count": 7,
   "id": "59a80ad4",
   "metadata": {},
   "outputs": [],
   "source": [
    "import json\n",
    "\n",
    "t = (1,2,3,4,5)\n",
    "\n",
    "with open('demo.json','w') as f:\n",
    "    json.dump(t,f)"
   ]
  },
  {
   "cell_type": "code",
   "execution_count": 8,
   "id": "8978edab",
   "metadata": {},
   "outputs": [],
   "source": [
    "# serialize and deserialize a nested dict\n",
    "# see dumpas\n",
    "d = {\n",
    "    'student':'vishal',\n",
    "    'marks':[1,2,3,4,5]\n",
    "}\n",
    "\n",
    "with open('demo.json','w') as f:\n",
    "    json.dump(d,f)"
   ]
  },
  {
   "cell_type": "markdown",
   "id": "02a7fd97",
   "metadata": {},
   "source": [
    "# Serializing and Deserializing custom objects"
   ]
  },
  {
   "cell_type": "code",
   "execution_count": null,
   "id": "991749d5",
   "metadata": {},
   "outputs": [],
   "source": []
  }
 ],
 "metadata": {
  "kernelspec": {
   "display_name": "Python 3 (ipykernel)",
   "language": "python",
   "name": "python3"
  },
  "language_info": {
   "codemirror_mode": {
    "name": "ipython",
    "version": 3
   },
   "file_extension": ".py",
   "mimetype": "text/x-python",
   "name": "python",
   "nbconvert_exporter": "python",
   "pygments_lexer": "ipython3",
   "version": "3.11.5"
  }
 },
 "nbformat": 4,
 "nbformat_minor": 5
}
